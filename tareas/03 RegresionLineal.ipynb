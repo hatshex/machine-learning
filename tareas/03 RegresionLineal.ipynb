{
 "cells": [
  {
   "cell_type": "markdown",
   "metadata": {},
   "source": [
    "<img src=\"images/logoitam.gif\">\n",
    "\n",
    "# Maestría en Ciencia de Datos\n",
    "## Regresión Lineal \n",
    "\n",
    "* Machine Learning | Tarea 03 | 01 de septiembre de 2016 |\n",
    "* Alumna: Gabriela Flores Bracamontes |  Clave: 160124 |"
   ]
  },
  {
   "cell_type": "markdown",
   "metadata": {},
   "source": [
    "## Actividades\n",
    "* Haga una regresión lineal utilizando los datos provistos por el profesor (reglin)\n",
    "    - Utilize sklearn (LinearRegression) y el ipython Notebook\n",
    "    - Siga el procedimiento para generar modelos delineado por el profesor en clase\n",
    "    - Grafique los datos y el resultado del modelo\n",
    "    - Grafique como cambia el error con el valor de los pesos W\n",
    "        + Para diferentes valores de W calcule el error del modelo y grafique. \n",
    "        + Dónde quedan las W encontradas por sklearn\n"
   ]
  },
  {
   "cell_type": "markdown",
   "metadata": {},
   "source": [
    "## Bibliografía\n",
    "* http://blog.kaggle.com/2015/05/28/scikit-learn-video-6-linear-regression-plus-pandas-seaborn/"
   ]
  },
  {
   "cell_type": "markdown",
   "metadata": {},
   "source": [
    "## Model Evaluation Metrics for Regression\n",
    "\n",
    "For classification problems, we have only used classification accuracy as our evaluation metric. What metrics can we used for regression problems?\n",
    "\n",
    "**Mean Absolute Error** (MAE) is the mean of the absolute value of the errors:\n",
    "\n",
    "$$\\frac 1n\\sum_{i=1}^n|y_i-\\hat{y}_i|$$\n",
    "\n",
    "**Mean Squared Error** (MSE) is the mean of the squared errors:\n",
    "\n",
    "$$\\frac 1n\\sum_{i=1}^n(y_i-\\hat{y}_i)^2$$\n",
    "\n",
    "**Root Mean Squared Error** (RMSE) is the square root of the mean of the squared errors:\n",
    "\n",
    "$$\\sqrt{\\frac 1n\\sum_{i=1}^n(y_i-\\hat{y}_i)^2}$$\n"
   ]
  },
  {
   "cell_type": "code",
   "execution_count": 1,
   "metadata": {
    "collapsed": true
   },
   "outputs": [],
   "source": [
    "import pandas as pd\n",
    "import numpy as np\n",
    "import csv\n",
    "from sklearn.cross_validation import train_test_split\n",
    "from sklearn.linear_model import LinearRegression\n",
    "import matplotlib.pyplot as plt\n",
    "import math as mth\n",
    "%matplotlib inline\n"
   ]
  },
  {
   "cell_type": "markdown",
   "metadata": {},
   "source": [
    "## 1.- Cargo los datos"
   ]
  },
  {
   "cell_type": "code",
   "execution_count": 2,
   "metadata": {
    "collapsed": false,
    "scrolled": true
   },
   "outputs": [
    {
     "data": {
      "text/html": [
       "<div>\n",
       "<table border=\"1\" class=\"dataframe\">\n",
       "  <thead>\n",
       "    <tr style=\"text-align: right;\">\n",
       "      <th></th>\n",
       "      <th>X</th>\n",
       "      <th>y</th>\n",
       "    </tr>\n",
       "  </thead>\n",
       "  <tbody>\n",
       "    <tr>\n",
       "      <th>0</th>\n",
       "      <td>35.657897</td>\n",
       "      <td>28.074403</td>\n",
       "    </tr>\n",
       "    <tr>\n",
       "      <th>1</th>\n",
       "      <td>48.685931</td>\n",
       "      <td>36.674434</td>\n",
       "    </tr>\n",
       "    <tr>\n",
       "      <th>2</th>\n",
       "      <td>95.861773</td>\n",
       "      <td>67.903577</td>\n",
       "    </tr>\n",
       "    <tr>\n",
       "      <th>3</th>\n",
       "      <td>25.997253</td>\n",
       "      <td>11.931727</td>\n",
       "    </tr>\n",
       "    <tr>\n",
       "      <th>4</th>\n",
       "      <td>49.964772</td>\n",
       "      <td>30.286144</td>\n",
       "    </tr>\n",
       "    <tr>\n",
       "      <th>5</th>\n",
       "      <td>55.003337</td>\n",
       "      <td>44.274354</td>\n",
       "    </tr>\n",
       "    <tr>\n",
       "      <th>6</th>\n",
       "      <td>78.375881</td>\n",
       "      <td>49.032737</td>\n",
       "    </tr>\n",
       "    <tr>\n",
       "      <th>7</th>\n",
       "      <td>15.286028</td>\n",
       "      <td>13.862727</td>\n",
       "    </tr>\n",
       "    <tr>\n",
       "      <th>8</th>\n",
       "      <td>81.066092</td>\n",
       "      <td>55.742546</td>\n",
       "    </tr>\n",
       "    <tr>\n",
       "      <th>9</th>\n",
       "      <td>35.059204</td>\n",
       "      <td>30.345383</td>\n",
       "    </tr>\n",
       "    <tr>\n",
       "      <th>10</th>\n",
       "      <td>10.627199</td>\n",
       "      <td>8.284464</td>\n",
       "    </tr>\n",
       "    <tr>\n",
       "      <th>11</th>\n",
       "      <td>67.484259</td>\n",
       "      <td>36.490228</td>\n",
       "    </tr>\n",
       "    <tr>\n",
       "      <th>12</th>\n",
       "      <td>66.230640</td>\n",
       "      <td>46.133427</td>\n",
       "    </tr>\n",
       "    <tr>\n",
       "      <th>13</th>\n",
       "      <td>57.957191</td>\n",
       "      <td>41.872495</td>\n",
       "    </tr>\n",
       "    <tr>\n",
       "      <th>14</th>\n",
       "      <td>95.185536</td>\n",
       "      <td>66.043335</td>\n",
       "    </tr>\n",
       "    <tr>\n",
       "      <th>15</th>\n",
       "      <td>77.219095</td>\n",
       "      <td>52.730262</td>\n",
       "    </tr>\n",
       "    <tr>\n",
       "      <th>16</th>\n",
       "      <td>92.859492</td>\n",
       "      <td>54.155329</td>\n",
       "    </tr>\n",
       "    <tr>\n",
       "      <th>17</th>\n",
       "      <td>67.223617</td>\n",
       "      <td>41.865928</td>\n",
       "    </tr>\n",
       "    <tr>\n",
       "      <th>18</th>\n",
       "      <td>56.746339</td>\n",
       "      <td>36.157093</td>\n",
       "    </tr>\n",
       "    <tr>\n",
       "      <th>19</th>\n",
       "      <td>34.735291</td>\n",
       "      <td>30.568120</td>\n",
       "    </tr>\n",
       "    <tr>\n",
       "      <th>20</th>\n",
       "      <td>97.317591</td>\n",
       "      <td>64.330964</td>\n",
       "    </tr>\n",
       "    <tr>\n",
       "      <th>21</th>\n",
       "      <td>38.591213</td>\n",
       "      <td>19.841434</td>\n",
       "    </tr>\n",
       "    <tr>\n",
       "      <th>22</th>\n",
       "      <td>51.608742</td>\n",
       "      <td>35.630454</td>\n",
       "    </tr>\n",
       "    <tr>\n",
       "      <th>23</th>\n",
       "      <td>59.781250</td>\n",
       "      <td>37.527034</td>\n",
       "    </tr>\n",
       "    <tr>\n",
       "      <th>24</th>\n",
       "      <td>67.810553</td>\n",
       "      <td>43.936642</td>\n",
       "    </tr>\n",
       "    <tr>\n",
       "      <th>25</th>\n",
       "      <td>12.199013</td>\n",
       "      <td>13.374210</td>\n",
       "    </tr>\n",
       "    <tr>\n",
       "      <th>26</th>\n",
       "      <td>25.041432</td>\n",
       "      <td>18.876313</td>\n",
       "    </tr>\n",
       "    <tr>\n",
       "      <th>27</th>\n",
       "      <td>27.765660</td>\n",
       "      <td>14.286040</td>\n",
       "    </tr>\n",
       "    <tr>\n",
       "      <th>28</th>\n",
       "      <td>68.489203</td>\n",
       "      <td>44.008360</td>\n",
       "    </tr>\n",
       "    <tr>\n",
       "      <th>29</th>\n",
       "      <td>15.216642</td>\n",
       "      <td>17.682210</td>\n",
       "    </tr>\n",
       "    <tr>\n",
       "      <th>...</th>\n",
       "      <td>...</td>\n",
       "      <td>...</td>\n",
       "    </tr>\n",
       "    <tr>\n",
       "      <th>999</th>\n",
       "      <td>87.577378</td>\n",
       "      <td>50.821047</td>\n",
       "    </tr>\n",
       "    <tr>\n",
       "      <th>1000</th>\n",
       "      <td>82.166957</td>\n",
       "      <td>50.764372</td>\n",
       "    </tr>\n",
       "    <tr>\n",
       "      <th>1001</th>\n",
       "      <td>34.656976</td>\n",
       "      <td>20.382111</td>\n",
       "    </tr>\n",
       "    <tr>\n",
       "      <th>1002</th>\n",
       "      <td>58.941310</td>\n",
       "      <td>43.430510</td>\n",
       "    </tr>\n",
       "    <tr>\n",
       "      <th>1003</th>\n",
       "      <td>78.875733</td>\n",
       "      <td>51.901006</td>\n",
       "    </tr>\n",
       "    <tr>\n",
       "      <th>1004</th>\n",
       "      <td>59.029010</td>\n",
       "      <td>37.364507</td>\n",
       "    </tr>\n",
       "    <tr>\n",
       "      <th>1005</th>\n",
       "      <td>97.149709</td>\n",
       "      <td>66.186439</td>\n",
       "    </tr>\n",
       "    <tr>\n",
       "      <th>1006</th>\n",
       "      <td>98.433789</td>\n",
       "      <td>67.416817</td>\n",
       "    </tr>\n",
       "    <tr>\n",
       "      <th>1007</th>\n",
       "      <td>2.459832</td>\n",
       "      <td>5.691373</td>\n",
       "    </tr>\n",
       "    <tr>\n",
       "      <th>1008</th>\n",
       "      <td>13.227604</td>\n",
       "      <td>9.330900</td>\n",
       "    </tr>\n",
       "    <tr>\n",
       "      <th>1009</th>\n",
       "      <td>74.039264</td>\n",
       "      <td>47.347642</td>\n",
       "    </tr>\n",
       "    <tr>\n",
       "      <th>1010</th>\n",
       "      <td>19.903694</td>\n",
       "      <td>12.634800</td>\n",
       "    </tr>\n",
       "    <tr>\n",
       "      <th>1011</th>\n",
       "      <td>9.963961</td>\n",
       "      <td>11.554361</td>\n",
       "    </tr>\n",
       "    <tr>\n",
       "      <th>1012</th>\n",
       "      <td>17.743197</td>\n",
       "      <td>14.314224</td>\n",
       "    </tr>\n",
       "    <tr>\n",
       "      <th>1013</th>\n",
       "      <td>91.421756</td>\n",
       "      <td>55.690169</td>\n",
       "    </tr>\n",
       "    <tr>\n",
       "      <th>1014</th>\n",
       "      <td>55.388254</td>\n",
       "      <td>28.850092</td>\n",
       "    </tr>\n",
       "    <tr>\n",
       "      <th>1015</th>\n",
       "      <td>81.563611</td>\n",
       "      <td>51.011377</td>\n",
       "    </tr>\n",
       "    <tr>\n",
       "      <th>1016</th>\n",
       "      <td>67.634153</td>\n",
       "      <td>38.225826</td>\n",
       "    </tr>\n",
       "    <tr>\n",
       "      <th>1017</th>\n",
       "      <td>61.210794</td>\n",
       "      <td>38.130862</td>\n",
       "    </tr>\n",
       "    <tr>\n",
       "      <th>1018</th>\n",
       "      <td>60.426290</td>\n",
       "      <td>39.935617</td>\n",
       "    </tr>\n",
       "    <tr>\n",
       "      <th>1019</th>\n",
       "      <td>20.828499</td>\n",
       "      <td>14.802500</td>\n",
       "    </tr>\n",
       "    <tr>\n",
       "      <th>1020</th>\n",
       "      <td>13.607691</td>\n",
       "      <td>10.221028</td>\n",
       "    </tr>\n",
       "    <tr>\n",
       "      <th>1021</th>\n",
       "      <td>86.939856</td>\n",
       "      <td>56.034948</td>\n",
       "    </tr>\n",
       "    <tr>\n",
       "      <th>1022</th>\n",
       "      <td>65.487903</td>\n",
       "      <td>46.100847</td>\n",
       "    </tr>\n",
       "    <tr>\n",
       "      <th>1023</th>\n",
       "      <td>9.221942</td>\n",
       "      <td>6.720162</td>\n",
       "    </tr>\n",
       "    <tr>\n",
       "      <th>1024</th>\n",
       "      <td>36.091325</td>\n",
       "      <td>19.807188</td>\n",
       "    </tr>\n",
       "    <tr>\n",
       "      <th>1025</th>\n",
       "      <td>77.619137</td>\n",
       "      <td>50.570437</td>\n",
       "    </tr>\n",
       "    <tr>\n",
       "      <th>1026</th>\n",
       "      <td>46.785876</td>\n",
       "      <td>31.300900</td>\n",
       "    </tr>\n",
       "    <tr>\n",
       "      <th>1027</th>\n",
       "      <td>84.080830</td>\n",
       "      <td>51.053419</td>\n",
       "    </tr>\n",
       "    <tr>\n",
       "      <th>1028</th>\n",
       "      <td>24.075852</td>\n",
       "      <td>20.981299</td>\n",
       "    </tr>\n",
       "  </tbody>\n",
       "</table>\n",
       "<p>1029 rows × 2 columns</p>\n",
       "</div>"
      ],
      "text/plain": [
       "              X          y\n",
       "0     35.657897  28.074403\n",
       "1     48.685931  36.674434\n",
       "2     95.861773  67.903577\n",
       "3     25.997253  11.931727\n",
       "4     49.964772  30.286144\n",
       "5     55.003337  44.274354\n",
       "6     78.375881  49.032737\n",
       "7     15.286028  13.862727\n",
       "8     81.066092  55.742546\n",
       "9     35.059204  30.345383\n",
       "10    10.627199   8.284464\n",
       "11    67.484259  36.490228\n",
       "12    66.230640  46.133427\n",
       "13    57.957191  41.872495\n",
       "14    95.185536  66.043335\n",
       "15    77.219095  52.730262\n",
       "16    92.859492  54.155329\n",
       "17    67.223617  41.865928\n",
       "18    56.746339  36.157093\n",
       "19    34.735291  30.568120\n",
       "20    97.317591  64.330964\n",
       "21    38.591213  19.841434\n",
       "22    51.608742  35.630454\n",
       "23    59.781250  37.527034\n",
       "24    67.810553  43.936642\n",
       "25    12.199013  13.374210\n",
       "26    25.041432  18.876313\n",
       "27    27.765660  14.286040\n",
       "28    68.489203  44.008360\n",
       "29    15.216642  17.682210\n",
       "...         ...        ...\n",
       "999   87.577378  50.821047\n",
       "1000  82.166957  50.764372\n",
       "1001  34.656976  20.382111\n",
       "1002  58.941310  43.430510\n",
       "1003  78.875733  51.901006\n",
       "1004  59.029010  37.364507\n",
       "1005  97.149709  66.186439\n",
       "1006  98.433789  67.416817\n",
       "1007   2.459832   5.691373\n",
       "1008  13.227604   9.330900\n",
       "1009  74.039264  47.347642\n",
       "1010  19.903694  12.634800\n",
       "1011   9.963961  11.554361\n",
       "1012  17.743197  14.314224\n",
       "1013  91.421756  55.690169\n",
       "1014  55.388254  28.850092\n",
       "1015  81.563611  51.011377\n",
       "1016  67.634153  38.225826\n",
       "1017  61.210794  38.130862\n",
       "1018  60.426290  39.935617\n",
       "1019  20.828499  14.802500\n",
       "1020  13.607691  10.221028\n",
       "1021  86.939856  56.034948\n",
       "1022  65.487903  46.100847\n",
       "1023   9.221942   6.720162\n",
       "1024  36.091325  19.807188\n",
       "1025  77.619137  50.570437\n",
       "1026  46.785876  31.300900\n",
       "1027  84.080830  51.053419\n",
       "1028  24.075852  20.981299\n",
       "\n",
       "[1029 rows x 2 columns]"
      ]
     },
     "execution_count": 2,
     "metadata": {},
     "output_type": "execute_result"
    }
   ],
   "source": [
    "datos = pd.read_csv(\"regLin.csv\")\n",
    "datos"
   ]
  },
  {
   "cell_type": "code",
   "execution_count": 3,
   "metadata": {
    "collapsed": false
   },
   "outputs": [
    {
     "data": {
      "text/html": [
       "<div>\n",
       "<table border=\"1\" class=\"dataframe\">\n",
       "  <thead>\n",
       "    <tr style=\"text-align: right;\">\n",
       "      <th></th>\n",
       "      <th>X</th>\n",
       "      <th>y</th>\n",
       "    </tr>\n",
       "  </thead>\n",
       "  <tbody>\n",
       "    <tr>\n",
       "      <th>count</th>\n",
       "      <td>1029.000000</td>\n",
       "      <td>1029.000000</td>\n",
       "    </tr>\n",
       "    <tr>\n",
       "      <th>mean</th>\n",
       "      <td>50.008111</td>\n",
       "      <td>32.893917</td>\n",
       "    </tr>\n",
       "    <tr>\n",
       "      <th>std</th>\n",
       "      <td>29.055066</td>\n",
       "      <td>18.083566</td>\n",
       "    </tr>\n",
       "    <tr>\n",
       "      <th>min</th>\n",
       "      <td>0.030369</td>\n",
       "      <td>-4.586608</td>\n",
       "    </tr>\n",
       "    <tr>\n",
       "      <th>25%</th>\n",
       "      <td>25.201087</td>\n",
       "      <td>17.583093</td>\n",
       "    </tr>\n",
       "    <tr>\n",
       "      <th>50%</th>\n",
       "      <td>50.884987</td>\n",
       "      <td>33.564129</td>\n",
       "    </tr>\n",
       "    <tr>\n",
       "      <th>75%</th>\n",
       "      <td>75.636823</td>\n",
       "      <td>48.339811</td>\n",
       "    </tr>\n",
       "    <tr>\n",
       "      <th>max</th>\n",
       "      <td>99.959580</td>\n",
       "      <td>71.762748</td>\n",
       "    </tr>\n",
       "  </tbody>\n",
       "</table>\n",
       "</div>"
      ],
      "text/plain": [
       "                 X            y\n",
       "count  1029.000000  1029.000000\n",
       "mean     50.008111    32.893917\n",
       "std      29.055066    18.083566\n",
       "min       0.030369    -4.586608\n",
       "25%      25.201087    17.583093\n",
       "50%      50.884987    33.564129\n",
       "75%      75.636823    48.339811\n",
       "max      99.959580    71.762748"
      ]
     },
     "execution_count": 3,
     "metadata": {},
     "output_type": "execute_result"
    }
   ],
   "source": [
    "datos.describe()"
   ]
  },
  {
   "cell_type": "markdown",
   "metadata": {},
   "source": [
    "## 2.- Divido los datos en entrenamiento(.75) y pruebas(.25)"
   ]
  },
  {
   "cell_type": "code",
   "execution_count": 4,
   "metadata": {
    "collapsed": false
   },
   "outputs": [],
   "source": [
    "X_train, X_test, Y_train, Y_test = train_test_split(datos[[\"X\"]], datos[[\"y\"]], train_size=0.75)"
   ]
  },
  {
   "cell_type": "code",
   "execution_count": 5,
   "metadata": {
    "collapsed": false,
    "scrolled": true
   },
   "outputs": [
    {
     "data": {
      "text/html": [
       "<div>\n",
       "<table border=\"1\" class=\"dataframe\">\n",
       "  <thead>\n",
       "    <tr style=\"text-align: right;\">\n",
       "      <th></th>\n",
       "      <th>y</th>\n",
       "    </tr>\n",
       "  </thead>\n",
       "  <tbody>\n",
       "    <tr>\n",
       "      <th>357</th>\n",
       "      <td>40.396901</td>\n",
       "    </tr>\n",
       "    <tr>\n",
       "      <th>358</th>\n",
       "      <td>23.191621</td>\n",
       "    </tr>\n",
       "    <tr>\n",
       "      <th>385</th>\n",
       "      <td>43.366335</td>\n",
       "    </tr>\n",
       "    <tr>\n",
       "      <th>715</th>\n",
       "      <td>44.170689</td>\n",
       "    </tr>\n",
       "    <tr>\n",
       "      <th>398</th>\n",
       "      <td>51.828399</td>\n",
       "    </tr>\n",
       "    <tr>\n",
       "      <th>634</th>\n",
       "      <td>52.991486</td>\n",
       "    </tr>\n",
       "    <tr>\n",
       "      <th>841</th>\n",
       "      <td>8.209886</td>\n",
       "    </tr>\n",
       "    <tr>\n",
       "      <th>833</th>\n",
       "      <td>64.639431</td>\n",
       "    </tr>\n",
       "    <tr>\n",
       "      <th>901</th>\n",
       "      <td>46.755406</td>\n",
       "    </tr>\n",
       "    <tr>\n",
       "      <th>393</th>\n",
       "      <td>1.261628</td>\n",
       "    </tr>\n",
       "    <tr>\n",
       "      <th>99</th>\n",
       "      <td>10.730086</td>\n",
       "    </tr>\n",
       "    <tr>\n",
       "      <th>652</th>\n",
       "      <td>31.583213</td>\n",
       "    </tr>\n",
       "    <tr>\n",
       "      <th>368</th>\n",
       "      <td>48.077999</td>\n",
       "    </tr>\n",
       "    <tr>\n",
       "      <th>943</th>\n",
       "      <td>6.958857</td>\n",
       "    </tr>\n",
       "    <tr>\n",
       "      <th>298</th>\n",
       "      <td>60.745872</td>\n",
       "    </tr>\n",
       "    <tr>\n",
       "      <th>751</th>\n",
       "      <td>4.861640</td>\n",
       "    </tr>\n",
       "    <tr>\n",
       "      <th>480</th>\n",
       "      <td>13.693556</td>\n",
       "    </tr>\n",
       "    <tr>\n",
       "      <th>87</th>\n",
       "      <td>17.329311</td>\n",
       "    </tr>\n",
       "    <tr>\n",
       "      <th>272</th>\n",
       "      <td>15.449392</td>\n",
       "    </tr>\n",
       "    <tr>\n",
       "      <th>147</th>\n",
       "      <td>32.987482</td>\n",
       "    </tr>\n",
       "    <tr>\n",
       "      <th>721</th>\n",
       "      <td>44.909790</td>\n",
       "    </tr>\n",
       "    <tr>\n",
       "      <th>865</th>\n",
       "      <td>47.541067</td>\n",
       "    </tr>\n",
       "    <tr>\n",
       "      <th>903</th>\n",
       "      <td>19.861195</td>\n",
       "    </tr>\n",
       "    <tr>\n",
       "      <th>859</th>\n",
       "      <td>32.471646</td>\n",
       "    </tr>\n",
       "    <tr>\n",
       "      <th>824</th>\n",
       "      <td>0.705344</td>\n",
       "    </tr>\n",
       "    <tr>\n",
       "      <th>163</th>\n",
       "      <td>28.583146</td>\n",
       "    </tr>\n",
       "    <tr>\n",
       "      <th>684</th>\n",
       "      <td>11.954256</td>\n",
       "    </tr>\n",
       "    <tr>\n",
       "      <th>605</th>\n",
       "      <td>56.985818</td>\n",
       "    </tr>\n",
       "    <tr>\n",
       "      <th>505</th>\n",
       "      <td>35.409600</td>\n",
       "    </tr>\n",
       "    <tr>\n",
       "      <th>175</th>\n",
       "      <td>10.764835</td>\n",
       "    </tr>\n",
       "    <tr>\n",
       "      <th>...</th>\n",
       "      <td>...</td>\n",
       "    </tr>\n",
       "    <tr>\n",
       "      <th>782</th>\n",
       "      <td>33.783884</td>\n",
       "    </tr>\n",
       "    <tr>\n",
       "      <th>454</th>\n",
       "      <td>55.373136</td>\n",
       "    </tr>\n",
       "    <tr>\n",
       "      <th>7</th>\n",
       "      <td>13.862727</td>\n",
       "    </tr>\n",
       "    <tr>\n",
       "      <th>788</th>\n",
       "      <td>48.884776</td>\n",
       "    </tr>\n",
       "    <tr>\n",
       "      <th>934</th>\n",
       "      <td>37.511805</td>\n",
       "    </tr>\n",
       "    <tr>\n",
       "      <th>256</th>\n",
       "      <td>39.282074</td>\n",
       "    </tr>\n",
       "    <tr>\n",
       "      <th>236</th>\n",
       "      <td>56.659717</td>\n",
       "    </tr>\n",
       "    <tr>\n",
       "      <th>324</th>\n",
       "      <td>44.327124</td>\n",
       "    </tr>\n",
       "    <tr>\n",
       "      <th>857</th>\n",
       "      <td>11.108082</td>\n",
       "    </tr>\n",
       "    <tr>\n",
       "      <th>410</th>\n",
       "      <td>30.770933</td>\n",
       "    </tr>\n",
       "    <tr>\n",
       "      <th>926</th>\n",
       "      <td>20.691177</td>\n",
       "    </tr>\n",
       "    <tr>\n",
       "      <th>927</th>\n",
       "      <td>7.505121</td>\n",
       "    </tr>\n",
       "    <tr>\n",
       "      <th>325</th>\n",
       "      <td>12.470283</td>\n",
       "    </tr>\n",
       "    <tr>\n",
       "      <th>57</th>\n",
       "      <td>53.314098</td>\n",
       "    </tr>\n",
       "    <tr>\n",
       "      <th>266</th>\n",
       "      <td>49.636549</td>\n",
       "    </tr>\n",
       "    <tr>\n",
       "      <th>426</th>\n",
       "      <td>42.645102</td>\n",
       "    </tr>\n",
       "    <tr>\n",
       "      <th>72</th>\n",
       "      <td>66.577931</td>\n",
       "    </tr>\n",
       "    <tr>\n",
       "      <th>914</th>\n",
       "      <td>59.006377</td>\n",
       "    </tr>\n",
       "    <tr>\n",
       "      <th>299</th>\n",
       "      <td>51.103440</td>\n",
       "    </tr>\n",
       "    <tr>\n",
       "      <th>947</th>\n",
       "      <td>1.360546</td>\n",
       "    </tr>\n",
       "    <tr>\n",
       "      <th>972</th>\n",
       "      <td>28.387011</td>\n",
       "    </tr>\n",
       "    <tr>\n",
       "      <th>273</th>\n",
       "      <td>49.205114</td>\n",
       "    </tr>\n",
       "    <tr>\n",
       "      <th>937</th>\n",
       "      <td>55.482011</td>\n",
       "    </tr>\n",
       "    <tr>\n",
       "      <th>748</th>\n",
       "      <td>64.345996</td>\n",
       "    </tr>\n",
       "    <tr>\n",
       "      <th>890</th>\n",
       "      <td>20.375415</td>\n",
       "    </tr>\n",
       "    <tr>\n",
       "      <th>343</th>\n",
       "      <td>38.099796</td>\n",
       "    </tr>\n",
       "    <tr>\n",
       "      <th>706</th>\n",
       "      <td>54.646664</td>\n",
       "    </tr>\n",
       "    <tr>\n",
       "      <th>828</th>\n",
       "      <td>25.026368</td>\n",
       "    </tr>\n",
       "    <tr>\n",
       "      <th>276</th>\n",
       "      <td>22.376259</td>\n",
       "    </tr>\n",
       "    <tr>\n",
       "      <th>915</th>\n",
       "      <td>17.583093</td>\n",
       "    </tr>\n",
       "  </tbody>\n",
       "</table>\n",
       "<p>258 rows × 1 columns</p>\n",
       "</div>"
      ],
      "text/plain": [
       "             y\n",
       "357  40.396901\n",
       "358  23.191621\n",
       "385  43.366335\n",
       "715  44.170689\n",
       "398  51.828399\n",
       "634  52.991486\n",
       "841   8.209886\n",
       "833  64.639431\n",
       "901  46.755406\n",
       "393   1.261628\n",
       "99   10.730086\n",
       "652  31.583213\n",
       "368  48.077999\n",
       "943   6.958857\n",
       "298  60.745872\n",
       "751   4.861640\n",
       "480  13.693556\n",
       "87   17.329311\n",
       "272  15.449392\n",
       "147  32.987482\n",
       "721  44.909790\n",
       "865  47.541067\n",
       "903  19.861195\n",
       "859  32.471646\n",
       "824   0.705344\n",
       "163  28.583146\n",
       "684  11.954256\n",
       "605  56.985818\n",
       "505  35.409600\n",
       "175  10.764835\n",
       "..         ...\n",
       "782  33.783884\n",
       "454  55.373136\n",
       "7    13.862727\n",
       "788  48.884776\n",
       "934  37.511805\n",
       "256  39.282074\n",
       "236  56.659717\n",
       "324  44.327124\n",
       "857  11.108082\n",
       "410  30.770933\n",
       "926  20.691177\n",
       "927   7.505121\n",
       "325  12.470283\n",
       "57   53.314098\n",
       "266  49.636549\n",
       "426  42.645102\n",
       "72   66.577931\n",
       "914  59.006377\n",
       "299  51.103440\n",
       "947   1.360546\n",
       "972  28.387011\n",
       "273  49.205114\n",
       "937  55.482011\n",
       "748  64.345996\n",
       "890  20.375415\n",
       "343  38.099796\n",
       "706  54.646664\n",
       "828  25.026368\n",
       "276  22.376259\n",
       "915  17.583093\n",
       "\n",
       "[258 rows x 1 columns]"
      ]
     },
     "execution_count": 5,
     "metadata": {},
     "output_type": "execute_result"
    }
   ],
   "source": [
    "Y_test"
   ]
  },
  {
   "cell_type": "code",
   "execution_count": 6,
   "metadata": {
    "collapsed": false
   },
   "outputs": [
    {
     "data": {
      "text/plain": [
       "<matplotlib.collections.PathCollection at 0x1c23dd3a5f8>"
      ]
     },
     "execution_count": 6,
     "metadata": {},
     "output_type": "execute_result"
    },
    {
     "data": {
      "image/png": "[encoded data removed]",
      "text/plain": [
       "<matplotlib.figure.Figure at 0x1c23c97dda0>"
      ]
     },
     "metadata": {},
     "output_type": "display_data"
    }
   ],
   "source": [
    "plt.scatter(X_train,Y_train)"
   ]
  },
  {
   "cell_type": "markdown",
   "metadata": {},
   "source": [
    "## 3.- Elijo el modelo de Regresión Lineal y lo entreno"
   ]
  },
  {
   "cell_type": "code",
   "execution_count": 7,
   "metadata": {
    "collapsed": false
   },
   "outputs": [],
   "source": [
    "lr = LinearRegression()\n",
    "modelo = lr.fit(X_train,Y_train)"
   ]
  },
  {
   "cell_type": "code",
   "execution_count": 8,
   "metadata": {
    "collapsed": false,
    "scrolled": false
   },
   "outputs": [
    {
     "data": {
      "text/plain": [
       "[<matplotlib.lines.Line2D at 0x1c23e2107b8>]"
      ]
     },
     "execution_count": 8,
     "metadata": {},
     "output_type": "execute_result"
    },
    {
     "data": {
      "image/png": "[encoded data removed]",
      "text/plain": [
       "<matplotlib.figure.Figure at 0x1c23e20df98>"
      ]
     },
     "metadata": {},
     "output_type": "display_data"
    }
   ],
   "source": [
    "plt.scatter(X_test,Y_test)\n",
    "plt.plot(X_test, lr.predict(X_test), color='red', linewidth=3)"
   ]
  },
  {
   "cell_type": "code",
   "execution_count": 9,
   "metadata": {
    "collapsed": false
   },
   "outputs": [
    {
     "data": {
      "text/plain": [
       "array([ 2.45941408])"
      ]
     },
     "execution_count": 9,
     "metadata": {},
     "output_type": "execute_result"
    }
   ],
   "source": [
    "modelo.intercept_ #w0"
   ]
  },
  {
   "cell_type": "code",
   "execution_count": 10,
   "metadata": {
    "collapsed": false
   },
   "outputs": [
    {
     "data": {
      "text/plain": [
       "array([[ 0.61016567]])"
      ]
     },
     "execution_count": 10,
     "metadata": {},
     "output_type": "execute_result"
    }
   ],
   "source": [
    "modelo.coef_ #w1"
   ]
  },
  {
   "cell_type": "markdown",
   "metadata": {},
   "source": [
    "## 4.- Para diferentes valores de W calcule el error del modelo y grafique"
   ]
  },
  {
   "cell_type": "code",
   "execution_count": 11,
   "metadata": {
    "collapsed": false,
    "scrolled": true
   },
   "outputs": [
    {
     "data": {
      "text/plain": [
       "<matplotlib.collections.PathCollection at 0x1c23e336080>"
      ]
     },
     "execution_count": 11,
     "metadata": {},
     "output_type": "execute_result"
    },
    {
     "data": {
      "image/png": "[encoded data removed]",
      "text/plain": [
       "<matplotlib.figure.Figure at 0x1c23e24bac8>"
      ]
     },
     "metadata": {},
     "output_type": "display_data"
    }
   ],
   "source": [
    "w0 = lr.intercept_[0]\n",
    "w1 = lr.coef_[0][0]\n",
    "\n",
    "W=range(-100,100,1) + w1\n",
    "#print(W)\n",
    "error =[]\n",
    "for i in W:\n",
    "    y_pred = i*X_test + w0\n",
    "    C= np.subtract(y_pred, Y_test)\n",
    "    C= C**2\n",
    "    error.append(np.mean(C))\n",
    "\n",
    "plt.plot(W,error)\n",
    "plt.scatter(w0,np.mean(((w1*datos['X'] + w0 )-datos['y'])**2),color=\"red\")"
   ]
  },
  {
   "cell_type": "code",
   "execution_count": 12,
   "metadata": {
    "collapsed": false,
    "scrolled": true
   },
   "outputs": [
    {
     "data": {
      "text/plain": [
       "array([-99.38983433, -98.38983433, -97.38983433, -96.38983433,\n",
       "       -95.38983433, -94.38983433, -93.38983433, -92.38983433,\n",
       "       -91.38983433, -90.38983433, -89.38983433, -88.38983433,\n",
       "       -87.38983433, -86.38983433, -85.38983433, -84.38983433,\n",
       "       -83.38983433, -82.38983433, -81.38983433, -80.38983433,\n",
       "       -79.38983433, -78.38983433, -77.38983433, -76.38983433,\n",
       "       -75.38983433, -74.38983433, -73.38983433, -72.38983433,\n",
       "       -71.38983433, -70.38983433, -69.38983433, -68.38983433,\n",
       "       -67.38983433, -66.38983433, -65.38983433, -64.38983433,\n",
       "       -63.38983433, -62.38983433, -61.38983433, -60.38983433,\n",
       "       -59.38983433, -58.38983433, -57.38983433, -56.38983433,\n",
       "       -55.38983433, -54.38983433, -53.38983433, -52.38983433,\n",
       "       -51.38983433, -50.38983433, -49.38983433, -48.38983433,\n",
       "       -47.38983433, -46.38983433, -45.38983433, -44.38983433,\n",
       "       -43.38983433, -42.38983433, -41.38983433, -40.38983433,\n",
       "       -39.38983433, -38.38983433, -37.38983433, -36.38983433,\n",
       "       -35.38983433, -34.38983433, -33.38983433, -32.38983433,\n",
       "       -31.38983433, -30.38983433, -29.38983433, -28.38983433,\n",
       "       -27.38983433, -26.38983433, -25.38983433, -24.38983433,\n",
       "       -23.38983433, -22.38983433, -21.38983433, -20.38983433,\n",
       "       -19.38983433, -18.38983433, -17.38983433, -16.38983433,\n",
       "       -15.38983433, -14.38983433, -13.38983433, -12.38983433,\n",
       "       -11.38983433, -10.38983433,  -9.38983433,  -8.38983433,\n",
       "        -7.38983433,  -6.38983433,  -5.38983433,  -4.38983433,\n",
       "        -3.38983433,  -2.38983433,  -1.38983433,  -0.38983433,\n",
       "         0.61016567,   1.61016567,   2.61016567,   3.61016567,\n",
       "         4.61016567,   5.61016567,   6.61016567,   7.61016567,\n",
       "         8.61016567,   9.61016567,  10.61016567,  11.61016567,\n",
       "        12.61016567,  13.61016567,  14.61016567,  15.61016567,\n",
       "        16.61016567,  17.61016567,  18.61016567,  19.61016567,\n",
       "        20.61016567,  21.61016567,  22.61016567,  23.61016567,\n",
       "        24.61016567,  25.61016567,  26.61016567,  27.61016567,\n",
       "        28.61016567,  29.61016567,  30.61016567,  31.61016567,\n",
       "        32.61016567,  33.61016567,  34.61016567,  35.61016567,\n",
       "        36.61016567,  37.61016567,  38.61016567,  39.61016567,\n",
       "        40.61016567,  41.61016567,  42.61016567,  43.61016567,\n",
       "        44.61016567,  45.61016567,  46.61016567,  47.61016567,\n",
       "        48.61016567,  49.61016567,  50.61016567,  51.61016567,\n",
       "        52.61016567,  53.61016567,  54.61016567,  55.61016567,\n",
       "        56.61016567,  57.61016567,  58.61016567,  59.61016567,\n",
       "        60.61016567,  61.61016567,  62.61016567,  63.61016567,\n",
       "        64.61016567,  65.61016567,  66.61016567,  67.61016567,\n",
       "        68.61016567,  69.61016567,  70.61016567,  71.61016567,\n",
       "        72.61016567,  73.61016567,  74.61016567,  75.61016567,\n",
       "        76.61016567,  77.61016567,  78.61016567,  79.61016567,\n",
       "        80.61016567,  81.61016567,  82.61016567,  83.61016567,\n",
       "        84.61016567,  85.61016567,  86.61016567,  87.61016567,\n",
       "        88.61016567,  89.61016567,  90.61016567,  91.61016567,\n",
       "        92.61016567,  93.61016567,  94.61016567,  95.61016567,\n",
       "        96.61016567,  97.61016567,  98.61016567,  99.61016567])"
      ]
     },
     "execution_count": 12,
     "metadata": {},
     "output_type": "execute_result"
    }
   ],
   "source": [
    "W"
   ]
  },
  {
   "cell_type": "markdown",
   "metadata": {
    "collapsed": false
   },
   "source": [
    "## Para el archivo 2"
   ]
  },
  {
   "cell_type": "code",
   "execution_count": 13,
   "metadata": {
    "collapsed": false
   },
   "outputs": [
    {
     "data": {
      "text/html": [
       "<div>\n",
       "<table border=\"1\" class=\"dataframe\">\n",
       "  <thead>\n",
       "    <tr style=\"text-align: right;\">\n",
       "      <th></th>\n",
       "      <th>X</th>\n",
       "      <th>y</th>\n",
       "    </tr>\n",
       "  </thead>\n",
       "  <tbody>\n",
       "    <tr>\n",
       "      <th>count</th>\n",
       "      <td>1029.000000</td>\n",
       "      <td>1029.000000</td>\n",
       "    </tr>\n",
       "    <tr>\n",
       "      <th>mean</th>\n",
       "      <td>50.757989</td>\n",
       "      <td>2137.739358</td>\n",
       "    </tr>\n",
       "    <tr>\n",
       "      <th>std</th>\n",
       "      <td>29.708336</td>\n",
       "      <td>1870.369352</td>\n",
       "    </tr>\n",
       "    <tr>\n",
       "      <th>min</th>\n",
       "      <td>0.230225</td>\n",
       "      <td>0.272241</td>\n",
       "    </tr>\n",
       "    <tr>\n",
       "      <th>25%</th>\n",
       "      <td>22.870956</td>\n",
       "      <td>342.135840</td>\n",
       "    </tr>\n",
       "    <tr>\n",
       "      <th>50%</th>\n",
       "      <td>53.951080</td>\n",
       "      <td>1774.199681</td>\n",
       "    </tr>\n",
       "    <tr>\n",
       "      <th>75%</th>\n",
       "      <td>76.256816</td>\n",
       "      <td>3658.103897</td>\n",
       "    </tr>\n",
       "    <tr>\n",
       "      <th>max</th>\n",
       "      <td>99.831593</td>\n",
       "      <td>7133.608688</td>\n",
       "    </tr>\n",
       "  </tbody>\n",
       "</table>\n",
       "</div>"
      ],
      "text/plain": [
       "                 X            y\n",
       "count  1029.000000  1029.000000\n",
       "mean     50.757989  2137.739358\n",
       "std      29.708336  1870.369352\n",
       "min       0.230225     0.272241\n",
       "25%      22.870956   342.135840\n",
       "50%      53.951080  1774.199681\n",
       "75%      76.256816  3658.103897\n",
       "max      99.831593  7133.608688"
      ]
     },
     "execution_count": 13,
     "metadata": {},
     "output_type": "execute_result"
    }
   ],
   "source": [
    "datos2 = pd.read_csv(\"regLin2.csv\")\n",
    "datos2.describe()"
   ]
  },
  {
   "cell_type": "code",
   "execution_count": 14,
   "metadata": {
    "collapsed": true
   },
   "outputs": [],
   "source": [
    "X2_train, X2_test, Y2_train, Y2_test = train_test_split(datos2[[\"X\"]], datos2[[\"y\"]], train_size=0.75)\n",
    "lr2 = LinearRegression()"
   ]
  },
  {
   "cell_type": "code",
   "execution_count": 15,
   "metadata": {
    "collapsed": false
   },
   "outputs": [
    {
     "data": {
      "text/plain": [
       "[<matplotlib.lines.Line2D at 0x1c23dd04240>]"
      ]
     },
     "execution_count": 15,
     "metadata": {},
     "output_type": "execute_result"
    },
    {
     "data": {
      "image/png": "[encoded data removed]",
      "text/plain": [
       "<matplotlib.figure.Figure at 0x1c23dd04cf8>"
      ]
     },
     "metadata": {},
     "output_type": "display_data"
    }
   ],
   "source": [
    "plt.scatter(X2_test,Y2_test)\n",
    "plt.plot(X2_test, lr.predict(X2_test), color='red', linewidth=3)"
   ]
  },
  {
   "cell_type": "markdown",
   "metadata": {},
   "source": [
    "## Ahora transformamos los datos en un espacio donde si los podemos tratar"
   ]
  },
  {
   "cell_type": "code",
   "execution_count": 16,
   "metadata": {
    "collapsed": false
   },
   "outputs": [],
   "source": [
    "X2_trans=[[i+i**2] for i in X2_train['X']]\n",
    "lr2.fit(X2_trans, Y2_train)\n",
    "x=np.linspace(0,100,100)"
   ]
  },
  {
   "cell_type": "code",
   "execution_count": 17,
   "metadata": {
    "collapsed": false
   },
   "outputs": [
    {
     "data": {
      "text/plain": [
       "[<matplotlib.lines.Line2D at 0x1c23e39b0f0>]"
      ]
     },
     "execution_count": 17,
     "metadata": {},
     "output_type": "execute_result"
    },
    {
     "data": {
      "image/png": "[encoded data removed]",
      "text/plain": [
       "<matplotlib.figure.Figure at 0x1c23e39b278>"
      ]
     },
     "metadata": {},
     "output_type": "display_data"
    }
   ],
   "source": [
    "plt.scatter(X2_test, Y2_test)\n",
    "plt.plot(x, lr2.predict([[i+i**2] for i in x]), color='red', linewidth=3)"
   ]
  },
  {
   "cell_type": "code",
   "execution_count": 18,
   "metadata": {
    "collapsed": false
   },
   "outputs": [
    {
     "data": {
      "text/html": [
       "<div>\n",
       "<table border=\"1\" class=\"dataframe\">\n",
       "  <thead>\n",
       "    <tr style=\"text-align: right;\">\n",
       "      <th></th>\n",
       "      <th>X</th>\n",
       "      <th>y</th>\n",
       "    </tr>\n",
       "  </thead>\n",
       "  <tbody>\n",
       "    <tr>\n",
       "      <th>count</th>\n",
       "      <td>1029.000000</td>\n",
       "      <td>1029.000000</td>\n",
       "    </tr>\n",
       "    <tr>\n",
       "      <th>mean</th>\n",
       "      <td>50.163569</td>\n",
       "      <td>-0.024165</td>\n",
       "    </tr>\n",
       "    <tr>\n",
       "      <th>std</th>\n",
       "      <td>29.403168</td>\n",
       "      <td>0.701349</td>\n",
       "    </tr>\n",
       "    <tr>\n",
       "      <th>min</th>\n",
       "      <td>0.083795</td>\n",
       "      <td>-1.000000</td>\n",
       "    </tr>\n",
       "    <tr>\n",
       "      <th>25%</th>\n",
       "      <td>24.059073</td>\n",
       "      <td>-0.727235</td>\n",
       "    </tr>\n",
       "    <tr>\n",
       "      <th>50%</th>\n",
       "      <td>50.102445</td>\n",
       "      <td>-0.003449</td>\n",
       "    </tr>\n",
       "    <tr>\n",
       "      <th>75%</th>\n",
       "      <td>75.384381</td>\n",
       "      <td>0.665711</td>\n",
       "    </tr>\n",
       "    <tr>\n",
       "      <th>max</th>\n",
       "      <td>99.997174</td>\n",
       "      <td>0.999984</td>\n",
       "    </tr>\n",
       "  </tbody>\n",
       "</table>\n",
       "</div>"
      ],
      "text/plain": [
       "                 X            y\n",
       "count  1029.000000  1029.000000\n",
       "mean     50.163569    -0.024165\n",
       "std      29.403168     0.701349\n",
       "min       0.083795    -1.000000\n",
       "25%      24.059073    -0.727235\n",
       "50%      50.102445    -0.003449\n",
       "75%      75.384381     0.665711\n",
       "max      99.997174     0.999984"
      ]
     },
     "execution_count": 18,
     "metadata": {},
     "output_type": "execute_result"
    }
   ],
   "source": [
    "datos3 = pd.read_csv(\"regLin3.csv\")\n",
    "datos3.describe()"
   ]
  },
  {
   "cell_type": "code",
   "execution_count": 19,
   "metadata": {
    "collapsed": false
   },
   "outputs": [
    {
     "data": {
      "text/plain": [
       "[<matplotlib.lines.Line2D at 0x1c23e3d0d30>]"
      ]
     },
     "execution_count": 19,
     "metadata": {},
     "output_type": "execute_result"
    },
    {
     "data": {
      "image/png": "[encoded data removed]",
      "text/plain": [
       "<matplotlib.figure.Figure at 0x1c23e3d0e10>"
      ]
     },
     "metadata": {},
     "output_type": "display_data"
    }
   ],
   "source": [
    "X3_train, X3_test, Y3_train, Y3_test = train_test_split(datos3[[\"X\"]], datos3[[\"y\"]], train_size=0.75)\n",
    "lr3 = LinearRegression()\n",
    "modelo3 = lr3.fit(X3_train,Y3_train)\n",
    "plt.scatter(X3_test,Y3_test)\n",
    "plt.plot(X3_test, lr3.predict(X3_test), color='red', linewidth=3)"
   ]
  },
  {
   "cell_type": "markdown",
   "metadata": {},
   "source": [
    "## Ahora transformamos los datos en un espacio donde si los podemos tratar"
   ]
  },
  {
   "cell_type": "code",
   "execution_count": 20,
   "metadata": {
    "collapsed": false
   },
   "outputs": [
    {
     "data": {
      "text/plain": [
       "[<matplotlib.lines.Line2D at 0x1c23e486400>]"
      ]
     },
     "execution_count": 20,
     "metadata": {},
     "output_type": "execute_result"
    },
    {
     "data": {
      "image/png": "[encoded data removed]",
      "text/plain": [
       "<matplotlib.figure.Figure at 0x1c23e486320>"
      ]
     },
     "metadata": {},
     "output_type": "display_data"
    }
   ],
   "source": [
    "lr3.fit([[mth.sin(i)] for i in X3_train['X']], Y3_train)\n",
    "plt.scatter(X3_test, Y3_test,  color='blue')\n",
    "x=np.linspace(0,100,100)\n",
    "xt=[[mth.sin(i)] for i in x]\n",
    "plt.plot(x, lr3.predict(xt), color='red', linewidth=1)\n"
   ]
  }
 ],
 "metadata": {
  "anaconda-cloud": {},
  "kernelspec": {
   "display_name": "Python [Root]",
   "language": "python",
   "name": "Python [Root]"
  },
  "language_info": {
   "codemirror_mode": {
    "name": "ipython",
    "version": 3
   },
   "file_extension": ".py",
   "mimetype": "text/x-python",
   "name": "python",
   "nbconvert_exporter": "python",
   "pygments_lexer": "ipython3",
   "version": "3.5.2"
  }
 },
 "nbformat": 4,
 "nbformat_minor": 0
}
