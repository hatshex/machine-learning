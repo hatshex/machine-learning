{
 "cells": [
  {
   "cell_type": "code",
   "execution_count": 1,
   "metadata": {
    "collapsed": true
   },
   "outputs": [],
   "source": [
    "import pandas as pd\n",
    "import numpy as np\n",
    "import csv\n",
    "import random as rnd\n",
    "from sklearn.cross_validation import train_test_split\n",
    "from sklearn.linear_model import LinearRegression\n",
    "from sklearn import preprocessing\n",
    "import matplotlib.pyplot as plt\n",
    "import math as mth\n",
    "%matplotlib inline"
   ]
  },
  {
   "cell_type": "code",
   "execution_count": 27,
   "metadata": {
    "collapsed": false
   },
   "outputs": [],
   "source": [
    "x=[35.657897,48.685931,95.861773,25.997253,49.964772,55.003337,78.375881,15.286028,81.066092,35.059204,10.627199]\n",
    "y=[28.074403,36.674434,67.903577,11.931727,30.286144,44.274354,49.032737,13.862727,55.742546,30.345383,8.284464]\n",
    "\n",
    "\n",
    "eta=.1\n",
    "\n",
    "## Defino mis vectores\n",
    "w_inicial=[1.0 for i in range(len(x))]\n",
    "x_inicial=[1.0 for i in range(len(y))]\n",
    "errores=[0.0 for i in range(len(y))]\n",
    "ws = np.empty((len(y), 2))"
   ]
  },
  {
   "cell_type": "code",
   "execution_count": 28,
   "metadata": {
    "collapsed": false
   },
   "outputs": [
    {
     "data": {
      "text/plain": [
       "[1.0, 1.0, 1.0, 1.0, 1.0, 1.0, 1.0, 1.0, 1.0, 1.0, 1.0]"
      ]
     },
     "execution_count": 28,
     "metadata": {},
     "output_type": "execute_result"
    }
   ],
   "source": [
    "w_inicial"
   ]
  },
  {
   "cell_type": "code",
   "execution_count": 29,
   "metadata": {
    "collapsed": false
   },
   "outputs": [
    {
     "data": {
      "text/plain": [
       "[1.0, 1.0, 1.0, 1.0, 1.0, 1.0, 1.0, 1.0, 1.0, 1.0, 1.0]"
      ]
     },
     "execution_count": 29,
     "metadata": {},
     "output_type": "execute_result"
    }
   ],
   "source": [
    "x_inicial"
   ]
  },
  {
   "cell_type": "code",
   "execution_count": 30,
   "metadata": {
    "collapsed": false
   },
   "outputs": [
    {
     "data": {
      "text/plain": [
       "35.657896999999998"
      ]
     },
     "execution_count": 30,
     "metadata": {},
     "output_type": "execute_result"
    }
   ],
   "source": [
    "x=np.asarray(x)\n",
    "x[0]"
   ]
  },
  {
   "cell_type": "code",
   "execution_count": 31,
   "metadata": {
    "collapsed": false
   },
   "outputs": [
    {
     "data": {
      "text/plain": [
       "array([[  1.20574915e-311,   1.20573013e-311],\n",
       "       [  1.20573013e-311,   1.20573063e-311],\n",
       "       [  1.20572955e-311,   1.20571130e-311],\n",
       "       [  1.20571097e-311,   1.20570888e-311],\n",
       "       [  1.20571042e-311,   1.20570426e-311],\n",
       "       [  1.20568036e-311,   1.20568036e-311],\n",
       "       [  1.20568036e-311,   1.20568036e-311],\n",
       "       [  1.20568036e-311,   2.12199579e-314],\n",
       "       [  2.12199581e-314,   7.42698527e-313],\n",
       "       [  2.12199579e-314,   8.27578359e-313],\n",
       "       [  6.36598737e-314,   8.34445561e-308]])"
      ]
     },
     "execution_count": 31,
     "metadata": {},
     "output_type": "execute_result"
    }
   ],
   "source": [
    "ws"
   ]
  },
  {
   "cell_type": "code",
   "execution_count": 41,
   "metadata": {
    "collapsed": false
   },
   "outputs": [
    {
     "name": "stdout",
     "output_type": "stream",
     "text": [
      "[8.5834939999999982, 1503.9969473554011, 705047.62427985307, 175969761.37886819, 23213268696.589333, 6407411962865.9941, 2771963504033676.5, 3.3291506973127782e+17, 4.3051759245504995e+19, 1.2258738099742732e+22, 0.0]\n",
      "[[  1.85834940e+000   3.16069345e+001]\n",
      " [  1.52258044e+002   7.35395609e+003]\n",
      " [  7.06570205e+004   6.76606549e+006]\n",
      " [  1.76676332e+007   4.64239106e+008]\n",
      " [  2.33899450e+009   1.16448807e+011]\n",
      " [  6.43080191e+011   3.53593528e+013]\n",
      " [  2.77839431e+014   2.17608675e+016]\n",
      " [  3.35693464e+016   5.30655775e+017]\n",
      " [  4.33874527e+018   3.49534443e+020]\n",
      " [  1.23021256e+021   4.33276944e+022]\n",
      " [  6.36598737e-314   8.34445561e-308]]\n"
     ]
    },
    {
     "data": {
      "text/plain": [
       "[<matplotlib.lines.Line2D at 0x2383790bef0>]"
      ]
     },
     "execution_count": 41,
     "metadata": {},
     "output_type": "execute_result"
    },
    {
     "data": {
      "image/png": "[encoded data removed]",
      "text/plain": [
       "<matplotlib.figure.Figure at 0x2383785c3c8>"
      ]
     },
     "metadata": {},
     "output_type": "display_data"
    }
   ],
   "source": [
    "# ws es el vector de las w's\n",
    "# w es el vector inicial de w\n",
    "# datos contiene las x's\n",
    "# error es un vector que guarda los errores por cada fila\n",
    "# suma es una variable que guarda la sumatoria de las x*w\n",
    "# En el caso que x y y sean de la misma dimensión\n",
    "for i in range(len(y)-1):\n",
    "    y_estimada=0\n",
    "        # Obtengo la sumatoria de las x*w que necesito para calcular el error o mi y gorrito o estimada\n",
    "    #print(x[i],y[i])\n",
    "    \n",
    "    if i==0:\n",
    "        y_estimada= w_inicial[i]*x_inicial[i]+x[i]*w_inicial[i]\n",
    "        errores[i]= y_estimada - y[i]\n",
    "        ws[i,0]= w_inicial[i] + eta*errores[i]*x_inicial[0]\n",
    "        ws[i,1]= w_inicial[i] + eta*errores[i]*x[i]\n",
    "    else:\n",
    "        y_estimada = w_inicial[i]*ws[i-1,0] +x[i]*ws[i-1,1]\n",
    "        errores[i]= y_estimada - y[i]\n",
    "        ws[i,0]= ws[i-1,0] + eta*errores[i]*x_inicial[0]\n",
    "        ws[i,1]= ws[i-1,1] + eta*errores[i]*x[i]\n",
    "        #print(\"Segunda vez\")\n",
    "        #print(w_inicial[j],ws[i-1,0],x[i],ws[i-1,1])\n",
    "    \n",
    "    errores[i]= y_estimada - y[i]\n",
    "    \n",
    "    #print(y_estimada, errores[i],ws[i,0],ws[i,1])\n",
    "        #ws[i,j]= w_inicial[j] + eta*errores[i]*x[j]\n",
    "        #print(y_estimada, errores[i])\n",
    "print(errores)\n",
    "print(ws)\n",
    "plt.plot(range(len(errores)),errores)\n",
    "            "
   ]
  },
  {
   "cell_type": "code",
   "execution_count": 37,
   "metadata": {
    "collapsed": false
   },
   "outputs": [
    {
     "data": {
      "text/plain": [
       "[<matplotlib.lines.Line2D at 0x2383789d5c0>]"
      ]
     },
     "execution_count": 37,
     "metadata": {},
     "output_type": "execute_result"
    },
    {
     "data": {
      "image/png": "[encoded data removed]",
      "text/plain": [
       "<matplotlib.figure.Figure at 0x23836f7d400>"
      ]
     },
     "metadata": {},
     "output_type": "display_data"
    }
   ],
   "source": [
    "# ws es el vector de las w's\n",
    "# w es el vector inicial de w\n",
    "# datos contiene las x's\n",
    "# error es un vector que guarda los errores por cada fila\n",
    "# suma es una variable que guarda la sumatoria de las x*w\n",
    "\n",
    "for i in range(len(y)-1):\n",
    "    y_estimada=0\n",
    "        # Obtengo la sumatoria de las x*w que necesito para calcular el error o mi y gorrito o estimada\n",
    "    #print(x[i],y[i])\n",
    "    if i==0:\n",
    "        y_estimada= w_inicial[i]*x_inicial[i]+x[i]*w_inicial[i]\n",
    "        ws[i,0]= w_inicial[i] + eta*errores[i]*x_inicial[0]\n",
    "        ws[i,1]= w_inicial[i] + eta*errores[i]*x[i]\n",
    "    else:\n",
    "        y_estimada = w_inicial[i]*ws[i-1,0] +x[i]*ws[i-1,1]\n",
    "        ws[i,0]= ws[i-1,0] + eta*errores[i]*x_inicial[0]\n",
    "        ws[i,1]= ws[i-1,1] + eta*errores[i]*x[i]\n",
    "        #print(\"Segunda vez\")\n",
    "        #print(w_inicial[j],ws[i-1,0],x[i],ws[i-1,1])\n",
    "    \n",
    "    errores[i]= y_estimada - y[i]\n",
    "    \n",
    "    #print(y_estimada, errores[i],ws[i,0],ws[i,1])\n",
    "        #ws[i,j]= w_inicial[j] + eta*errores[i]*x[j]\n",
    "        #print(y_estimada, errores[i])\n",
    "plt.plot(errores)\n",
    "            "
   ]
  }
 ],
 "metadata": {
  "kernelspec": {
   "display_name": "Python [Root]",
   "language": "python",
   "name": "Python [Root]"
  },
  "language_info": {
   "codemirror_mode": {
    "name": "ipython",
    "version": 3
   },
   "file_extension": ".py",
   "mimetype": "text/x-python",
   "name": "python",
   "nbconvert_exporter": "python",
   "pygments_lexer": "ipython3",
   "version": "3.5.2"
  }
 },
 "nbformat": 4,
 "nbformat_minor": 0
}
