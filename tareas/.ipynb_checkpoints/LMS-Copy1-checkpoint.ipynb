{
 "cells": [
  {
   "cell_type": "markdown",
   "metadata": {},
   "source": [
    "<img src=\"images/logoitam.gif\">\n",
    "\n",
    "# Maestría en Ciencia de Datos\n",
    "## Regresión Lineal \n",
    "\n",
    "* Machine Learning | Tarea 04 | 08 de septiembre de 2016 |\n",
    "* Alumna: Gabriela Flores Bracamontes |  Clave: 160124 |"
   ]
  },
  {
   "cell_type": "markdown",
   "metadata": {},
   "source": [
    "## LMS \"least mean squares\" (El menor error cuadrático medio) También conocida como la regla\t Widrow-Hoff"
   ]
  },
  {
   "cell_type": "markdown",
   "metadata": {},
   "source": [
    "## Actividades\n",
    "* Implementar LMS en Python\n",
    "* Probar con reglin.csv con n=0.05\n",
    "* Graficar como va cambiando el error para cada w\n",
    "* Pruebe estandarizar los datos\n",
    "* Repita los experimentos para n=0.1 y 1\n",
    "* Escriba sus observaciones"
   ]
  },
  {
   "cell_type": "code",
   "execution_count": 1,
   "metadata": {
    "collapsed": true
   },
   "outputs": [],
   "source": [
    "import pandas as pd\n",
    "import numpy as np\n",
    "import csv\n",
    "import random as rnd\n",
    "from sklearn.cross_validation import train_test_split\n",
    "from sklearn.linear_model import LinearRegression\n",
    "from sklearn import preprocessing\n",
    "import matplotlib.pyplot as plt\n",
    "import math as mth\n",
    "%matplotlib inline"
   ]
  },
  {
   "cell_type": "code",
   "execution_count": 2,
   "metadata": {
    "collapsed": false
   },
   "outputs": [],
   "source": [
    "eta=[0.05, .1, 1 ]"
   ]
  },
  {
   "cell_type": "code",
   "execution_count": 3,
   "metadata": {
    "collapsed": false,
    "scrolled": true
   },
   "outputs": [
    {
     "data": {
      "text/plain": [
       "0       28.074403\n",
       "1       36.674434\n",
       "2       67.903577\n",
       "3       11.931727\n",
       "4       30.286144\n",
       "5       44.274354\n",
       "6       49.032737\n",
       "7       13.862727\n",
       "8       55.742546\n",
       "9       30.345383\n",
       "10       8.284464\n",
       "11      36.490228\n",
       "12      46.133427\n",
       "13      41.872495\n",
       "14      66.043335\n",
       "15      52.730262\n",
       "16      54.155329\n",
       "17      41.865928\n",
       "18      36.157093\n",
       "19      30.568120\n",
       "20      64.330964\n",
       "21      19.841434\n",
       "22      35.630454\n",
       "23      37.527034\n",
       "24      43.936642\n",
       "25      13.374210\n",
       "26      18.876313\n",
       "27      14.286040\n",
       "28      44.008360\n",
       "29      17.682210\n",
       "          ...    \n",
       "999     50.821047\n",
       "1000    50.764372\n",
       "1001    20.382111\n",
       "1002    43.430510\n",
       "1003    51.901006\n",
       "1004    37.364507\n",
       "1005    66.186439\n",
       "1006    67.416817\n",
       "1007     5.691373\n",
       "1008     9.330900\n",
       "1009    47.347642\n",
       "1010    12.634800\n",
       "1011    11.554361\n",
       "1012    14.314224\n",
       "1013    55.690169\n",
       "1014    28.850092\n",
       "1015    51.011377\n",
       "1016    38.225826\n",
       "1017    38.130862\n",
       "1018    39.935617\n",
       "1019    14.802500\n",
       "1020    10.221028\n",
       "1021    56.034948\n",
       "1022    46.100847\n",
       "1023     6.720162\n",
       "1024    19.807188\n",
       "1025    50.570437\n",
       "1026    31.300900\n",
       "1027    51.053419\n",
       "1028    20.981299\n",
       "Name: y, dtype: float64"
      ]
     },
     "execution_count": 3,
     "metadata": {},
     "output_type": "execute_result"
    }
   ],
   "source": [
    "datos = pd.read_csv(\"regLin.csv\")\n",
    "datos[\"y\"]"
   ]
  },
  {
   "cell_type": "code",
   "execution_count": 4,
   "metadata": {
    "collapsed": false
   },
   "outputs": [],
   "source": [
    "X_train, X_test, Y_train, Y_test = train_test_split(datos[[\"X\"]], datos[[\"y\"]], train_size=0.75)"
   ]
  },
  {
   "cell_type": "code",
   "execution_count": null,
   "metadata": {
    "collapsed": true
   },
   "outputs": [],
   "source": [
    "#wi <---wi + n(y-V^(X)) xi\n",
    "# Necesito \n",
    "# * un vector de w0 inicial\n",
    "# * un vector de w's iniciales\n",
    "# * Calculo la suma de las multiplicaciones de las x_i*w_i\n"
   ]
  },
  {
   "cell_type": "code",
   "execution_count": 5,
   "metadata": {
    "collapsed": false
   },
   "outputs": [],
   "source": [
    "# ws es el vector de las w's\n",
    "# w es el vector inicial de w\n",
    "# datos contiene las x's\n",
    "# error es un vector que guarda los errores por cada fila\n",
    "# suma es una variable que guarda la sumatoria de las x*w\n",
    "# En el caso que x y y sean de la misma dimensión\n",
    "def entrena(y, x, eta):\n",
    "    ## Defino mis vectores\n",
    "    y= np.asarray(y)\n",
    "    x= np.asarray(x)\n",
    "    w_inicial=[1 for i in range(len(x))]\n",
    "    w_inicial= np.asarray(w_inicial)\n",
    "    x_inicial=[1 for i in range(len(y))]\n",
    "    x_inicial= np.asarray(x_inicial)\n",
    "    errores=[0 for i in range(len(y))]\n",
    "    ws = np.empty((len(y), len(x)))\n",
    "\n",
    "    for i in range(len(y)-1):\n",
    "        y_estimada=0\n",
    "        if i==0:\n",
    "            y_estimada= w_inicial[i]*x_inicial[i]+x[i]*w_inicial[i]\n",
    "            errores[i]= y_estimada - y[i]\n",
    "            ws[i,0]= w_inicial[i] + eta*errores[i]*x_inicial[0]\n",
    "            ws[i,1]= w_inicial[i] + eta*errores[i]*x[i]\n",
    "        else:\n",
    "            y_estimada = w_inicial[i]*ws[i-1,0] +x[i]*ws[i-1,1]\n",
    "            errores[i]= y_estimada - y[i]\n",
    "            ws[i,0]= ws[i-1,0] + eta*errores[i]*x_inicial[0]\n",
    "            ws[i,1]= ws[i-1,1] + eta*errores[i]*x[i]\n",
    "\n",
    "        \n",
    "    plt.plot(range(len(errores)),errores)\n",
    "    return errores, ws, w_inicial, x,y"
   ]
  },
  {
   "cell_type": "code",
   "execution_count": null,
   "metadata": {
    "collapsed": true
   },
   "outputs": [],
   "source": []
  },
  {
   "cell_type": "code",
   "execution_count": 6,
   "metadata": {
    "collapsed": true
   },
   "outputs": [],
   "source": [
    "def calcular_eqm(X,y,ws,w_inicial):\n",
    "    i=0\n",
    "    acc=0.0\n",
    "    for x in X:\n",
    "        acc += ((x.dot(ws) + w_inicial) - y[i])**2\n",
    "        i+=1\n",
    "    return acc/i\n",
    "    "
   ]
  },
  {
   "cell_type": "code",
   "execution_count": 11,
   "metadata": {
    "collapsed": false
   },
   "outputs": [
    {
     "data": {
      "image/png": "[encoded data removed]",
      "text/plain": [
       "<matplotlib.figure.Figure at 0x1972b3eb400>"
      ]
     },
     "metadata": {},
     "output_type": "display_data"
    }
   ],
   "source": [
    " errores, ws, w_inicial, x, y = entrena(datos[datos.columns[0:-1]],datos[datos.columns[-1]], eta[0])"
   ]
  },
  {
   "cell_type": "code",
   "execution_count": 16,
   "metadata": {
    "collapsed": false
   },
   "outputs": [
    {
     "data": {
      "image/png": "[encoded data removed]",
      "text/plain": [
       "<matplotlib.figure.Figure at 0x19729faef60>"
      ]
     },
     "metadata": {},
     "output_type": "display_data"
    }
   ],
   "source": [
    " errores, ws, w_inicial, x, y = entrena(X_train,Y_train, eta[0])"
   ]
  },
  {
   "cell_type": "code",
   "execution_count": 8,
   "metadata": {
    "collapsed": false
   },
   "outputs": [
    {
     "name": "stdout",
     "output_type": "stream",
     "text": [
      "(1029, 1029)\n",
      "(1029,)\n",
      "(1029,)\n",
      "(1029, 1)\n"
     ]
    }
   ],
   "source": [
    "print(ws.shape)\n",
    "print(w_inicial.shape)\n",
    "print(x.shape)\n",
    "print(y.shape)"
   ]
  },
  {
   "cell_type": "code",
   "execution_count": 13,
   "metadata": {
    "collapsed": false
   },
   "outputs": [
    {
     "data": {
      "text/plain": [
       "[<matplotlib.lines.Line2D at 0x1972a3d7550>]"
      ]
     },
     "execution_count": 13,
     "metadata": {},
     "output_type": "execute_result"
    },
    {
     "data": {
      "image/png": "[encoded data removed]",
      "text/plain": [
       "<matplotlib.figure.Figure at 0x1972bc8e828>"
      ]
     },
     "metadata": {},
     "output_type": "display_data"
    }
   ],
   "source": [
    "plt.plot(calcular_eqm(ws, w_inicial, x, y ))"
   ]
  },
  {
   "cell_type": "code",
   "execution_count": 15,
   "metadata": {
    "collapsed": false
   },
   "outputs": [
    {
     "name": "stderr",
     "output_type": "stream",
     "text": [
      "C:\\Anaconda3\\lib\\site-packages\\sklearn\\preprocessing\\data.py:583: DeprecationWarning: Passing 1d arrays as data is deprecated in 0.17 and will raise ValueError in 0.19. Reshape your data either using X.reshape(-1, 1) if your data has a single feature or X.reshape(1, -1) if it contains a single sample.\n",
      "  warnings.warn(DEPRECATION_MSG_1D, DeprecationWarning)\n",
      "C:\\Anaconda3\\lib\\site-packages\\sklearn\\preprocessing\\data.py:646: DeprecationWarning: Passing 1d arrays as data is deprecated in 0.17 and will raise ValueError in 0.19. Reshape your data either using X.reshape(-1, 1) if your data has a single feature or X.reshape(1, -1) if it contains a single sample.\n",
      "  warnings.warn(DEPRECATION_MSG_1D, DeprecationWarning)\n"
     ]
    }
   ],
   "source": [
    "X_train, X_test, Y_train, Y_test = train_test_split(datos[[\"X\"]],datos[\"y\"], train_size=0.75)\n",
    "\n",
    "ScaleX = preprocessing.StandardScaler()\n",
    "ScaleY = preprocessing.StandardScaler()\n",
    "\n",
    "ScaleX.fit(X_train)\n",
    "X_train = pd.DataFrame(data = ScaleX.transform(X_train), columns = ['X'])\n",
    "\n",
    "ScaleY.fit(Y_train)\n",
    "Y_train = pd.Series(data = ScaleY.transform(Y_train), name = 'y' )\n"
   ]
  },
  {
   "cell_type": "code",
   "execution_count": 17,
   "metadata": {
    "collapsed": false,
    "scrolled": true
   },
   "outputs": [
    {
     "data": {
      "image/png": "[encoded data removed]",
      "text/plain": [
       "<matplotlib.figure.Figure at 0x1972a0204e0>"
      ]
     },
     "metadata": {},
     "output_type": "display_data"
    }
   ],
   "source": [
    " errores, ws, w_inicial, x, y = entrena(X_train,Y_train, eta[0])"
   ]
  },
  {
   "cell_type": "code",
   "execution_count": 18,
   "metadata": {
    "collapsed": false
   },
   "outputs": [
    {
     "data": {
      "text/plain": [
       "[<matplotlib.lines.Line2D at 0x19729b8ab00>]"
      ]
     },
     "execution_count": 18,
     "metadata": {},
     "output_type": "execute_result"
    },
    {
     "name": "stdout",
     "output_type": "stream",
     "text": [
      "Error in callback <function install_repl_displayhook.<locals>.post_execute at 0x0000019728A7DB70> (for post_execute):\n"
     ]
    },
    {
     "ename": "AttributeError",
     "evalue": "'float' object has no attribute 'rint'",
     "output_type": "error",
     "traceback": [
      "\u001b[1;31m---------------------------------------------------------------------------\u001b[0m",
      "\u001b[1;31mAttributeError\u001b[0m                            Traceback (most recent call last)",
      "\u001b[1;32mC:\\Anaconda3\\lib\\site-packages\\matplotlib\\pyplot.py\u001b[0m in \u001b[0;36mpost_execute\u001b[1;34m()\u001b[0m\n\u001b[0;32m    145\u001b[0m             \u001b[1;32mdef\u001b[0m \u001b[0mpost_execute\u001b[0m\u001b[1;33m(\u001b[0m\u001b[1;33m)\u001b[0m\u001b[1;33m:\u001b[0m\u001b[1;33m\u001b[0m\u001b[0m\n\u001b[0;32m    146\u001b[0m                 \u001b[1;32mif\u001b[0m \u001b[0mmatplotlib\u001b[0m\u001b[1;33m.\u001b[0m\u001b[0mis_interactive\u001b[0m\u001b[1;33m(\u001b[0m\u001b[1;33m)\u001b[0m\u001b[1;33m:\u001b[0m\u001b[1;33m\u001b[0m\u001b[0m\n\u001b[1;32m--> 147\u001b[1;33m                     \u001b[0mdraw_all\u001b[0m\u001b[1;33m(\u001b[0m\u001b[1;33m)\u001b[0m\u001b[1;33m\u001b[0m\u001b[0m\n\u001b[0m\u001b[0;32m    148\u001b[0m \u001b[1;33m\u001b[0m\u001b[0m\n\u001b[0;32m    149\u001b[0m             \u001b[1;31m# IPython >= 2\u001b[0m\u001b[1;33m\u001b[0m\u001b[1;33m\u001b[0m\u001b[0m\n",
      "\u001b[1;32mC:\\Anaconda3\\lib\\site-packages\\matplotlib\\_pylab_helpers.py\u001b[0m in \u001b[0;36mdraw_all\u001b[1;34m(cls, force)\u001b[0m\n\u001b[0;32m    148\u001b[0m         \u001b[1;32mfor\u001b[0m \u001b[0mf_mgr\u001b[0m \u001b[1;32min\u001b[0m \u001b[0mcls\u001b[0m\u001b[1;33m.\u001b[0m\u001b[0mget_all_fig_managers\u001b[0m\u001b[1;33m(\u001b[0m\u001b[1;33m)\u001b[0m\u001b[1;33m:\u001b[0m\u001b[1;33m\u001b[0m\u001b[0m\n\u001b[0;32m    149\u001b[0m             \u001b[1;32mif\u001b[0m \u001b[0mforce\u001b[0m \u001b[1;32mor\u001b[0m \u001b[0mf_mgr\u001b[0m\u001b[1;33m.\u001b[0m\u001b[0mcanvas\u001b[0m\u001b[1;33m.\u001b[0m\u001b[0mfigure\u001b[0m\u001b[1;33m.\u001b[0m\u001b[0mstale\u001b[0m\u001b[1;33m:\u001b[0m\u001b[1;33m\u001b[0m\u001b[0m\n\u001b[1;32m--> 150\u001b[1;33m                 \u001b[0mf_mgr\u001b[0m\u001b[1;33m.\u001b[0m\u001b[0mcanvas\u001b[0m\u001b[1;33m.\u001b[0m\u001b[0mdraw_idle\u001b[0m\u001b[1;33m(\u001b[0m\u001b[1;33m)\u001b[0m\u001b[1;33m\u001b[0m\u001b[0m\n\u001b[0m\u001b[0;32m    151\u001b[0m \u001b[1;33m\u001b[0m\u001b[0m\n\u001b[0;32m    152\u001b[0m \u001b[0matexit\u001b[0m\u001b[1;33m.\u001b[0m\u001b[0mregister\u001b[0m\u001b[1;33m(\u001b[0m\u001b[0mGcf\u001b[0m\u001b[1;33m.\u001b[0m\u001b[0mdestroy_all\u001b[0m\u001b[1;33m)\u001b[0m\u001b[1;33m\u001b[0m\u001b[0m\n",
      "\u001b[1;32mC:\\Anaconda3\\lib\\site-packages\\matplotlib\\backend_bases.py\u001b[0m in \u001b[0;36mdraw_idle\u001b[1;34m(self, *args, **kwargs)\u001b[0m\n\u001b[0;32m   2024\u001b[0m         \u001b[1;32mif\u001b[0m \u001b[1;32mnot\u001b[0m \u001b[0mself\u001b[0m\u001b[1;33m.\u001b[0m\u001b[0m_is_idle_drawing\u001b[0m\u001b[1;33m:\u001b[0m\u001b[1;33m\u001b[0m\u001b[0m\n\u001b[0;32m   2025\u001b[0m             \u001b[1;32mwith\u001b[0m \u001b[0mself\u001b[0m\u001b[1;33m.\u001b[0m\u001b[0m_idle_draw_cntx\u001b[0m\u001b[1;33m(\u001b[0m\u001b[1;33m)\u001b[0m\u001b[1;33m:\u001b[0m\u001b[1;33m\u001b[0m\u001b[0m\n\u001b[1;32m-> 2026\u001b[1;33m                 \u001b[0mself\u001b[0m\u001b[1;33m.\u001b[0m\u001b[0mdraw\u001b[0m\u001b[1;33m(\u001b[0m\u001b[1;33m*\u001b[0m\u001b[0margs\u001b[0m\u001b[1;33m,\u001b[0m \u001b[1;33m**\u001b[0m\u001b[0mkwargs\u001b[0m\u001b[1;33m)\u001b[0m\u001b[1;33m\u001b[0m\u001b[0m\n\u001b[0m\u001b[0;32m   2027\u001b[0m \u001b[1;33m\u001b[0m\u001b[0m\n\u001b[0;32m   2028\u001b[0m     \u001b[1;32mdef\u001b[0m \u001b[0mdraw_cursor\u001b[0m\u001b[1;33m(\u001b[0m\u001b[0mself\u001b[0m\u001b[1;33m,\u001b[0m \u001b[0mevent\u001b[0m\u001b[1;33m)\u001b[0m\u001b[1;33m:\u001b[0m\u001b[1;33m\u001b[0m\u001b[0m\n",
      "\u001b[1;32mC:\\Anaconda3\\lib\\site-packages\\matplotlib\\backends\\backend_agg.py\u001b[0m in \u001b[0;36mdraw\u001b[1;34m(self)\u001b[0m\n\u001b[0;32m    472\u001b[0m \u001b[1;33m\u001b[0m\u001b[0m\n\u001b[0;32m    473\u001b[0m         \u001b[1;32mtry\u001b[0m\u001b[1;33m:\u001b[0m\u001b[1;33m\u001b[0m\u001b[0m\n\u001b[1;32m--> 474\u001b[1;33m             \u001b[0mself\u001b[0m\u001b[1;33m.\u001b[0m\u001b[0mfigure\u001b[0m\u001b[1;33m.\u001b[0m\u001b[0mdraw\u001b[0m\u001b[1;33m(\u001b[0m\u001b[0mself\u001b[0m\u001b[1;33m.\u001b[0m\u001b[0mrenderer\u001b[0m\u001b[1;33m)\u001b[0m\u001b[1;33m\u001b[0m\u001b[0m\n\u001b[0m\u001b[0;32m    475\u001b[0m         \u001b[1;32mfinally\u001b[0m\u001b[1;33m:\u001b[0m\u001b[1;33m\u001b[0m\u001b[0m\n\u001b[0;32m    476\u001b[0m             \u001b[0mRendererAgg\u001b[0m\u001b[1;33m.\u001b[0m\u001b[0mlock\u001b[0m\u001b[1;33m.\u001b[0m\u001b[0mrelease\u001b[0m\u001b[1;33m(\u001b[0m\u001b[1;33m)\u001b[0m\u001b[1;33m\u001b[0m\u001b[0m\n",
      "\u001b[1;32mC:\\Anaconda3\\lib\\site-packages\\matplotlib\\artist.py\u001b[0m in \u001b[0;36mdraw_wrapper\u001b[1;34m(artist, renderer, *args, **kwargs)\u001b[0m\n\u001b[0;32m     59\u001b[0m     \u001b[1;32mdef\u001b[0m \u001b[0mdraw_wrapper\u001b[0m\u001b[1;33m(\u001b[0m\u001b[0martist\u001b[0m\u001b[1;33m,\u001b[0m \u001b[0mrenderer\u001b[0m\u001b[1;33m,\u001b[0m \u001b[1;33m*\u001b[0m\u001b[0margs\u001b[0m\u001b[1;33m,\u001b[0m \u001b[1;33m**\u001b[0m\u001b[0mkwargs\u001b[0m\u001b[1;33m)\u001b[0m\u001b[1;33m:\u001b[0m\u001b[1;33m\u001b[0m\u001b[0m\n\u001b[0;32m     60\u001b[0m         \u001b[0mbefore\u001b[0m\u001b[1;33m(\u001b[0m\u001b[0martist\u001b[0m\u001b[1;33m,\u001b[0m \u001b[0mrenderer\u001b[0m\u001b[1;33m)\u001b[0m\u001b[1;33m\u001b[0m\u001b[0m\n\u001b[1;32m---> 61\u001b[1;33m         \u001b[0mdraw\u001b[0m\u001b[1;33m(\u001b[0m\u001b[0martist\u001b[0m\u001b[1;33m,\u001b[0m \u001b[0mrenderer\u001b[0m\u001b[1;33m,\u001b[0m \u001b[1;33m*\u001b[0m\u001b[0margs\u001b[0m\u001b[1;33m,\u001b[0m \u001b[1;33m**\u001b[0m\u001b[0mkwargs\u001b[0m\u001b[1;33m)\u001b[0m\u001b[1;33m\u001b[0m\u001b[0m\n\u001b[0m\u001b[0;32m     62\u001b[0m         \u001b[0mafter\u001b[0m\u001b[1;33m(\u001b[0m\u001b[0martist\u001b[0m\u001b[1;33m,\u001b[0m \u001b[0mrenderer\u001b[0m\u001b[1;33m)\u001b[0m\u001b[1;33m\u001b[0m\u001b[0m\n\u001b[0;32m     63\u001b[0m \u001b[1;33m\u001b[0m\u001b[0m\n",
      "\u001b[1;32mC:\\Anaconda3\\lib\\site-packages\\matplotlib\\figure.py\u001b[0m in \u001b[0;36mdraw\u001b[1;34m(self, renderer)\u001b[0m\n\u001b[0;32m   1157\u001b[0m         \u001b[0mdsu\u001b[0m\u001b[1;33m.\u001b[0m\u001b[0msort\u001b[0m\u001b[1;33m(\u001b[0m\u001b[0mkey\u001b[0m\u001b[1;33m=\u001b[0m\u001b[0mitemgetter\u001b[0m\u001b[1;33m(\u001b[0m\u001b[1;36m0\u001b[0m\u001b[1;33m)\u001b[0m\u001b[1;33m)\u001b[0m\u001b[1;33m\u001b[0m\u001b[0m\n\u001b[0;32m   1158\u001b[0m         \u001b[1;32mfor\u001b[0m \u001b[0mzorder\u001b[0m\u001b[1;33m,\u001b[0m \u001b[0ma\u001b[0m\u001b[1;33m,\u001b[0m \u001b[0mfunc\u001b[0m\u001b[1;33m,\u001b[0m \u001b[0margs\u001b[0m \u001b[1;32min\u001b[0m \u001b[0mdsu\u001b[0m\u001b[1;33m:\u001b[0m\u001b[1;33m\u001b[0m\u001b[0m\n\u001b[1;32m-> 1159\u001b[1;33m             \u001b[0mfunc\u001b[0m\u001b[1;33m(\u001b[0m\u001b[1;33m*\u001b[0m\u001b[0margs\u001b[0m\u001b[1;33m)\u001b[0m\u001b[1;33m\u001b[0m\u001b[0m\n\u001b[0m\u001b[0;32m   1160\u001b[0m \u001b[1;33m\u001b[0m\u001b[0m\n\u001b[0;32m   1161\u001b[0m         \u001b[0mrenderer\u001b[0m\u001b[1;33m.\u001b[0m\u001b[0mclose_group\u001b[0m\u001b[1;33m(\u001b[0m\u001b[1;34m'figure'\u001b[0m\u001b[1;33m)\u001b[0m\u001b[1;33m\u001b[0m\u001b[0m\n",
      "\u001b[1;32mC:\\Anaconda3\\lib\\site-packages\\matplotlib\\artist.py\u001b[0m in \u001b[0;36mdraw_wrapper\u001b[1;34m(artist, renderer, *args, **kwargs)\u001b[0m\n\u001b[0;32m     59\u001b[0m     \u001b[1;32mdef\u001b[0m \u001b[0mdraw_wrapper\u001b[0m\u001b[1;33m(\u001b[0m\u001b[0martist\u001b[0m\u001b[1;33m,\u001b[0m \u001b[0mrenderer\u001b[0m\u001b[1;33m,\u001b[0m \u001b[1;33m*\u001b[0m\u001b[0margs\u001b[0m\u001b[1;33m,\u001b[0m \u001b[1;33m**\u001b[0m\u001b[0mkwargs\u001b[0m\u001b[1;33m)\u001b[0m\u001b[1;33m:\u001b[0m\u001b[1;33m\u001b[0m\u001b[0m\n\u001b[0;32m     60\u001b[0m         \u001b[0mbefore\u001b[0m\u001b[1;33m(\u001b[0m\u001b[0martist\u001b[0m\u001b[1;33m,\u001b[0m \u001b[0mrenderer\u001b[0m\u001b[1;33m)\u001b[0m\u001b[1;33m\u001b[0m\u001b[0m\n\u001b[1;32m---> 61\u001b[1;33m         \u001b[0mdraw\u001b[0m\u001b[1;33m(\u001b[0m\u001b[0martist\u001b[0m\u001b[1;33m,\u001b[0m \u001b[0mrenderer\u001b[0m\u001b[1;33m,\u001b[0m \u001b[1;33m*\u001b[0m\u001b[0margs\u001b[0m\u001b[1;33m,\u001b[0m \u001b[1;33m**\u001b[0m\u001b[0mkwargs\u001b[0m\u001b[1;33m)\u001b[0m\u001b[1;33m\u001b[0m\u001b[0m\n\u001b[0m\u001b[0;32m     62\u001b[0m         \u001b[0mafter\u001b[0m\u001b[1;33m(\u001b[0m\u001b[0martist\u001b[0m\u001b[1;33m,\u001b[0m \u001b[0mrenderer\u001b[0m\u001b[1;33m)\u001b[0m\u001b[1;33m\u001b[0m\u001b[0m\n\u001b[0;32m     63\u001b[0m \u001b[1;33m\u001b[0m\u001b[0m\n",
      "\u001b[1;32mC:\\Anaconda3\\lib\\site-packages\\matplotlib\\axes\\_base.py\u001b[0m in \u001b[0;36mdraw\u001b[1;34m(self, renderer, inframe)\u001b[0m\n\u001b[0;32m   2322\u001b[0m \u001b[1;33m\u001b[0m\u001b[0m\n\u001b[0;32m   2323\u001b[0m         \u001b[1;32mfor\u001b[0m \u001b[0mzorder\u001b[0m\u001b[1;33m,\u001b[0m \u001b[0ma\u001b[0m \u001b[1;32min\u001b[0m \u001b[0mdsu\u001b[0m\u001b[1;33m:\u001b[0m\u001b[1;33m\u001b[0m\u001b[0m\n\u001b[1;32m-> 2324\u001b[1;33m             \u001b[0ma\u001b[0m\u001b[1;33m.\u001b[0m\u001b[0mdraw\u001b[0m\u001b[1;33m(\u001b[0m\u001b[0mrenderer\u001b[0m\u001b[1;33m)\u001b[0m\u001b[1;33m\u001b[0m\u001b[0m\n\u001b[0m\u001b[0;32m   2325\u001b[0m \u001b[1;33m\u001b[0m\u001b[0m\n\u001b[0;32m   2326\u001b[0m         \u001b[0mrenderer\u001b[0m\u001b[1;33m.\u001b[0m\u001b[0mclose_group\u001b[0m\u001b[1;33m(\u001b[0m\u001b[1;34m'axes'\u001b[0m\u001b[1;33m)\u001b[0m\u001b[1;33m\u001b[0m\u001b[0m\n",
      "\u001b[1;32mC:\\Anaconda3\\lib\\site-packages\\matplotlib\\artist.py\u001b[0m in \u001b[0;36mdraw_wrapper\u001b[1;34m(artist, renderer, *args, **kwargs)\u001b[0m\n\u001b[0;32m     59\u001b[0m     \u001b[1;32mdef\u001b[0m \u001b[0mdraw_wrapper\u001b[0m\u001b[1;33m(\u001b[0m\u001b[0martist\u001b[0m\u001b[1;33m,\u001b[0m \u001b[0mrenderer\u001b[0m\u001b[1;33m,\u001b[0m \u001b[1;33m*\u001b[0m\u001b[0margs\u001b[0m\u001b[1;33m,\u001b[0m \u001b[1;33m**\u001b[0m\u001b[0mkwargs\u001b[0m\u001b[1;33m)\u001b[0m\u001b[1;33m:\u001b[0m\u001b[1;33m\u001b[0m\u001b[0m\n\u001b[0;32m     60\u001b[0m         \u001b[0mbefore\u001b[0m\u001b[1;33m(\u001b[0m\u001b[0martist\u001b[0m\u001b[1;33m,\u001b[0m \u001b[0mrenderer\u001b[0m\u001b[1;33m)\u001b[0m\u001b[1;33m\u001b[0m\u001b[0m\n\u001b[1;32m---> 61\u001b[1;33m         \u001b[0mdraw\u001b[0m\u001b[1;33m(\u001b[0m\u001b[0martist\u001b[0m\u001b[1;33m,\u001b[0m \u001b[0mrenderer\u001b[0m\u001b[1;33m,\u001b[0m \u001b[1;33m*\u001b[0m\u001b[0margs\u001b[0m\u001b[1;33m,\u001b[0m \u001b[1;33m**\u001b[0m\u001b[0mkwargs\u001b[0m\u001b[1;33m)\u001b[0m\u001b[1;33m\u001b[0m\u001b[0m\n\u001b[0m\u001b[0;32m     62\u001b[0m         \u001b[0mafter\u001b[0m\u001b[1;33m(\u001b[0m\u001b[0martist\u001b[0m\u001b[1;33m,\u001b[0m \u001b[0mrenderer\u001b[0m\u001b[1;33m)\u001b[0m\u001b[1;33m\u001b[0m\u001b[0m\n\u001b[0;32m     63\u001b[0m \u001b[1;33m\u001b[0m\u001b[0m\n",
      "\u001b[1;32mC:\\Anaconda3\\lib\\site-packages\\matplotlib\\axis.py\u001b[0m in \u001b[0;36mdraw\u001b[1;34m(self, renderer, *args, **kwargs)\u001b[0m\n\u001b[0;32m   1104\u001b[0m         \u001b[0mrenderer\u001b[0m\u001b[1;33m.\u001b[0m\u001b[0mopen_group\u001b[0m\u001b[1;33m(\u001b[0m\u001b[0m__name__\u001b[0m\u001b[1;33m)\u001b[0m\u001b[1;33m\u001b[0m\u001b[0m\n\u001b[0;32m   1105\u001b[0m \u001b[1;33m\u001b[0m\u001b[0m\n\u001b[1;32m-> 1106\u001b[1;33m         \u001b[0mticks_to_draw\u001b[0m \u001b[1;33m=\u001b[0m \u001b[0mself\u001b[0m\u001b[1;33m.\u001b[0m\u001b[0m_update_ticks\u001b[0m\u001b[1;33m(\u001b[0m\u001b[0mrenderer\u001b[0m\u001b[1;33m)\u001b[0m\u001b[1;33m\u001b[0m\u001b[0m\n\u001b[0m\u001b[0;32m   1107\u001b[0m         ticklabelBoxes, ticklabelBoxes2 = self._get_tick_bboxes(ticks_to_draw,\n\u001b[0;32m   1108\u001b[0m                                                                 renderer)\n",
      "\u001b[1;32mC:\\Anaconda3\\lib\\site-packages\\matplotlib\\axis.py\u001b[0m in \u001b[0;36m_update_ticks\u001b[1;34m(self, renderer)\u001b[0m\n\u001b[0;32m    947\u001b[0m \u001b[1;33m\u001b[0m\u001b[0m\n\u001b[0;32m    948\u001b[0m         \u001b[0minterval\u001b[0m \u001b[1;33m=\u001b[0m \u001b[0mself\u001b[0m\u001b[1;33m.\u001b[0m\u001b[0mget_view_interval\u001b[0m\u001b[1;33m(\u001b[0m\u001b[1;33m)\u001b[0m\u001b[1;33m\u001b[0m\u001b[0m\n\u001b[1;32m--> 949\u001b[1;33m         \u001b[0mtick_tups\u001b[0m \u001b[1;33m=\u001b[0m \u001b[1;33m[\u001b[0m\u001b[0mt\u001b[0m \u001b[1;32mfor\u001b[0m \u001b[0mt\u001b[0m \u001b[1;32min\u001b[0m \u001b[0mself\u001b[0m\u001b[1;33m.\u001b[0m\u001b[0miter_ticks\u001b[0m\u001b[1;33m(\u001b[0m\u001b[1;33m)\u001b[0m\u001b[1;33m]\u001b[0m\u001b[1;33m\u001b[0m\u001b[0m\n\u001b[0m\u001b[0;32m    950\u001b[0m         \u001b[1;32mif\u001b[0m \u001b[0mself\u001b[0m\u001b[1;33m.\u001b[0m\u001b[0m_smart_bounds\u001b[0m\u001b[1;33m:\u001b[0m\u001b[1;33m\u001b[0m\u001b[0m\n\u001b[0;32m    951\u001b[0m             \u001b[1;31m# handle inverted limits\u001b[0m\u001b[1;33m\u001b[0m\u001b[1;33m\u001b[0m\u001b[0m\n",
      "\u001b[1;32mC:\\Anaconda3\\lib\\site-packages\\matplotlib\\axis.py\u001b[0m in \u001b[0;36m<listcomp>\u001b[1;34m(.0)\u001b[0m\n\u001b[0;32m    947\u001b[0m \u001b[1;33m\u001b[0m\u001b[0m\n\u001b[0;32m    948\u001b[0m         \u001b[0minterval\u001b[0m \u001b[1;33m=\u001b[0m \u001b[0mself\u001b[0m\u001b[1;33m.\u001b[0m\u001b[0mget_view_interval\u001b[0m\u001b[1;33m(\u001b[0m\u001b[1;33m)\u001b[0m\u001b[1;33m\u001b[0m\u001b[0m\n\u001b[1;32m--> 949\u001b[1;33m         \u001b[0mtick_tups\u001b[0m \u001b[1;33m=\u001b[0m \u001b[1;33m[\u001b[0m\u001b[0mt\u001b[0m \u001b[1;32mfor\u001b[0m \u001b[0mt\u001b[0m \u001b[1;32min\u001b[0m \u001b[0mself\u001b[0m\u001b[1;33m.\u001b[0m\u001b[0miter_ticks\u001b[0m\u001b[1;33m(\u001b[0m\u001b[1;33m)\u001b[0m\u001b[1;33m]\u001b[0m\u001b[1;33m\u001b[0m\u001b[0m\n\u001b[0m\u001b[0;32m    950\u001b[0m         \u001b[1;32mif\u001b[0m \u001b[0mself\u001b[0m\u001b[1;33m.\u001b[0m\u001b[0m_smart_bounds\u001b[0m\u001b[1;33m:\u001b[0m\u001b[1;33m\u001b[0m\u001b[0m\n\u001b[0;32m    951\u001b[0m             \u001b[1;31m# handle inverted limits\u001b[0m\u001b[1;33m\u001b[0m\u001b[1;33m\u001b[0m\u001b[0m\n",
      "\u001b[1;32mC:\\Anaconda3\\lib\\site-packages\\matplotlib\\axis.py\u001b[0m in \u001b[0;36miter_ticks\u001b[1;34m(self)\u001b[0m\n\u001b[0;32m    892\u001b[0m         \u001b[0mmajorLocs\u001b[0m \u001b[1;33m=\u001b[0m \u001b[0mself\u001b[0m\u001b[1;33m.\u001b[0m\u001b[0mmajor\u001b[0m\u001b[1;33m.\u001b[0m\u001b[0mlocator\u001b[0m\u001b[1;33m(\u001b[0m\u001b[1;33m)\u001b[0m\u001b[1;33m\u001b[0m\u001b[0m\n\u001b[0;32m    893\u001b[0m         \u001b[0mmajorTicks\u001b[0m \u001b[1;33m=\u001b[0m \u001b[0mself\u001b[0m\u001b[1;33m.\u001b[0m\u001b[0mget_major_ticks\u001b[0m\u001b[1;33m(\u001b[0m\u001b[0mlen\u001b[0m\u001b[1;33m(\u001b[0m\u001b[0mmajorLocs\u001b[0m\u001b[1;33m)\u001b[0m\u001b[1;33m)\u001b[0m\u001b[1;33m\u001b[0m\u001b[0m\n\u001b[1;32m--> 894\u001b[1;33m         \u001b[0mself\u001b[0m\u001b[1;33m.\u001b[0m\u001b[0mmajor\u001b[0m\u001b[1;33m.\u001b[0m\u001b[0mformatter\u001b[0m\u001b[1;33m.\u001b[0m\u001b[0mset_locs\u001b[0m\u001b[1;33m(\u001b[0m\u001b[0mmajorLocs\u001b[0m\u001b[1;33m)\u001b[0m\u001b[1;33m\u001b[0m\u001b[0m\n\u001b[0m\u001b[0;32m    895\u001b[0m         majorLabels = [self.major.formatter(val, i)\n\u001b[0;32m    896\u001b[0m                        for i, val in enumerate(majorLocs)]\n",
      "\u001b[1;32mC:\\Anaconda3\\lib\\site-packages\\matplotlib\\ticker.py\u001b[0m in \u001b[0;36mset_locs\u001b[1;34m(self, locs)\u001b[0m\n\u001b[0;32m    535\u001b[0m                 \u001b[0mself\u001b[0m\u001b[1;33m.\u001b[0m\u001b[0m_set_offset\u001b[0m\u001b[1;33m(\u001b[0m\u001b[0md\u001b[0m\u001b[1;33m)\u001b[0m\u001b[1;33m\u001b[0m\u001b[0m\n\u001b[0;32m    536\u001b[0m             \u001b[0mself\u001b[0m\u001b[1;33m.\u001b[0m\u001b[0m_set_orderOfMagnitude\u001b[0m\u001b[1;33m(\u001b[0m\u001b[0md\u001b[0m\u001b[1;33m)\u001b[0m\u001b[1;33m\u001b[0m\u001b[0m\n\u001b[1;32m--> 537\u001b[1;33m             \u001b[0mself\u001b[0m\u001b[1;33m.\u001b[0m\u001b[0m_set_format\u001b[0m\u001b[1;33m(\u001b[0m\u001b[0mvmin\u001b[0m\u001b[1;33m,\u001b[0m \u001b[0mvmax\u001b[0m\u001b[1;33m)\u001b[0m\u001b[1;33m\u001b[0m\u001b[0m\n\u001b[0m\u001b[0;32m    538\u001b[0m \u001b[1;33m\u001b[0m\u001b[0m\n\u001b[0;32m    539\u001b[0m     \u001b[1;32mdef\u001b[0m \u001b[0m_set_offset\u001b[0m\u001b[1;33m(\u001b[0m\u001b[0mself\u001b[0m\u001b[1;33m,\u001b[0m \u001b[0mrange\u001b[0m\u001b[1;33m)\u001b[0m\u001b[1;33m:\u001b[0m\u001b[1;33m\u001b[0m\u001b[0m\n",
      "\u001b[1;32mC:\\Anaconda3\\lib\\site-packages\\matplotlib\\ticker.py\u001b[0m in \u001b[0;36m_set_format\u001b[1;34m(self, vmin, vmax)\u001b[0m\n\u001b[0;32m    608\u001b[0m         \u001b[0mthresh\u001b[0m \u001b[1;33m=\u001b[0m \u001b[1;36m1e-3\u001b[0m \u001b[1;33m*\u001b[0m \u001b[1;36m10\u001b[0m \u001b[1;33m**\u001b[0m \u001b[0mloc_range_oom\u001b[0m\u001b[1;33m\u001b[0m\u001b[0m\n\u001b[0;32m    609\u001b[0m         \u001b[1;32mwhile\u001b[0m \u001b[0msigfigs\u001b[0m \u001b[1;33m>=\u001b[0m \u001b[1;36m0\u001b[0m\u001b[1;33m:\u001b[0m\u001b[1;33m\u001b[0m\u001b[0m\n\u001b[1;32m--> 610\u001b[1;33m             \u001b[1;32mif\u001b[0m \u001b[0mnp\u001b[0m\u001b[1;33m.\u001b[0m\u001b[0mabs\u001b[0m\u001b[1;33m(\u001b[0m\u001b[0mlocs\u001b[0m \u001b[1;33m-\u001b[0m \u001b[0mnp\u001b[0m\u001b[1;33m.\u001b[0m\u001b[0mround\u001b[0m\u001b[1;33m(\u001b[0m\u001b[0mlocs\u001b[0m\u001b[1;33m,\u001b[0m \u001b[0mdecimals\u001b[0m\u001b[1;33m=\u001b[0m\u001b[0msigfigs\u001b[0m\u001b[1;33m)\u001b[0m\u001b[1;33m)\u001b[0m\u001b[1;33m.\u001b[0m\u001b[0mmax\u001b[0m\u001b[1;33m(\u001b[0m\u001b[1;33m)\u001b[0m \u001b[1;33m<\u001b[0m \u001b[0mthresh\u001b[0m\u001b[1;33m:\u001b[0m\u001b[1;33m\u001b[0m\u001b[0m\n\u001b[0m\u001b[0;32m    611\u001b[0m                 \u001b[0msigfigs\u001b[0m \u001b[1;33m-=\u001b[0m \u001b[1;36m1\u001b[0m\u001b[1;33m\u001b[0m\u001b[0m\n\u001b[0;32m    612\u001b[0m             \u001b[1;32melse\u001b[0m\u001b[1;33m:\u001b[0m\u001b[1;33m\u001b[0m\u001b[0m\n",
      "\u001b[1;32mC:\\Anaconda3\\lib\\site-packages\\numpy\\core\\fromnumeric.py\u001b[0m in \u001b[0;36mround_\u001b[1;34m(a, decimals, out)\u001b[0m\n\u001b[0;32m   2791\u001b[0m     \u001b[1;32mexcept\u001b[0m \u001b[0mAttributeError\u001b[0m\u001b[1;33m:\u001b[0m\u001b[1;33m\u001b[0m\u001b[0m\n\u001b[0;32m   2792\u001b[0m         \u001b[1;32mreturn\u001b[0m \u001b[0m_wrapit\u001b[0m\u001b[1;33m(\u001b[0m\u001b[0ma\u001b[0m\u001b[1;33m,\u001b[0m \u001b[1;34m'round'\u001b[0m\u001b[1;33m,\u001b[0m \u001b[0mdecimals\u001b[0m\u001b[1;33m,\u001b[0m \u001b[0mout\u001b[0m\u001b[1;33m)\u001b[0m\u001b[1;33m\u001b[0m\u001b[0m\n\u001b[1;32m-> 2793\u001b[1;33m     \u001b[1;32mreturn\u001b[0m \u001b[0mround\u001b[0m\u001b[1;33m(\u001b[0m\u001b[0mdecimals\u001b[0m\u001b[1;33m,\u001b[0m \u001b[0mout\u001b[0m\u001b[1;33m)\u001b[0m\u001b[1;33m\u001b[0m\u001b[0m\n\u001b[0m\u001b[0;32m   2794\u001b[0m \u001b[1;33m\u001b[0m\u001b[0m\n\u001b[0;32m   2795\u001b[0m \u001b[1;33m\u001b[0m\u001b[0m\n",
      "\u001b[1;31mAttributeError\u001b[0m: 'float' object has no attribute 'rint'"
     ]
    },
    {
     "ename": "AttributeError",
     "evalue": "'float' object has no attribute 'rint'",
     "output_type": "error",
     "traceback": [
      "\u001b[1;31m---------------------------------------------------------------------------\u001b[0m",
      "\u001b[1;31mAttributeError\u001b[0m                            Traceback (most recent call last)",
      "\u001b[1;32mC:\\Anaconda3\\lib\\site-packages\\IPython\\core\\formatters.py\u001b[0m in \u001b[0;36m__call__\u001b[1;34m(self, obj)\u001b[0m\n\u001b[0;32m    337\u001b[0m                 \u001b[1;32mpass\u001b[0m\u001b[1;33m\u001b[0m\u001b[0m\n\u001b[0;32m    338\u001b[0m             \u001b[1;32melse\u001b[0m\u001b[1;33m:\u001b[0m\u001b[1;33m\u001b[0m\u001b[0m\n\u001b[1;32m--> 339\u001b[1;33m                 \u001b[1;32mreturn\u001b[0m \u001b[0mprinter\u001b[0m\u001b[1;33m(\u001b[0m\u001b[0mobj\u001b[0m\u001b[1;33m)\u001b[0m\u001b[1;33m\u001b[0m\u001b[0m\n\u001b[0m\u001b[0;32m    340\u001b[0m             \u001b[1;31m# Finally look for special method names\u001b[0m\u001b[1;33m\u001b[0m\u001b[1;33m\u001b[0m\u001b[0m\n\u001b[0;32m    341\u001b[0m             \u001b[0mmethod\u001b[0m \u001b[1;33m=\u001b[0m \u001b[0m_safe_get_formatter_method\u001b[0m\u001b[1;33m(\u001b[0m\u001b[0mobj\u001b[0m\u001b[1;33m,\u001b[0m \u001b[0mself\u001b[0m\u001b[1;33m.\u001b[0m\u001b[0mprint_method\u001b[0m\u001b[1;33m)\u001b[0m\u001b[1;33m\u001b[0m\u001b[0m\n",
      "\u001b[1;32mC:\\Anaconda3\\lib\\site-packages\\IPython\\core\\pylabtools.py\u001b[0m in \u001b[0;36m<lambda>\u001b[1;34m(fig)\u001b[0m\n\u001b[0;32m    226\u001b[0m \u001b[1;33m\u001b[0m\u001b[0m\n\u001b[0;32m    227\u001b[0m     \u001b[1;32mif\u001b[0m \u001b[1;34m'png'\u001b[0m \u001b[1;32min\u001b[0m \u001b[0mformats\u001b[0m\u001b[1;33m:\u001b[0m\u001b[1;33m\u001b[0m\u001b[0m\n\u001b[1;32m--> 228\u001b[1;33m         \u001b[0mpng_formatter\u001b[0m\u001b[1;33m.\u001b[0m\u001b[0mfor_type\u001b[0m\u001b[1;33m(\u001b[0m\u001b[0mFigure\u001b[0m\u001b[1;33m,\u001b[0m \u001b[1;32mlambda\u001b[0m \u001b[0mfig\u001b[0m\u001b[1;33m:\u001b[0m \u001b[0mprint_figure\u001b[0m\u001b[1;33m(\u001b[0m\u001b[0mfig\u001b[0m\u001b[1;33m,\u001b[0m \u001b[1;34m'png'\u001b[0m\u001b[1;33m,\u001b[0m \u001b[1;33m**\u001b[0m\u001b[0mkwargs\u001b[0m\u001b[1;33m)\u001b[0m\u001b[1;33m)\u001b[0m\u001b[1;33m\u001b[0m\u001b[0m\n\u001b[0m\u001b[0;32m    229\u001b[0m     \u001b[1;32mif\u001b[0m \u001b[1;34m'retina'\u001b[0m \u001b[1;32min\u001b[0m \u001b[0mformats\u001b[0m \u001b[1;32mor\u001b[0m \u001b[1;34m'png2x'\u001b[0m \u001b[1;32min\u001b[0m \u001b[0mformats\u001b[0m\u001b[1;33m:\u001b[0m\u001b[1;33m\u001b[0m\u001b[0m\n\u001b[0;32m    230\u001b[0m         \u001b[0mpng_formatter\u001b[0m\u001b[1;33m.\u001b[0m\u001b[0mfor_type\u001b[0m\u001b[1;33m(\u001b[0m\u001b[0mFigure\u001b[0m\u001b[1;33m,\u001b[0m \u001b[1;32mlambda\u001b[0m \u001b[0mfig\u001b[0m\u001b[1;33m:\u001b[0m \u001b[0mretina_figure\u001b[0m\u001b[1;33m(\u001b[0m\u001b[0mfig\u001b[0m\u001b[1;33m,\u001b[0m \u001b[1;33m**\u001b[0m\u001b[0mkwargs\u001b[0m\u001b[1;33m)\u001b[0m\u001b[1;33m)\u001b[0m\u001b[1;33m\u001b[0m\u001b[0m\n",
      "\u001b[1;32mC:\\Anaconda3\\lib\\site-packages\\IPython\\core\\pylabtools.py\u001b[0m in \u001b[0;36mprint_figure\u001b[1;34m(fig, fmt, bbox_inches, **kwargs)\u001b[0m\n\u001b[0;32m    117\u001b[0m \u001b[1;33m\u001b[0m\u001b[0m\n\u001b[0;32m    118\u001b[0m     \u001b[0mbytes_io\u001b[0m \u001b[1;33m=\u001b[0m \u001b[0mBytesIO\u001b[0m\u001b[1;33m(\u001b[0m\u001b[1;33m)\u001b[0m\u001b[1;33m\u001b[0m\u001b[0m\n\u001b[1;32m--> 119\u001b[1;33m     \u001b[0mfig\u001b[0m\u001b[1;33m.\u001b[0m\u001b[0mcanvas\u001b[0m\u001b[1;33m.\u001b[0m\u001b[0mprint_figure\u001b[0m\u001b[1;33m(\u001b[0m\u001b[0mbytes_io\u001b[0m\u001b[1;33m,\u001b[0m \u001b[1;33m**\u001b[0m\u001b[0mkw\u001b[0m\u001b[1;33m)\u001b[0m\u001b[1;33m\u001b[0m\u001b[0m\n\u001b[0m\u001b[0;32m    120\u001b[0m     \u001b[0mdata\u001b[0m \u001b[1;33m=\u001b[0m \u001b[0mbytes_io\u001b[0m\u001b[1;33m.\u001b[0m\u001b[0mgetvalue\u001b[0m\u001b[1;33m(\u001b[0m\u001b[1;33m)\u001b[0m\u001b[1;33m\u001b[0m\u001b[0m\n\u001b[0;32m    121\u001b[0m     \u001b[1;32mif\u001b[0m \u001b[0mfmt\u001b[0m \u001b[1;33m==\u001b[0m \u001b[1;34m'svg'\u001b[0m\u001b[1;33m:\u001b[0m\u001b[1;33m\u001b[0m\u001b[0m\n",
      "\u001b[1;32mC:\\Anaconda3\\lib\\site-packages\\matplotlib\\backend_bases.py\u001b[0m in \u001b[0;36mprint_figure\u001b[1;34m(self, filename, dpi, facecolor, edgecolor, orientation, format, **kwargs)\u001b[0m\n\u001b[0;32m   2178\u001b[0m                     \u001b[0morientation\u001b[0m\u001b[1;33m=\u001b[0m\u001b[0morientation\u001b[0m\u001b[1;33m,\u001b[0m\u001b[1;33m\u001b[0m\u001b[0m\n\u001b[0;32m   2179\u001b[0m                     \u001b[0mdryrun\u001b[0m\u001b[1;33m=\u001b[0m\u001b[1;32mTrue\u001b[0m\u001b[1;33m,\u001b[0m\u001b[1;33m\u001b[0m\u001b[0m\n\u001b[1;32m-> 2180\u001b[1;33m                     **kwargs)\n\u001b[0m\u001b[0;32m   2181\u001b[0m                 \u001b[0mrenderer\u001b[0m \u001b[1;33m=\u001b[0m \u001b[0mself\u001b[0m\u001b[1;33m.\u001b[0m\u001b[0mfigure\u001b[0m\u001b[1;33m.\u001b[0m\u001b[0m_cachedRenderer\u001b[0m\u001b[1;33m\u001b[0m\u001b[0m\n\u001b[0;32m   2182\u001b[0m                 \u001b[0mbbox_inches\u001b[0m \u001b[1;33m=\u001b[0m \u001b[0mself\u001b[0m\u001b[1;33m.\u001b[0m\u001b[0mfigure\u001b[0m\u001b[1;33m.\u001b[0m\u001b[0mget_tightbbox\u001b[0m\u001b[1;33m(\u001b[0m\u001b[0mrenderer\u001b[0m\u001b[1;33m)\u001b[0m\u001b[1;33m\u001b[0m\u001b[0m\n",
      "\u001b[1;32mC:\\Anaconda3\\lib\\site-packages\\matplotlib\\backends\\backend_agg.py\u001b[0m in \u001b[0;36mprint_png\u001b[1;34m(self, filename_or_obj, *args, **kwargs)\u001b[0m\n\u001b[0;32m    525\u001b[0m \u001b[1;33m\u001b[0m\u001b[0m\n\u001b[0;32m    526\u001b[0m     \u001b[1;32mdef\u001b[0m \u001b[0mprint_png\u001b[0m\u001b[1;33m(\u001b[0m\u001b[0mself\u001b[0m\u001b[1;33m,\u001b[0m \u001b[0mfilename_or_obj\u001b[0m\u001b[1;33m,\u001b[0m \u001b[1;33m*\u001b[0m\u001b[0margs\u001b[0m\u001b[1;33m,\u001b[0m \u001b[1;33m**\u001b[0m\u001b[0mkwargs\u001b[0m\u001b[1;33m)\u001b[0m\u001b[1;33m:\u001b[0m\u001b[1;33m\u001b[0m\u001b[0m\n\u001b[1;32m--> 527\u001b[1;33m         \u001b[0mFigureCanvasAgg\u001b[0m\u001b[1;33m.\u001b[0m\u001b[0mdraw\u001b[0m\u001b[1;33m(\u001b[0m\u001b[0mself\u001b[0m\u001b[1;33m)\u001b[0m\u001b[1;33m\u001b[0m\u001b[0m\n\u001b[0m\u001b[0;32m    528\u001b[0m         \u001b[0mrenderer\u001b[0m \u001b[1;33m=\u001b[0m \u001b[0mself\u001b[0m\u001b[1;33m.\u001b[0m\u001b[0mget_renderer\u001b[0m\u001b[1;33m(\u001b[0m\u001b[1;33m)\u001b[0m\u001b[1;33m\u001b[0m\u001b[0m\n\u001b[0;32m    529\u001b[0m         \u001b[0moriginal_dpi\u001b[0m \u001b[1;33m=\u001b[0m \u001b[0mrenderer\u001b[0m\u001b[1;33m.\u001b[0m\u001b[0mdpi\u001b[0m\u001b[1;33m\u001b[0m\u001b[0m\n",
      "\u001b[1;32mC:\\Anaconda3\\lib\\site-packages\\matplotlib\\backends\\backend_agg.py\u001b[0m in \u001b[0;36mdraw\u001b[1;34m(self)\u001b[0m\n\u001b[0;32m    472\u001b[0m \u001b[1;33m\u001b[0m\u001b[0m\n\u001b[0;32m    473\u001b[0m         \u001b[1;32mtry\u001b[0m\u001b[1;33m:\u001b[0m\u001b[1;33m\u001b[0m\u001b[0m\n\u001b[1;32m--> 474\u001b[1;33m             \u001b[0mself\u001b[0m\u001b[1;33m.\u001b[0m\u001b[0mfigure\u001b[0m\u001b[1;33m.\u001b[0m\u001b[0mdraw\u001b[0m\u001b[1;33m(\u001b[0m\u001b[0mself\u001b[0m\u001b[1;33m.\u001b[0m\u001b[0mrenderer\u001b[0m\u001b[1;33m)\u001b[0m\u001b[1;33m\u001b[0m\u001b[0m\n\u001b[0m\u001b[0;32m    475\u001b[0m         \u001b[1;32mfinally\u001b[0m\u001b[1;33m:\u001b[0m\u001b[1;33m\u001b[0m\u001b[0m\n\u001b[0;32m    476\u001b[0m             \u001b[0mRendererAgg\u001b[0m\u001b[1;33m.\u001b[0m\u001b[0mlock\u001b[0m\u001b[1;33m.\u001b[0m\u001b[0mrelease\u001b[0m\u001b[1;33m(\u001b[0m\u001b[1;33m)\u001b[0m\u001b[1;33m\u001b[0m\u001b[0m\n",
      "\u001b[1;32mC:\\Anaconda3\\lib\\site-packages\\matplotlib\\artist.py\u001b[0m in \u001b[0;36mdraw_wrapper\u001b[1;34m(artist, renderer, *args, **kwargs)\u001b[0m\n\u001b[0;32m     59\u001b[0m     \u001b[1;32mdef\u001b[0m \u001b[0mdraw_wrapper\u001b[0m\u001b[1;33m(\u001b[0m\u001b[0martist\u001b[0m\u001b[1;33m,\u001b[0m \u001b[0mrenderer\u001b[0m\u001b[1;33m,\u001b[0m \u001b[1;33m*\u001b[0m\u001b[0margs\u001b[0m\u001b[1;33m,\u001b[0m \u001b[1;33m**\u001b[0m\u001b[0mkwargs\u001b[0m\u001b[1;33m)\u001b[0m\u001b[1;33m:\u001b[0m\u001b[1;33m\u001b[0m\u001b[0m\n\u001b[0;32m     60\u001b[0m         \u001b[0mbefore\u001b[0m\u001b[1;33m(\u001b[0m\u001b[0martist\u001b[0m\u001b[1;33m,\u001b[0m \u001b[0mrenderer\u001b[0m\u001b[1;33m)\u001b[0m\u001b[1;33m\u001b[0m\u001b[0m\n\u001b[1;32m---> 61\u001b[1;33m         \u001b[0mdraw\u001b[0m\u001b[1;33m(\u001b[0m\u001b[0martist\u001b[0m\u001b[1;33m,\u001b[0m \u001b[0mrenderer\u001b[0m\u001b[1;33m,\u001b[0m \u001b[1;33m*\u001b[0m\u001b[0margs\u001b[0m\u001b[1;33m,\u001b[0m \u001b[1;33m**\u001b[0m\u001b[0mkwargs\u001b[0m\u001b[1;33m)\u001b[0m\u001b[1;33m\u001b[0m\u001b[0m\n\u001b[0m\u001b[0;32m     62\u001b[0m         \u001b[0mafter\u001b[0m\u001b[1;33m(\u001b[0m\u001b[0martist\u001b[0m\u001b[1;33m,\u001b[0m \u001b[0mrenderer\u001b[0m\u001b[1;33m)\u001b[0m\u001b[1;33m\u001b[0m\u001b[0m\n\u001b[0;32m     63\u001b[0m \u001b[1;33m\u001b[0m\u001b[0m\n",
      "\u001b[1;32mC:\\Anaconda3\\lib\\site-packages\\matplotlib\\figure.py\u001b[0m in \u001b[0;36mdraw\u001b[1;34m(self, renderer)\u001b[0m\n\u001b[0;32m   1157\u001b[0m         \u001b[0mdsu\u001b[0m\u001b[1;33m.\u001b[0m\u001b[0msort\u001b[0m\u001b[1;33m(\u001b[0m\u001b[0mkey\u001b[0m\u001b[1;33m=\u001b[0m\u001b[0mitemgetter\u001b[0m\u001b[1;33m(\u001b[0m\u001b[1;36m0\u001b[0m\u001b[1;33m)\u001b[0m\u001b[1;33m)\u001b[0m\u001b[1;33m\u001b[0m\u001b[0m\n\u001b[0;32m   1158\u001b[0m         \u001b[1;32mfor\u001b[0m \u001b[0mzorder\u001b[0m\u001b[1;33m,\u001b[0m \u001b[0ma\u001b[0m\u001b[1;33m,\u001b[0m \u001b[0mfunc\u001b[0m\u001b[1;33m,\u001b[0m \u001b[0margs\u001b[0m \u001b[1;32min\u001b[0m \u001b[0mdsu\u001b[0m\u001b[1;33m:\u001b[0m\u001b[1;33m\u001b[0m\u001b[0m\n\u001b[1;32m-> 1159\u001b[1;33m             \u001b[0mfunc\u001b[0m\u001b[1;33m(\u001b[0m\u001b[1;33m*\u001b[0m\u001b[0margs\u001b[0m\u001b[1;33m)\u001b[0m\u001b[1;33m\u001b[0m\u001b[0m\n\u001b[0m\u001b[0;32m   1160\u001b[0m \u001b[1;33m\u001b[0m\u001b[0m\n\u001b[0;32m   1161\u001b[0m         \u001b[0mrenderer\u001b[0m\u001b[1;33m.\u001b[0m\u001b[0mclose_group\u001b[0m\u001b[1;33m(\u001b[0m\u001b[1;34m'figure'\u001b[0m\u001b[1;33m)\u001b[0m\u001b[1;33m\u001b[0m\u001b[0m\n",
      "\u001b[1;32mC:\\Anaconda3\\lib\\site-packages\\matplotlib\\artist.py\u001b[0m in \u001b[0;36mdraw_wrapper\u001b[1;34m(artist, renderer, *args, **kwargs)\u001b[0m\n\u001b[0;32m     59\u001b[0m     \u001b[1;32mdef\u001b[0m \u001b[0mdraw_wrapper\u001b[0m\u001b[1;33m(\u001b[0m\u001b[0martist\u001b[0m\u001b[1;33m,\u001b[0m \u001b[0mrenderer\u001b[0m\u001b[1;33m,\u001b[0m \u001b[1;33m*\u001b[0m\u001b[0margs\u001b[0m\u001b[1;33m,\u001b[0m \u001b[1;33m**\u001b[0m\u001b[0mkwargs\u001b[0m\u001b[1;33m)\u001b[0m\u001b[1;33m:\u001b[0m\u001b[1;33m\u001b[0m\u001b[0m\n\u001b[0;32m     60\u001b[0m         \u001b[0mbefore\u001b[0m\u001b[1;33m(\u001b[0m\u001b[0martist\u001b[0m\u001b[1;33m,\u001b[0m \u001b[0mrenderer\u001b[0m\u001b[1;33m)\u001b[0m\u001b[1;33m\u001b[0m\u001b[0m\n\u001b[1;32m---> 61\u001b[1;33m         \u001b[0mdraw\u001b[0m\u001b[1;33m(\u001b[0m\u001b[0martist\u001b[0m\u001b[1;33m,\u001b[0m \u001b[0mrenderer\u001b[0m\u001b[1;33m,\u001b[0m \u001b[1;33m*\u001b[0m\u001b[0margs\u001b[0m\u001b[1;33m,\u001b[0m \u001b[1;33m**\u001b[0m\u001b[0mkwargs\u001b[0m\u001b[1;33m)\u001b[0m\u001b[1;33m\u001b[0m\u001b[0m\n\u001b[0m\u001b[0;32m     62\u001b[0m         \u001b[0mafter\u001b[0m\u001b[1;33m(\u001b[0m\u001b[0martist\u001b[0m\u001b[1;33m,\u001b[0m \u001b[0mrenderer\u001b[0m\u001b[1;33m)\u001b[0m\u001b[1;33m\u001b[0m\u001b[0m\n\u001b[0;32m     63\u001b[0m \u001b[1;33m\u001b[0m\u001b[0m\n",
      "\u001b[1;32mC:\\Anaconda3\\lib\\site-packages\\matplotlib\\axes\\_base.py\u001b[0m in \u001b[0;36mdraw\u001b[1;34m(self, renderer, inframe)\u001b[0m\n\u001b[0;32m   2322\u001b[0m \u001b[1;33m\u001b[0m\u001b[0m\n\u001b[0;32m   2323\u001b[0m         \u001b[1;32mfor\u001b[0m \u001b[0mzorder\u001b[0m\u001b[1;33m,\u001b[0m \u001b[0ma\u001b[0m \u001b[1;32min\u001b[0m \u001b[0mdsu\u001b[0m\u001b[1;33m:\u001b[0m\u001b[1;33m\u001b[0m\u001b[0m\n\u001b[1;32m-> 2324\u001b[1;33m             \u001b[0ma\u001b[0m\u001b[1;33m.\u001b[0m\u001b[0mdraw\u001b[0m\u001b[1;33m(\u001b[0m\u001b[0mrenderer\u001b[0m\u001b[1;33m)\u001b[0m\u001b[1;33m\u001b[0m\u001b[0m\n\u001b[0m\u001b[0;32m   2325\u001b[0m \u001b[1;33m\u001b[0m\u001b[0m\n\u001b[0;32m   2326\u001b[0m         \u001b[0mrenderer\u001b[0m\u001b[1;33m.\u001b[0m\u001b[0mclose_group\u001b[0m\u001b[1;33m(\u001b[0m\u001b[1;34m'axes'\u001b[0m\u001b[1;33m)\u001b[0m\u001b[1;33m\u001b[0m\u001b[0m\n",
      "\u001b[1;32mC:\\Anaconda3\\lib\\site-packages\\matplotlib\\artist.py\u001b[0m in \u001b[0;36mdraw_wrapper\u001b[1;34m(artist, renderer, *args, **kwargs)\u001b[0m\n\u001b[0;32m     59\u001b[0m     \u001b[1;32mdef\u001b[0m \u001b[0mdraw_wrapper\u001b[0m\u001b[1;33m(\u001b[0m\u001b[0martist\u001b[0m\u001b[1;33m,\u001b[0m \u001b[0mrenderer\u001b[0m\u001b[1;33m,\u001b[0m \u001b[1;33m*\u001b[0m\u001b[0margs\u001b[0m\u001b[1;33m,\u001b[0m \u001b[1;33m**\u001b[0m\u001b[0mkwargs\u001b[0m\u001b[1;33m)\u001b[0m\u001b[1;33m:\u001b[0m\u001b[1;33m\u001b[0m\u001b[0m\n\u001b[0;32m     60\u001b[0m         \u001b[0mbefore\u001b[0m\u001b[1;33m(\u001b[0m\u001b[0martist\u001b[0m\u001b[1;33m,\u001b[0m \u001b[0mrenderer\u001b[0m\u001b[1;33m)\u001b[0m\u001b[1;33m\u001b[0m\u001b[0m\n\u001b[1;32m---> 61\u001b[1;33m         \u001b[0mdraw\u001b[0m\u001b[1;33m(\u001b[0m\u001b[0martist\u001b[0m\u001b[1;33m,\u001b[0m \u001b[0mrenderer\u001b[0m\u001b[1;33m,\u001b[0m \u001b[1;33m*\u001b[0m\u001b[0margs\u001b[0m\u001b[1;33m,\u001b[0m \u001b[1;33m**\u001b[0m\u001b[0mkwargs\u001b[0m\u001b[1;33m)\u001b[0m\u001b[1;33m\u001b[0m\u001b[0m\n\u001b[0m\u001b[0;32m     62\u001b[0m         \u001b[0mafter\u001b[0m\u001b[1;33m(\u001b[0m\u001b[0martist\u001b[0m\u001b[1;33m,\u001b[0m \u001b[0mrenderer\u001b[0m\u001b[1;33m)\u001b[0m\u001b[1;33m\u001b[0m\u001b[0m\n\u001b[0;32m     63\u001b[0m \u001b[1;33m\u001b[0m\u001b[0m\n",
      "\u001b[1;32mC:\\Anaconda3\\lib\\site-packages\\matplotlib\\axis.py\u001b[0m in \u001b[0;36mdraw\u001b[1;34m(self, renderer, *args, **kwargs)\u001b[0m\n\u001b[0;32m   1104\u001b[0m         \u001b[0mrenderer\u001b[0m\u001b[1;33m.\u001b[0m\u001b[0mopen_group\u001b[0m\u001b[1;33m(\u001b[0m\u001b[0m__name__\u001b[0m\u001b[1;33m)\u001b[0m\u001b[1;33m\u001b[0m\u001b[0m\n\u001b[0;32m   1105\u001b[0m \u001b[1;33m\u001b[0m\u001b[0m\n\u001b[1;32m-> 1106\u001b[1;33m         \u001b[0mticks_to_draw\u001b[0m \u001b[1;33m=\u001b[0m \u001b[0mself\u001b[0m\u001b[1;33m.\u001b[0m\u001b[0m_update_ticks\u001b[0m\u001b[1;33m(\u001b[0m\u001b[0mrenderer\u001b[0m\u001b[1;33m)\u001b[0m\u001b[1;33m\u001b[0m\u001b[0m\n\u001b[0m\u001b[0;32m   1107\u001b[0m         ticklabelBoxes, ticklabelBoxes2 = self._get_tick_bboxes(ticks_to_draw,\n\u001b[0;32m   1108\u001b[0m                                                                 renderer)\n",
      "\u001b[1;32mC:\\Anaconda3\\lib\\site-packages\\matplotlib\\axis.py\u001b[0m in \u001b[0;36m_update_ticks\u001b[1;34m(self, renderer)\u001b[0m\n\u001b[0;32m    947\u001b[0m \u001b[1;33m\u001b[0m\u001b[0m\n\u001b[0;32m    948\u001b[0m         \u001b[0minterval\u001b[0m \u001b[1;33m=\u001b[0m \u001b[0mself\u001b[0m\u001b[1;33m.\u001b[0m\u001b[0mget_view_interval\u001b[0m\u001b[1;33m(\u001b[0m\u001b[1;33m)\u001b[0m\u001b[1;33m\u001b[0m\u001b[0m\n\u001b[1;32m--> 949\u001b[1;33m         \u001b[0mtick_tups\u001b[0m \u001b[1;33m=\u001b[0m \u001b[1;33m[\u001b[0m\u001b[0mt\u001b[0m \u001b[1;32mfor\u001b[0m \u001b[0mt\u001b[0m \u001b[1;32min\u001b[0m \u001b[0mself\u001b[0m\u001b[1;33m.\u001b[0m\u001b[0miter_ticks\u001b[0m\u001b[1;33m(\u001b[0m\u001b[1;33m)\u001b[0m\u001b[1;33m]\u001b[0m\u001b[1;33m\u001b[0m\u001b[0m\n\u001b[0m\u001b[0;32m    950\u001b[0m         \u001b[1;32mif\u001b[0m \u001b[0mself\u001b[0m\u001b[1;33m.\u001b[0m\u001b[0m_smart_bounds\u001b[0m\u001b[1;33m:\u001b[0m\u001b[1;33m\u001b[0m\u001b[0m\n\u001b[0;32m    951\u001b[0m             \u001b[1;31m# handle inverted limits\u001b[0m\u001b[1;33m\u001b[0m\u001b[1;33m\u001b[0m\u001b[0m\n",
      "\u001b[1;32mC:\\Anaconda3\\lib\\site-packages\\matplotlib\\axis.py\u001b[0m in \u001b[0;36m<listcomp>\u001b[1;34m(.0)\u001b[0m\n\u001b[0;32m    947\u001b[0m \u001b[1;33m\u001b[0m\u001b[0m\n\u001b[0;32m    948\u001b[0m         \u001b[0minterval\u001b[0m \u001b[1;33m=\u001b[0m \u001b[0mself\u001b[0m\u001b[1;33m.\u001b[0m\u001b[0mget_view_interval\u001b[0m\u001b[1;33m(\u001b[0m\u001b[1;33m)\u001b[0m\u001b[1;33m\u001b[0m\u001b[0m\n\u001b[1;32m--> 949\u001b[1;33m         \u001b[0mtick_tups\u001b[0m \u001b[1;33m=\u001b[0m \u001b[1;33m[\u001b[0m\u001b[0mt\u001b[0m \u001b[1;32mfor\u001b[0m \u001b[0mt\u001b[0m \u001b[1;32min\u001b[0m \u001b[0mself\u001b[0m\u001b[1;33m.\u001b[0m\u001b[0miter_ticks\u001b[0m\u001b[1;33m(\u001b[0m\u001b[1;33m)\u001b[0m\u001b[1;33m]\u001b[0m\u001b[1;33m\u001b[0m\u001b[0m\n\u001b[0m\u001b[0;32m    950\u001b[0m         \u001b[1;32mif\u001b[0m \u001b[0mself\u001b[0m\u001b[1;33m.\u001b[0m\u001b[0m_smart_bounds\u001b[0m\u001b[1;33m:\u001b[0m\u001b[1;33m\u001b[0m\u001b[0m\n\u001b[0;32m    951\u001b[0m             \u001b[1;31m# handle inverted limits\u001b[0m\u001b[1;33m\u001b[0m\u001b[1;33m\u001b[0m\u001b[0m\n",
      "\u001b[1;32mC:\\Anaconda3\\lib\\site-packages\\matplotlib\\axis.py\u001b[0m in \u001b[0;36miter_ticks\u001b[1;34m(self)\u001b[0m\n\u001b[0;32m    892\u001b[0m         \u001b[0mmajorLocs\u001b[0m \u001b[1;33m=\u001b[0m \u001b[0mself\u001b[0m\u001b[1;33m.\u001b[0m\u001b[0mmajor\u001b[0m\u001b[1;33m.\u001b[0m\u001b[0mlocator\u001b[0m\u001b[1;33m(\u001b[0m\u001b[1;33m)\u001b[0m\u001b[1;33m\u001b[0m\u001b[0m\n\u001b[0;32m    893\u001b[0m         \u001b[0mmajorTicks\u001b[0m \u001b[1;33m=\u001b[0m \u001b[0mself\u001b[0m\u001b[1;33m.\u001b[0m\u001b[0mget_major_ticks\u001b[0m\u001b[1;33m(\u001b[0m\u001b[0mlen\u001b[0m\u001b[1;33m(\u001b[0m\u001b[0mmajorLocs\u001b[0m\u001b[1;33m)\u001b[0m\u001b[1;33m)\u001b[0m\u001b[1;33m\u001b[0m\u001b[0m\n\u001b[1;32m--> 894\u001b[1;33m         \u001b[0mself\u001b[0m\u001b[1;33m.\u001b[0m\u001b[0mmajor\u001b[0m\u001b[1;33m.\u001b[0m\u001b[0mformatter\u001b[0m\u001b[1;33m.\u001b[0m\u001b[0mset_locs\u001b[0m\u001b[1;33m(\u001b[0m\u001b[0mmajorLocs\u001b[0m\u001b[1;33m)\u001b[0m\u001b[1;33m\u001b[0m\u001b[0m\n\u001b[0m\u001b[0;32m    895\u001b[0m         majorLabels = [self.major.formatter(val, i)\n\u001b[0;32m    896\u001b[0m                        for i, val in enumerate(majorLocs)]\n",
      "\u001b[1;32mC:\\Anaconda3\\lib\\site-packages\\matplotlib\\ticker.py\u001b[0m in \u001b[0;36mset_locs\u001b[1;34m(self, locs)\u001b[0m\n\u001b[0;32m    535\u001b[0m                 \u001b[0mself\u001b[0m\u001b[1;33m.\u001b[0m\u001b[0m_set_offset\u001b[0m\u001b[1;33m(\u001b[0m\u001b[0md\u001b[0m\u001b[1;33m)\u001b[0m\u001b[1;33m\u001b[0m\u001b[0m\n\u001b[0;32m    536\u001b[0m             \u001b[0mself\u001b[0m\u001b[1;33m.\u001b[0m\u001b[0m_set_orderOfMagnitude\u001b[0m\u001b[1;33m(\u001b[0m\u001b[0md\u001b[0m\u001b[1;33m)\u001b[0m\u001b[1;33m\u001b[0m\u001b[0m\n\u001b[1;32m--> 537\u001b[1;33m             \u001b[0mself\u001b[0m\u001b[1;33m.\u001b[0m\u001b[0m_set_format\u001b[0m\u001b[1;33m(\u001b[0m\u001b[0mvmin\u001b[0m\u001b[1;33m,\u001b[0m \u001b[0mvmax\u001b[0m\u001b[1;33m)\u001b[0m\u001b[1;33m\u001b[0m\u001b[0m\n\u001b[0m\u001b[0;32m    538\u001b[0m \u001b[1;33m\u001b[0m\u001b[0m\n\u001b[0;32m    539\u001b[0m     \u001b[1;32mdef\u001b[0m \u001b[0m_set_offset\u001b[0m\u001b[1;33m(\u001b[0m\u001b[0mself\u001b[0m\u001b[1;33m,\u001b[0m \u001b[0mrange\u001b[0m\u001b[1;33m)\u001b[0m\u001b[1;33m:\u001b[0m\u001b[1;33m\u001b[0m\u001b[0m\n",
      "\u001b[1;32mC:\\Anaconda3\\lib\\site-packages\\matplotlib\\ticker.py\u001b[0m in \u001b[0;36m_set_format\u001b[1;34m(self, vmin, vmax)\u001b[0m\n\u001b[0;32m    608\u001b[0m         \u001b[0mthresh\u001b[0m \u001b[1;33m=\u001b[0m \u001b[1;36m1e-3\u001b[0m \u001b[1;33m*\u001b[0m \u001b[1;36m10\u001b[0m \u001b[1;33m**\u001b[0m \u001b[0mloc_range_oom\u001b[0m\u001b[1;33m\u001b[0m\u001b[0m\n\u001b[0;32m    609\u001b[0m         \u001b[1;32mwhile\u001b[0m \u001b[0msigfigs\u001b[0m \u001b[1;33m>=\u001b[0m \u001b[1;36m0\u001b[0m\u001b[1;33m:\u001b[0m\u001b[1;33m\u001b[0m\u001b[0m\n\u001b[1;32m--> 610\u001b[1;33m             \u001b[1;32mif\u001b[0m \u001b[0mnp\u001b[0m\u001b[1;33m.\u001b[0m\u001b[0mabs\u001b[0m\u001b[1;33m(\u001b[0m\u001b[0mlocs\u001b[0m \u001b[1;33m-\u001b[0m \u001b[0mnp\u001b[0m\u001b[1;33m.\u001b[0m\u001b[0mround\u001b[0m\u001b[1;33m(\u001b[0m\u001b[0mlocs\u001b[0m\u001b[1;33m,\u001b[0m \u001b[0mdecimals\u001b[0m\u001b[1;33m=\u001b[0m\u001b[0msigfigs\u001b[0m\u001b[1;33m)\u001b[0m\u001b[1;33m)\u001b[0m\u001b[1;33m.\u001b[0m\u001b[0mmax\u001b[0m\u001b[1;33m(\u001b[0m\u001b[1;33m)\u001b[0m \u001b[1;33m<\u001b[0m \u001b[0mthresh\u001b[0m\u001b[1;33m:\u001b[0m\u001b[1;33m\u001b[0m\u001b[0m\n\u001b[0m\u001b[0;32m    611\u001b[0m                 \u001b[0msigfigs\u001b[0m \u001b[1;33m-=\u001b[0m \u001b[1;36m1\u001b[0m\u001b[1;33m\u001b[0m\u001b[0m\n\u001b[0;32m    612\u001b[0m             \u001b[1;32melse\u001b[0m\u001b[1;33m:\u001b[0m\u001b[1;33m\u001b[0m\u001b[0m\n",
      "\u001b[1;32mC:\\Anaconda3\\lib\\site-packages\\numpy\\core\\fromnumeric.py\u001b[0m in \u001b[0;36mround_\u001b[1;34m(a, decimals, out)\u001b[0m\n\u001b[0;32m   2791\u001b[0m     \u001b[1;32mexcept\u001b[0m \u001b[0mAttributeError\u001b[0m\u001b[1;33m:\u001b[0m\u001b[1;33m\u001b[0m\u001b[0m\n\u001b[0;32m   2792\u001b[0m         \u001b[1;32mreturn\u001b[0m \u001b[0m_wrapit\u001b[0m\u001b[1;33m(\u001b[0m\u001b[0ma\u001b[0m\u001b[1;33m,\u001b[0m \u001b[1;34m'round'\u001b[0m\u001b[1;33m,\u001b[0m \u001b[0mdecimals\u001b[0m\u001b[1;33m,\u001b[0m \u001b[0mout\u001b[0m\u001b[1;33m)\u001b[0m\u001b[1;33m\u001b[0m\u001b[0m\n\u001b[1;32m-> 2793\u001b[1;33m     \u001b[1;32mreturn\u001b[0m \u001b[0mround\u001b[0m\u001b[1;33m(\u001b[0m\u001b[0mdecimals\u001b[0m\u001b[1;33m,\u001b[0m \u001b[0mout\u001b[0m\u001b[1;33m)\u001b[0m\u001b[1;33m\u001b[0m\u001b[0m\n\u001b[0m\u001b[0;32m   2794\u001b[0m \u001b[1;33m\u001b[0m\u001b[0m\n\u001b[0;32m   2795\u001b[0m \u001b[1;33m\u001b[0m\u001b[0m\n",
      "\u001b[1;31mAttributeError\u001b[0m: 'float' object has no attribute 'rint'"
     ]
    },
    {
     "data": {
      "text/plain": [
       "<matplotlib.figure.Figure at 0x19729b49080>"
      ]
     },
     "metadata": {},
     "output_type": "display_data"
    }
   ],
   "source": [
    "plt.plot(calcular_eqm(ws, w_inicial, x, y ))"
   ]
  },
  {
   "cell_type": "code",
   "execution_count": null,
   "metadata": {
    "collapsed": false
   },
   "outputs": [],
   "source": [
    "plt.scatter(X_train,Y_train, color = \"red\")\n",
    "plt.plot(X_train, Y_Predicted, color='blue', linewidth=3)"
   ]
  },
  {
   "cell_type": "code",
   "execution_count": null,
   "metadata": {
    "collapsed": false
   },
   "outputs": [],
   "source": [
    "X_test = pd.DataFrame(data = ScaleX.transform(X_test), columns = ['X'])\n",
    "Y_test = pd.Series(data = ScaleY.transform(Y_test), name = 'y' )\n",
    "Y_Predicted_test = w0_fin + w_fin[0]*X_test"
   ]
  },
  {
   "cell_type": "code",
   "execution_count": null,
   "metadata": {
    "collapsed": false
   },
   "outputs": [],
   "source": [
    "#Visualizar los datos y la estimación de la recta producto de la regresion dinamica para el conjunto de prueba\n",
    "plt.scatter(X_test,Y_test, color = \"green\")\n",
    "plt.plot(X_test, Y_Predicted_test, color='red', linewidth=3)"
   ]
  },
  {
   "cell_type": "code",
   "execution_count": null,
   "metadata": {
    "collapsed": false
   },
   "outputs": [],
   "source": [
    "#Calculo de los errores de la regresion\n",
    "errores = Y_Predicted_test.iloc[0:len(Y_Predicted_test),0] - Y_test\n",
    "#Visualizar como se distribuyen los residuales de la regresion\n",
    "plt.scatter(X_test,errores)\n",
    "z = np.polyfit(X_test.iloc[0:len(X_test),0], errores, 1)\n",
    "p = np.poly1d(z)\n",
    "plt.plot(X_test.iloc[0:len(X_test),0],p(X_test.iloc[0:len(X_test),0]))\n",
    "#Calculo del error estandar de la estimacion\n",
    "math.sqrt(np.mean((Y_Predicted_test.iloc[0:len(Y_Predicted_test),0] - Y_test)**2)/len(Y_Predicted_test))"
   ]
  },
  {
   "cell_type": "code",
   "execution_count": 4,
   "metadata": {
    "collapsed": false,
    "scrolled": true
   },
   "outputs": [
    {
     "name": "stdout",
     "output_type": "stream",
     "text": [
      "              X          y\n",
      "0     35.657897  28.074403\n",
      "1     48.685931  36.674434\n",
      "2     95.861773  67.903577\n",
      "3     25.997253  11.931727\n",
      "4     49.964772  30.286144\n",
      "5     55.003337  44.274354\n",
      "6     78.375881  49.032737\n",
      "7     15.286028  13.862727\n",
      "8     81.066092  55.742546\n",
      "9     35.059204  30.345383\n",
      "10    10.627199   8.284464\n",
      "11    67.484259  36.490228\n",
      "12    66.230640  46.133427\n",
      "13    57.957191  41.872495\n",
      "14    95.185536  66.043335\n",
      "15    77.219095  52.730262\n",
      "16    92.859492  54.155329\n",
      "17    67.223617  41.865928\n",
      "18    56.746339  36.157093\n",
      "19    34.735291  30.568120\n",
      "20    97.317591  64.330964\n",
      "21    38.591213  19.841434\n",
      "22    51.608742  35.630454\n",
      "23    59.781250  37.527034\n",
      "24    67.810553  43.936642\n",
      "25    12.199013  13.374210\n",
      "26    25.041432  18.876313\n",
      "27    27.765660  14.286040\n",
      "28    68.489203  44.008360\n",
      "29    15.216642  17.682210\n",
      "...         ...        ...\n",
      "999   87.577378  50.821047\n",
      "1000  82.166957  50.764372\n",
      "1001  34.656976  20.382111\n",
      "1002  58.941310  43.430510\n",
      "1003  78.875733  51.901006\n",
      "1004  59.029010  37.364507\n",
      "1005  97.149709  66.186439\n",
      "1006  98.433789  67.416817\n",
      "1007   2.459832   5.691373\n",
      "1008  13.227604   9.330900\n",
      "1009  74.039264  47.347642\n",
      "1010  19.903694  12.634800\n",
      "1011   9.963961  11.554361\n",
      "1012  17.743197  14.314224\n",
      "1013  91.421756  55.690169\n",
      "1014  55.388254  28.850092\n",
      "1015  81.563611  51.011377\n",
      "1016  67.634153  38.225826\n",
      "1017  61.210794  38.130862\n",
      "1018  60.426290  39.935617\n",
      "1019  20.828499  14.802500\n",
      "1020  13.607691  10.221028\n",
      "1021  86.939856  56.034948\n",
      "1022  65.487903  46.100847\n",
      "1023   9.221942   6.720162\n",
      "1024  36.091325  19.807188\n",
      "1025  77.619137  50.570437\n",
      "1026  46.785876  31.300900\n",
      "1027  84.080830  51.053419\n",
      "1028  24.075852  20.981299\n",
      "\n",
      "[1029 rows x 2 columns]\n",
      "<class 'pandas.core.frame.DataFrame'>\n",
      "                 X            y\n",
      "count  1029.000000  1029.000000\n",
      "mean     50.008111    32.893917\n",
      "std      29.055066    18.083566\n",
      "min       0.030369    -4.586608\n",
      "25%      25.201087    17.583093\n",
      "50%      50.884987    33.564129\n",
      "75%      75.636823    48.339811\n",
      "max      99.959580    71.762748\n"
     ]
    }
   ],
   "source": [
    "from sklearn.cross_validation import train_test_split\n",
    "from sklearn.linear_model import LinearRegression\n",
    "from sklearn import preprocessing\n",
    "import pandas as pd\n",
    "import matplotlib.pyplot as plt\n",
    "import numpy as np\n",
    "import csv\n",
    "import random as rnd\n",
    "import os \n",
    "import math\n",
    "import matplotlib.pyplot\n",
    "%matplotlib inline\n",
    "\n",
    "def salida(w0,w,X):\n",
    "    suma = w0\n",
    "    for i in range(len(w)):\n",
    "        suma = suma + w[i]*X.iloc[i]\n",
    "    return suma\n",
    "\n",
    "def entrena(w0,w,X_train,Y_train):\n",
    "    eta = 0.1\n",
    "    observaciones = len(X_train)\n",
    "    for i in range(observaciones):\n",
    "        \n",
    "        sal = salida(w0,w,X_train.iloc[i])\n",
    "        error = Y_train.iloc[i] - sal\n",
    "        print(\"Observacion\",i,w0,w,error)\n",
    "        w0 = w0 + eta*error\n",
    "        columnasdatos = len(X_train.columns)\n",
    "        for j in range(columnasdatos):\n",
    "            w[j] = w[j] + eta*error*X_train.iloc[i,j]\n",
    "    return w0,w\n",
    "\n",
    "data = pd.read_csv(\"regLin.csv\")\n",
    "\n",
    "print(data)\n",
    "print(type(data))\n",
    "\n",
    "print(data.describe())\n"
   ]
  },
  {
   "cell_type": "code",
   "execution_count": 5,
   "metadata": {
    "collapsed": false
   },
   "outputs": [
    {
     "name": "stdout",
     "output_type": "stream",
     "text": [
      "Observacion 0 0.07375327650374153 [0.7791030896349391] -0.522019001891\n",
      "Observacion 1 0.0215513763147 [0.85767245998559249] 0.0713918171004\n",
      "Observacion 2 0.0286905580247 [0.8635704848571637] -0.281112780554\n",
      "Observacion 3 0.00057927996928 [0.88277683470579105] 0.101171279338\n",
      "Observacion 4 0.0106964079031 [0.88339763590579967] -0.0610085418814\n",
      "Observacion 5 0.00459555371496 [0.87356791180784499] -0.0991481866982\n",
      "Observacion 6 -0.00531926495486 [0.87696732237423503] -0.0175524202743\n",
      "Observacion 7 -0.00707450698229 [0.87563583035068804] -0.149537329136\n",
      "Observacion 8 -0.0220282398959 [0.87914634653416945] 0.0970137097938\n",
      "Observacion 9 -0.0123268689166 [0.88490213788504146] 0.0449506585351\n",
      "Observacion 10 -0.00783180306304 [0.88686081247406889] 0.148433260948\n",
      "Observacion 11 0.00701152303177 [0.90116402381633831] -0.0235533991876\n",
      "Observacion 12 0.00465618311301 [0.89853918593861548] 0.0923789505979\n",
      "Observacion 13 0.0138940781728 [0.90738881566405949] -0.0251412656207\n",
      "Observacion 14 0.0113799516107 [0.90901498060977626] 0.106751126216\n",
      "Observacion 15 0.0220550642323 [0.89408346982586973] -0.0752031512027\n",
      "Observacion 16 0.014534749112 [0.8845893280563355] -0.253308653545\n",
      "Observacion 17 -0.0107961162425 [0.87491176999934239] 0.165741150019\n",
      "Observacion 18 0.0057779987594 [0.88127198467283518] -0.197125714218\n",
      "Observacion 19 -0.0139345726625 [0.88356662115628748] -0.120646830702\n",
      "Observacion 20 -0.0259992557327 [0.90081076339171362] 0.165480695875\n",
      "Observacion 21 -0.00945118614516 [0.90913399260301941] -0.796731756833\n",
      "Observacion 22 -0.0891243618285 [0.95621197449219553] -0.0297016248527\n",
      "Observacion 23 -0.0920945243137 [0.95909988682894687] -0.150121444744\n",
      "Observacion 24 -0.107106668788 [0.98273569775718805] 0.298186834919\n",
      "Observacion 25 -0.0772879852962 [1.0002418744189667] 0.164447752722\n",
      "Observacion 26 -0.060843210024 [0.99652887620826369] -0.0448505353348\n",
      "Observacion 27 -0.0653282635575 [0.99863817091714047] -0.185712829185\n",
      "Observacion 28 -0.083899546476 [0.97991834865900085] -0.304779119347\n",
      "Observacion 29 -0.114377458411 [1.0212385574250877] 0.266005406446\n",
      "Observacion 30 -0.0877769177661 [1.0058232506762006] 0.103507465036\n",
      "Observacion 31 -0.0774261712624 [1.0083247157251269] 0.359197978873\n",
      "Observacion 32 -0.0415063733751 [1.0690166339657705] 0.12911235718\n",
      "Observacion 33 -0.0285951376571 [1.0620763838816543] -0.322895656133\n",
      "Observacion 34 -0.0608847032704 [1.0260837894812775] 0.287927078988\n",
      "Observacion 35 -0.0320919953716 [1.0504030498198871] -0.0151560275624\n",
      "Observacion 36 -0.0336075981278 [1.0506701594060117] 0.266960295501\n",
      "Observacion 37 -0.00691156857772 [1.0847071946102393] 0.467871842052\n",
      "Observacion 38 0.0398756156275 [1.1574199553201838] -0.0639514916236\n",
      "Observacion 39 0.0334804664651 [1.1571617157616412] -0.103260167067\n",
      "Observacion 40 0.0231544497584 [1.1653829994249199] 0.220019728451\n",
      "Observacion 41 0.0451564226035 [1.1796861854744138] 0.0130899167545\n",
      "Observacion 42 0.0464654142789 [1.1808810133273149] -0.294706300156\n",
      "Observacion 43 0.0169947842634 [1.1319149908501873] -0.120311591458\n",
      "Observacion 44 0.00496362511758 [1.1399279855209163] 0.0222946352916\n",
      "Observacion 45 0.00719308864674 [1.1406212843213217] -0.403922445168\n",
      "Observacion 46 -0.03319915587 [1.1710849866533255] -0.245323942364\n",
      "Observacion 47 -0.0577315501064 [1.1805909183893537] 0.19745273558\n",
      "Observacion 48 -0.0379862765484 [1.172702677896889] 0.122643945725\n",
      "Observacion 49 -0.0257218819759 [1.1601973082321553] -0.196711110917\n",
      "Observacion 50 -0.0453929930676 [1.1466825582106102] 0.308738613478\n",
      "Observacion 51 -0.0145191317198 [1.1678272205244151] -0.605054845077\n",
      "Observacion 52 -0.0750246162276 [1.0888981392086003] -0.16103396617\n",
      "Observacion 53 -0.0911280128446 [1.0840612853496359] 0.35769736128\n",
      "Observacion 54 -0.0553582767166 [1.1085402023460167] 0.334828451786\n",
      "Observacion 55 -0.021875431538 [1.1025456731623346] -0.119039717285\n",
      "Observacion 56 -0.0337794032665 [1.0947389051231491] -0.00689870499985\n",
      "Observacion 57 -0.0344692737665 [1.0946772287325186] -0.0503038065858\n",
      "Observacion 58 -0.0394996544251 [1.0926041105237734] 0.242262560267\n",
      "Observacion 59 -0.0152733983984 [1.0670748893095952] 0.133632723733\n",
      "Observacion 60 -0.00191012602511 [1.0485048524260183] -0.151175904042\n",
      "Observacion 61 -0.0170277164293 [1.04026302962911] 0.146665112842\n",
      "Observacion 62 -0.00236120514507 [1.0234101779766782] 0.219484378397\n",
      "Observacion 63 0.0195872326947 [0.99936413900225851] -0.247684790037\n",
      "Observacion 64 -0.00518124630903 [0.98550913168465959] -0.0575820889352\n",
      "Observacion 65 -0.0109394552026 [0.97872409141421812] -0.228912080158\n",
      "Observacion 66 -0.0338306632184 [0.96446829419242797] 0.432683636129\n",
      "Observacion 67 0.00943770039452 [1.0115595897065441] -0.430159564868\n",
      "Observacion 68 -0.0335782560922 [0.94041950607388325] 0.0131282157271\n",
      "Observacion 69 -0.0322654345195 [0.94046766613359056] -0.56646684818\n",
      "Observacion 70 -0.0889121193375 [1.0213768195028525] -0.111081769993\n",
      "Observacion 71 -0.100020296337 [1.0353354506528232] 0.503029041925\n",
      "Observacion 72 -0.0497173921443 [1.0111269525429185] -0.142606431265\n",
      "Observacion 73 -0.0639780352707 [0.99030167987166984] -0.269141385175\n",
      "Observacion 74 -0.0908921737883 [0.96247932331007835] 0.153714998252\n",
      "Observacion 75 -0.0755206739631 [0.9542739028256777] 0.119382245046\n",
      "Observacion 76 -0.0635824494585 [0.9638119754630341] 0.229175715065\n",
      "Observacion 77 -0.0406648779521 [0.934423724031888] -0.178353324236\n",
      "Observacion 78 -0.0585002103756 [0.91918436507101597] -0.0741205386099\n",
      "Observacion 79 -0.0659122642366 [0.92411341294845961] 0.283559248612\n",
      "Observacion 80 -0.0375563393754 [0.90984287976107903] 0.293676328542\n",
      "Observacion 81 -0.00818870652123 [0.94644313594538343] 0.370941629645\n",
      "Observacion 82 0.0289054564432 [0.89808998949645846] -0.0829200252885\n",
      "Observacion 83 0.0206134539144 [0.90154611789602868] 0.156253128161\n",
      "Observacion 84 0.0362387667305 [0.90873550456684504] -0.344585807822\n",
      "Observacion 85 0.00178018594836 [0.94432238518008593] 0.061114686983\n",
      "Observacion 86 0.00789165464667 [0.94569410798065867] 0.220664989791\n",
      "Observacion 87 0.0299581536258 [0.94446873024926847] -0.110290779666\n",
      "Observacion 88 0.0189290756592 [0.9317206892184452] 0.277684660625\n",
      "Observacion 89 0.0466975417216 [0.97192715814190001] 0.0367843480055\n",
      "Observacion 90 0.0503759765222 [0.96884107624247218] -0.159713062426\n",
      "Observacion 91 0.0344046702796 [0.98805111073427931] -0.219878238749\n",
      "Observacion 92 0.0124168464046 [1.0235259985078367] -0.0168755621834\n",
      "Observacion 93 0.0107292901863 [1.0262211209122076] 0.27501094366\n",
      "Observacion 94 0.0382303845523 [1.0020260083574515] 0.0298843221427\n",
      "Observacion 95 0.0412188167666 [1.0049965742759901] 0.0914259072325\n",
      "Observacion 96 0.0503614074898 [0.99534355182022483] 0.459936519385\n",
      "Observacion 97 0.0963550594283 [0.92807374752000671] -0.356143900205\n",
      "Observacion 98 0.0607406694078 [0.88799335044313665] -0.153625609474\n",
      "Observacion 99 0.0453781084604 [0.86614172018735114] -0.695986768702\n",
      "Observacion 100 -0.0242205684098 [0.86415273292276185] -0.165149526142\n",
      "Observacion 101 -0.040735521024 [0.84802363387499924] -0.0145625500769\n",
      "Observacion 102 -0.0421917760317 [0.84773467723550644] 0.0211631332153\n",
      "Observacion 103 -0.0400754627101 [0.84572213819064934] 0.168218683018\n",
      "Observacion 104 -0.0232535944083 [0.84094896086093862] -0.229547607044\n",
      "Observacion 105 -0.0462083551127 [0.87253427106507042] -0.278561177899\n",
      "Observacion 106 -0.0740644729025 [0.84457190905170199] 0.157368316508\n",
      "Observacion 107 -0.0583276412517 [0.84774186782912531] -0.0847127011078\n",
      "Observacion 108 -0.0667989113625 [0.84769689448193142] 0.167583685016\n",
      "Observacion 109 -0.0500405428609 [0.87247879120495919] -0.0973246436423\n",
      "Observacion 110 -0.0597730072251 [0.86923140828926126] 0.259201546873\n",
      "Observacion 111 -0.0338528525378 [0.86182651614063044] -0.146460841387\n",
      "Observacion 112 -0.0484989366765 [0.8799044088681186] 0.185267438891\n",
      "Observacion 113 -0.0299721927874 [0.87561241496262132] 0.115756712912\n",
      "Observacion 114 -0.0183965214962 [0.89068902897416258] 0.345592577693\n",
      "Observacion 115 0.0161627362731 [0.8691301276061395] 0.0287501457601\n",
      "Observacion 116 0.0190377508491 [0.87014146129811221] 0.317670146162\n",
      "Observacion 117 0.0508047654653 [0.903996650726693] -0.357868916957\n",
      "Observacion 118 0.0150178737697 [0.9234171775631197] 0.188389906356\n",
      "Observacion 119 0.0338568644052 [0.91403097268510869] 0.383597968533\n",
      "Observacion 120 0.0722166612586 [0.9733792616600867] -0.325367223304\n",
      "Observacion 121 0.0396799389282 [1.0020857694589336] -0.108050337711\n",
      "Observacion 122 0.0288749051571 [1.0186550823474967] -0.199047404391\n",
      "Observacion 123 0.00897016471795 [1.035041939222193] -0.0499841688794\n",
      "Observacion 124 0.00397174783001 [1.028967438764689] -0.0157835820745\n",
      "Observacion 125 0.00239338962256 [1.0265065783131202] -0.419908716043\n",
      "Observacion 126 -0.0395974819817 [1.0413205409918553] -0.0651201891838\n",
      "Observacion 127 -0.0461095009001 [1.0454985670280617] 0.255492767887\n",
      "Observacion 128 -0.0205602241114 [1.0525965908988972] 0.195161303435\n",
      "Observacion 129 -0.00104409376788 [1.0403991037630915] -0.157124925194\n",
      "Observacion 130 -0.0167565862873 [1.0544800483711769] 0.260328964833\n",
      "Observacion 131 0.00927631019599 [1.0399738022481477] 0.263035615832\n",
      "Observacion 132 0.0355798717791 [1.0382447830538486] -0.176933460437\n",
      "Observacion 133 0.0178865257354 [1.0256680177647068] 0.161559204819\n",
      "Observacion 134 0.0340424462174 [1.0103011847222096] -0.336089908848\n",
      "Observacion 135 0.000433455332583 [1.0033001861508726] -0.579430133691\n",
      "Observacion 136 -0.0575095580365 [1.0645049595877916] -0.0286050499719\n",
      "Observacion 137 -0.0603700630337 [1.0627806605309706] -0.0491253966291\n",
      "Observacion 138 -0.0652826026966 [1.0576499198399765] -0.11844214716\n",
      "Observacion 139 -0.0771268174126 [1.0515149809890121] 0.178190916905\n",
      "Observacion 140 -0.0593077257221 [1.0590809648337902] 0.455784029097\n",
      "Observacion 141 -0.0137293228124 [1.1082813199640882] -0.258394968602\n",
      "Observacion 142 -0.0395688196726 [1.0809388523835142] -0.150460461311\n",
      "Observacion 143 -0.0546148658037 [1.1005443882853654] 0.218079984409\n",
      "Observacion 144 -0.0328068673628 [1.0705101870716773] 0.0916714648952\n",
      "Observacion 145 -0.0236397208733 [1.0616572453271609] -0.0840021290248\n",
      "Observacion 146 -0.0320399337758 [1.0654157495351606] -0.0818498496863\n",
      "Observacion 147 -0.0402249187444 [1.0692043011023191] -0.108841871003\n",
      "Observacion 148 -0.0511091058447 [1.0688909833230971] 0.219632427255\n",
      "Observacion 149 -0.0291458631192 [1.0746650930353345] 0.201191619047\n",
      "Observacion 150 -0.00902670121449 [1.1019694929419712] -0.115356253331\n",
      "Observacion 151 -0.0205623265476 [1.1126597660760837] -0.341838051879\n",
      "Observacion 152 -0.0547461317355 [1.0726159606803041] -0.288980583795\n",
      "Observacion 153 -0.0836441901151 [1.1188537409355894] 0.284991660454\n",
      "Observacion 154 -0.0551450240696 [1.103667927163887] 0.0883334724946\n",
      "Observacion 155 -0.0463116768202 [1.1072744558810652] 0.19396869144\n",
      "Observacion 156 -0.0269148076762 [1.1191038010009133] -0.0117039024472\n",
      "Observacion 157 -0.0280851979209 [1.1183281782677896] 0.170932409883\n",
      "Observacion 158 -0.0109919569326 [1.1202320110221238] 0.251705091879\n",
      "Observacion 159 0.0141785522553 [1.097683806579183] -0.0538718539062\n",
      "Observacion 160 0.00879136686472 [1.0929298981927551] 0.528205798387\n",
      "Observacion 161 0.0616119467034 [1.1354568034918902] -0.374133592136\n",
      "Observacion 162 0.0241985874899 [1.0793284928776268] -0.110897382251\n",
      "Observacion 163 0.0131088492648 [1.0629436279787718] -0.0144851599645\n",
      "Observacion 164 0.0116603332683 [1.0638835770978006] -0.134650100151\n",
      "Observacion 165 -0.00180467674682 [1.0443871777147629] 0.265237937613\n",
      "Observacion 166 0.0247191170145 [1.0797225392760139] 0.230067850513\n",
      "Observacion 167 0.0477259020658 [1.0788415121207673] 0.141760538912\n",
      "Observacion 168 0.061901955957 [1.0747498403376388] -0.0207052307775\n",
      "Observacion 169 0.0598314328793 [1.0714274126045733] -0.125338616771\n",
      "Observacion 170 0.0472975712022 [1.0727347646901069] 0.0188984247325\n",
      "Observacion 171 0.0491874136754 [1.0718435890632467] 0.0338247665505\n",
      "Observacion 172 0.0525698903305 [1.0747806836568103] -0.480541140401\n",
      "Observacion 173 0.00451577629037 [1.0012316971001185] 0.103858568027\n",
      "Observacion 174 0.0149016330931 [0.98446433802681721] 0.2151675143\n",
      "Observacion 175 0.0364183845231 [0.95338721675025195] -0.370235541961\n",
      "Observacion 176 -0.000605169673011 [0.94107238229654078] -0.0178998883418\n",
      "Observacion 177 -0.0023951585072 [0.93946583709214104] 0.132557742224\n",
      "Observacion 178 0.0108606157152 [0.91738517387741636] -0.0811238427161\n",
      "Observacion 179 0.0027482314436 [0.91178905747948669] -0.285183349988\n",
      "Observacion 180 -0.0257701035552 [0.9601916801627941] -0.0353547193328\n",
      "Observacion 181 -0.0293055754885 [0.96030080765088977] 0.339808505082\n",
      "Observacion 182 0.00467527501973 [1.0036559565020764] 0.0583554565453\n",
      "Observacion 183 0.0105108206743 [0.99971114508218051] -0.127510718273\n",
      "Observacion 184 -0.00224025115303 [1.0204979913183911] -0.029541000449\n",
      "Observacion 185 -0.00519435119793 [1.0165657692493519] -0.130372088312\n",
      "Observacion 186 -0.0182315600292 [1.0050122695519854] 0.0735973203493\n",
      "Observacion 187 -0.0108718279942 [1.0163078912042285] -0.0233044643697\n",
      "Observacion 188 -0.0132022744312 [1.0176010725870226] -0.00937203508339\n",
      "Observacion 189 -0.0141394779395 [1.0189035121279335] -0.152957202476\n",
      "Observacion 190 -0.0294351981871 [1.0224647754898371] 0.0812791542667\n",
      "Observacion 191 -0.0213072827605 [1.0147382869035428] 0.442052092883\n",
      "Observacion 192 0.0228979265278 [0.96998822593121503] 0.0328798684374\n",
      "Observacion 193 0.0261859133716 [0.97251710328471286] -0.209078453426\n",
      "Observacion 194 0.00527806802895 [0.98926171849661126] 0.0817677404603\n",
      "Observacion 195 0.013454842075 [0.9843425327636306] -0.00942401180473\n",
      "Observacion 196 0.0125124408945 [0.98313558539041968] -0.105860478816\n",
      "Observacion 197 0.00192639301286 [0.97648994825325497] -0.0673076900506\n",
      "Observacion 198 -0.0048043759922 [0.9758547135113137] -0.187236365973\n",
      "Observacion 199 -0.0235280125895 [0.97261540083351783] -0.0917618011399\n",
      "Observacion 200 -0.0327041927034 [0.9679138578157287] 0.317006987699\n",
      "Observacion 201 -0.00100349393354 [0.97778454775399948] 0.27060562338\n",
      "Observacion 202 0.0260570684044 [0.97919298951691969] 0.220824813395\n",
      "Observacion 203 0.048139549744 [1.0044684834850577] -0.0884146780458\n",
      "Observacion 204 0.0392980819394 [1.0154962265366216] -0.549189952323\n",
      "Observacion 205 -0.0156209132928 [1.0125093199453852] -0.133679051712\n",
      "Observacion 206 -0.028988818464 [1.023601145590072] 0.326990538471\n",
      "Observacion 207 0.00371023538313 [0.97249977220221262] 0.141135859449\n",
      "Observacion 208 0.0178238213281 [0.98481633578282179] 0.331703429162\n",
      "Observacion 209 0.0509941642443 [0.97343904709801266] 0.0915016451523\n",
      "Observacion 210 0.0601443287595 [0.97850925563352487] -0.0376669586725\n",
      "Observacion 211 0.0563776328923 [0.97716146649270252] -0.142861633859\n",
      "Observacion 212 0.0420914695064 [0.97988499073282742] -0.238799435897\n",
      "Observacion 213 0.0182115259167 [0.94245146400056323] 0.183188158316\n",
      "Observacion 214 0.0365303417483 [0.931384218503165] 0.0458247045983\n",
      "Observacion 215 0.0411128122082 [0.9354165952667689] -0.237559081289\n",
      "Observacion 216 0.0173569040793 [0.90054672796616464] -0.0315197414979\n",
      "Observacion 217 0.0142049299295 [0.8955716655444671] -0.339720773697\n",
      "Observacion 218 -0.0197671474402 [0.85361980186134823] -0.0315928573207\n",
      "Observacion 219 -0.0229264331722 [0.85821889046964961] 0.288342057941\n",
      "Observacion 220 0.00590777262188 [0.89975582183657654] -0.16781822997\n",
      "Observacion 221 -0.0108740503751 [0.88776927350163992] -0.256250149049\n",
      "Observacion 222 -0.03649906528 [0.91817746516034526] 0.3853954025\n",
      "Observacion 223 0.00204047497 [0.89836996051882634] 0.115090189879\n",
      "Observacion 224 0.0135494939579 [0.91005849069857714] 0.110463270321\n",
      "Observacion 225 0.02459582099 [0.90024354932045836] 0.271733708955\n",
      "Observacion 226 0.0517691918855 [0.92883923091814591] -0.124836267587\n",
      "Observacion 227 0.0392855651268 [0.91852518413533568] -0.0239918791804\n",
      "Observacion 228 0.0368863772088 [0.91558057767320145] -0.459788404493\n",
      "Observacion 229 -0.00909246324052 [0.98160848269872725] 0.132771740266\n",
      "Observacion 230 0.00418471078613 [0.99967456862179727] -0.121433012466\n",
      "Observacion 231 -0.00795859046048 [0.99072681689679165] -0.0894595668415\n",
      "Observacion 232 -0.0169045471446 [0.98987020271411241] 0.0497553809745\n",
      "Observacion 233 -0.0119290090472 [0.98238266252005513] -0.0974321452467\n",
      "Observacion 234 -0.0216722235719 [0.99494687384538905] 0.240906280388\n",
      "Observacion 235 0.0024184044669 [0.97408938298323344] -0.398643871415\n",
      "Observacion 236 -0.0374459826746 [0.93522480508946826] 0.136773262163\n",
      "Observacion 237 -0.0237686564583 [0.91340648959433701] -0.33550716664\n",
      "Observacion 238 -0.0573193731224 [0.86819771732362605] -0.1094982877\n",
      "Observacion 239 -0.0682692018924 [0.8635858035617674] 0.161990161854\n",
      "Observacion 240 -0.052070185707 [0.83876097678883754] 0.257992189895\n",
      "Observacion 241 -0.0262709667175 [0.84149403363294828] -0.0350177122717\n",
      "Observacion 242 -0.0297727379447 [0.84111482797785486] -0.0466930503052\n",
      "Observacion 243 -0.0344420429752 [0.84694650600399779] 0.049704233074\n",
      "Observacion 244 -0.0294716196678 [0.84969457979471674] 0.00844463947668\n",
      "Observacion 245 -0.0286271557201 [0.84900693650013725] -0.0348151821531\n",
      "Observacion 246 -0.0321086739354 [0.85430276445720088] 0.18398477028\n",
      "Observacion 247 -0.0137101969074 [0.82971727884459867] 0.340379221638\n",
      "Observacion 248 0.0203277252563 [0.88088289807439701] 0.0650296854902\n",
      "Observacion 249 0.0268306938054 [0.88346174745084205] -0.0937436310116\n",
      "Observacion 250 0.0174563307042 [0.88683250620239662] 0.406976045249\n",
      "Observacion 251 0.0581539352291 [0.94785887267157609] -0.253516514543\n",
      "Observacion 252 0.0328022837748 [0.98696942519593001] 0.326208680759\n",
      "Observacion 253 0.0654231518507 [1.0247331253799403] 0.175624216295\n",
      "Observacion 254 0.0829855734802 [0.99560526279899686] 0.338452255248\n",
      "Observacion 255 0.116830799005 [0.96368214204211977] -0.321714963392\n",
      "Observacion 256 0.0846593026658 [0.92291928839038273] 0.0804337581253\n",
      "Observacion 257 0.0927026784784 [0.91318622924958337] -0.381494496429\n",
      "Observacion 258 0.0545532288355 [0.93102940316386595] 0.129573296055\n",
      "Observacion 259 0.067510558441 [0.95265605302284606] 0.441321871095\n",
      "Observacion 260 0.11164274555 [0.9264246241799049] 0.0402781746591\n",
      "Observacion 261 0.115670563016 [0.92599535099431729] -0.562187398024\n",
      "Observacion 262 0.059451823214 [0.92462762665732179] -0.12671396634\n",
      "Observacion 263 0.04678042658 [0.92494879286163234] -0.190383627961\n",
      "Observacion 264 0.0277420637839 [0.93890209560979165] 0.024042371991\n",
      "Observacion 265 0.030146300983 [0.93980827832058178] -0.118959454242\n",
      "Observacion 266 0.0182503555587 [0.95579319820767505] 0.171275824937\n",
      "Observacion 267 0.0353779380524 [0.94536833429359579] 0.00233193610207\n",
      "Observacion 268 0.0356111316626 [0.94560247668488773] 0.0339219038392\n",
      "Observacion 269 0.0390033220465 [0.94365086331171666] 0.217677541583\n",
      "Observacion 270 0.0607710762048 [0.91242706573777244] -0.0226489662392\n",
      "Observacion 271 0.0585061795809 [0.90925086079226647] 0.211283648695\n",
      "Observacion 272 0.0796345444504 [0.87926447645682637] -0.078304472468\n",
      "Observacion 273 0.0718040972036 [0.88780976583437943] -0.124652633667\n",
      "Observacion 274 0.0593388338369 [0.86679504634643156] -0.0831584331188\n",
      "Observacion 275 0.0510229905251 [0.86148711990217675] 0.142304960563\n",
      "Observacion 276 0.0652534865814 [0.8842942103490099] -0.0401919350656\n",
      "Observacion 277 0.0612342930748 [0.88449049132239477] -0.0890951366581\n",
      "Observacion 278 0.052324779409 [0.87407951031554332] -0.0984388126612\n",
      "Observacion 279 0.0424808981429 [0.8702526884282793] 0.0166533686541\n",
      "Observacion 280 0.0441462350083 [0.87307457826219015] -0.461740647193\n",
      "Observacion 281 -0.00202782971103 [0.93651133912190831] -0.255361533251\n",
      "Observacion 282 -0.0275639830362 [0.96258906247575715] -0.41335105387\n",
      "Observacion 283 -0.0688990884232 [0.99252022300032261] 0.106860559523\n",
      "Observacion 284 -0.0582130324709 [1.0026528192635189] 0.208860847525\n",
      "Observacion 285 -0.0373269477184 [1.0070848801295538] 0.118038601434\n",
      "Observacion 286 -0.0255230875749 [1.0178682240683374] -0.115662053265\n",
      "Observacion 287 -0.0370892929014 [1.005421933910708] 0.168094780869\n",
      "Observacion 288 -0.0202798148145 [1.0153323509104573] 0.141303200782\n",
      "Observacion 289 -0.0061494947363 [1.0184272464056121] -0.0566762982908\n",
      "Observacion 290 -0.0118171245654 [1.0180612157293349] 0.396840056028\n",
      "Observacion 291 0.0278668810375 [0.9525268639527037] -0.0376413772271\n",
      "Observacion 292 0.0241027433148 [0.9492551228142394] 0.249693852106\n",
      "Observacion 293 0.0490721285253 [0.91687887572470339] -0.243770454994\n",
      "Observacion 294 0.0246950830259 [0.9320677355250826] 0.0373722579887\n",
      "Observacion 295 0.0284323088248 [0.9336188478775902] 0.0996323346293\n",
      "Observacion 296 0.0383955422877 [0.91702690008868759] -0.203400634456\n",
      "Observacion 297 0.0180554788421 [0.90789800386834874] -0.110708705534\n",
      "Observacion 298 0.00698460828871 [0.90015407682287218] -0.265976421385\n",
      "Observacion 299 -0.0196130338498 [0.91671058554736073] -0.491181272757\n",
      "Observacion 300 -0.0687311611255 [0.9681269987721457] -0.327779351183\n",
      "Observacion 301 -0.101509096244 [0.92235940356578494] 0.0610309053368\n",
      "Observacion 302 -0.0954060057101 [0.91240572047720259] 0.200153879473\n",
      "Observacion 303 -0.0753906177628 [0.90697091289730669] -0.148509108912\n",
      "Observacion 304 -0.090241528654 [0.89799997985047553] 0.0627713465672\n",
      "Observacion 305 -0.0839643939973 [0.89948472324429019] -0.0448443337534\n",
      "Observacion 306 -0.0884488273726 [0.8945582155921965] -0.199543497546\n",
      "Observacion 307 -0.108403177127 [0.92002078148374355] 0.435813834924\n",
      "Observacion 308 -0.0648217936348 [0.89810332374600521] -0.301562481985\n",
      "Observacion 309 -0.0949780418333 [0.92810225226554288] 0.227568089918\n",
      "Observacion 310 -0.0722212328415 [0.95065543249134676] 0.101924786142\n",
      "Observacion 311 -0.0620287542272 [0.96096126474600663] 0.383910325016\n",
      "Observacion 312 -0.0236377217256 [0.93192539730921253] -0.0235894576809\n",
      "Observacion 313 -0.0259966674937 [0.92902404449183096] -0.00434608762017\n",
      "Observacion 314 -0.0264312762557 [0.92934095782620374] 0.199746009519\n",
      "Observacion 315 -0.00645667530376 [0.95356424150725272] 0.149008255686\n",
      "Observacion 316 0.00844415026489 [0.94675618306038056] -0.0545593389277\n",
      "Observacion 317 0.00298821637212 [0.95579243855932439] -0.207092749291\n",
      "Observacion 318 -0.017721058557 [0.968629580288356] 0.0589793182828\n",
      "Observacion 319 -0.0118231267287 [0.9733630875216871] 0.176188006265\n",
      "Observacion 320 0.00579567389779 [0.99812376003342718] 0.125665148373\n",
      "Observacion 321 0.018362188735 [1.0025435667578704] 0.174801182364\n",
      "Observacion 322 0.0358423069714 [1.0032615130140683] -0.133612663329\n",
      "Observacion 323 0.0224810406385 [1.0160002959978773] -0.262836019997\n",
      "Observacion 324 -0.00380256136121 [0.98260856263652563] -0.102524810997\n",
      "Observacion 325 -0.0140550424609 [0.99927942684644344] 0.270240766099\n",
      "Observacion 326 0.012969034149 [1.0386200566078672] 0.310100550792\n",
      "Observacion 327 0.0439790892283 [1.0272667421660202] 0.226476407569\n",
      "Observacion 328 0.0666267299851 [1.005960178276299] -0.0413887687218\n",
      "Observacion 329 0.062487853113 [1.0107861544372216] -0.156178926275\n",
      "Observacion 330 0.0468699604854 [1.0031674316229455] -0.184469551763\n",
      "Observacion 331 0.0284230053091 [0.97871440661190467] -0.00474432287078\n",
      "Observacion 332 0.027948573022 [0.97920093512139217] 0.135792718647\n",
      "Observacion 333 0.0415278448867 [1.0017623178918342] -0.304138432911\n",
      "Observacion 334 0.0111140015956 [1.0443439129245446] 0.126926484356\n",
      "Observacion 335 0.0238066500312 [1.0380038248228105] -0.0457463535866\n",
      "Observacion 336 0.0192320146726 [1.0387924680170939] 0.0979103203408\n",
      "Observacion 337 0.0290230467067 [1.0330544736119405] 0.151536404295\n",
      "Observacion 338 0.0441766871362 [1.0411553501512254] -0.214907713168\n",
      "Observacion 339 0.0226859158194 [1.0354338361093161] 0.0732606785153\n",
      "Observacion 340 0.0300119836709 [1.0319398056818747] -0.28270735589\n",
      "Observacion 341 0.00174124808195 [1.0683458292299024] 0.258733766571\n",
      "Observacion 342 0.0276146247391 [1.0469573110523605] -0.0306010320422\n",
      "Observacion 343 0.0245545215349 [1.0521436936545758] 0.51214915323\n",
      "Observacion 344 0.0757694368578 [1.0980647851499268] -0.465032690721\n",
      "Observacion 345 0.0292661677858 [1.027234972858778] -0.667069872703\n",
      "Observacion 346 -0.0374408194845 [1.0662004052746168] -0.0952204372457\n",
      "Observacion 347 -0.0469628632091 [1.0693409223951562] -0.0377356336158\n",
      "Observacion 348 -0.0507364265706 [1.068154659063951] 0.296323453247\n",
      "Observacion 349 -0.0211040812459 [1.0722528267958598] 0.202978493752\n",
      "Observacion 350 -0.000806231870735 [1.0922735891114115] 0.216473883697\n",
      "Observacion 351 0.020841156499 [1.1135518244172928] 0.108363060937\n",
      "Observacion 352 0.0316774625926 [1.1101450494972833] -0.177361658608\n",
      "Observacion 353 0.0139412967319 [1.1288049379725535] -0.384735925735\n",
      "Observacion 354 -0.0245322958416 [1.0768327352721891] 0.171512396288\n",
      "Observacion 355 -0.00738105621287 [1.0638648998565281] 0.341849414341\n",
      "Observacion 356 0.0268038852213 [1.0680676037533681] 0.201749503746\n",
      "Observacion 357 0.0469788355959 [1.0612219703746004] 0.186311315587\n",
      "Observacion 358 0.0656099671546 [1.0399396005676043] -0.264831638694\n",
      "Observacion 359 0.0391268032852 [1.0627887475351847] -0.010991723421\n",
      "Observacion 360 0.0380276309431 [1.0619413051020985] -0.322858149019\n",
      "Observacion 361 0.00574181604128 [1.0889626870194262] -0.0395832750446\n",
      "Observacion 362 0.00178348853681 [1.087190171361021] -0.0991833343583\n",
      "Observacion 363 -0.00813484489901 [1.0774776781675868] -0.191223949049\n",
      "Observacion 364 -0.0272572398039 [1.0780045246730723] -0.206496828986\n",
      "Observacion 365 -0.0479069227024 [1.1061426606388527] 0.447030334948\n",
      "Observacion 366 -0.00320388920763 [1.071636705297822] -0.298012280066\n",
      "Observacion 367 -0.0330051172142 [1.0923605206759361] 0.523691729136\n",
      "Observacion 368 0.0193640556993 [1.0119397976752313] 0.181370570544\n",
      "Observacion 369 0.0375011127538 [0.99034453241023235] -0.351035090234\n",
      "Observacion 370 0.00239760373044 [0.98335862742466318] 0.34104152371\n",
      "Observacion 371 0.0365017561015 [0.98489462267938332] 0.236130056611\n",
      "Observacion 372 0.0601147617626 [0.99908238067044597] -0.167197054843\n",
      "Observacion 373 0.0433950562783 [1.011555826481495] -0.105851411142\n",
      "Observacion 374 0.0328099151641 [1.000345009927105] -0.318032494005\n",
      "Observacion 375 0.00100666576361 [0.99521947035607727] 0.177543701218\n",
      "Observacion 376 0.0187610358854 [1.0033638860683123] 0.0604612989846\n",
      "Observacion 377 0.0248071657839 [1.0095829151411506] 0.42195697516\n",
      "Observacion 378 0.0670028632999 [0.96035254165663531] -0.336037400502\n",
      "Observacion 379 0.0333991232496 [0.96622205468363187] 0.430254933723\n",
      "Observacion 380 0.0764246166219 [0.95738676199657691] 0.000108826442997\n",
      "Observacion 381 0.0764354992662 [0.95736970746059036] -0.0496459310199\n",
      "Observacion 382 0.0714709061642 [0.96016492047132274] -0.107667836081\n",
      "Observacion 383 0.0607041225561 [0.94850775184652658] 0.206195089294\n",
      "Observacion 384 0.0813236314854 [0.92530612275214363] -0.465865406907\n",
      "Observacion 385 0.0347370907948 [0.90822906081408572] 0.131681979117\n",
      "Observacion 386 0.0479052887065 [0.92534661952026631] 0.155030647656\n",
      "Observacion 387 0.0634083534721 [0.9500914685189531] -0.0712392788183\n",
      "Observacion 388 0.0562844255903 [0.9447119199895978] -0.117911893714\n",
      "Observacion 389 0.0444932362189 [0.92983584945083919] -0.381018602514\n",
      "Observacion 390 0.00639137596746 [0.86878579358871844] -0.34280477509\n",
      "Observacion 391 -0.0278891015416 [0.89168646158262599] -0.0807661824858\n",
      "Observacion 392 -0.0359657197902 [0.89267877106527571] -0.0979784382934\n",
      "Observacion 393 -0.0457635636195 [0.90058288119953889] -0.447963295058\n",
      "Observacion 394 -0.0905598931253 [0.96557341548505138] 0.0664219509621\n",
      "Observacion 395 -0.0839176980291 [0.95648368371612591] -0.091774667271\n",
      "Observacion 396 -0.0930951647562 [0.96660278171205938] 0.256302187238\n",
      "Observacion 397 -0.0674649460324 [0.99185092740922953] 0.361891483853\n",
      "Observacion 398 -0.0312757976471 [0.98125249240657619] 0.463951856189\n",
      "Observacion 399 0.0151193879718 [0.95568552770713966] -0.091711567235\n",
      "Observacion 400 0.00594823124827 [0.96418531558885501] 0.242378243128\n",
      "Observacion 401 0.030186055561 [0.93241395943831584] 0.0205858165128\n",
      "Observacion 402 0.0322446372123 [0.93015199003768267] -0.399601635358\n",
      "Observacion 403 -0.00771552632352 [0.88382490784223444] 0.605744273799\n",
      "Observacion 404 0.0528589010564 [0.8871624120559688] 0.168596980052\n",
      "Observacion 405 0.0697185990615 [0.91021197027661571] -0.303540964349\n",
      "Observacion 406 0.0393645026266 [0.91135410986087684] 0.0318165456532\n",
      "Observacion 407 0.042546157192 [0.91456225233118515] -0.102282638631\n",
      "Observacion 408 0.0323178933289 [0.91928121042088806] -0.0594084486106\n",
      "Observacion 409 0.0263770484678 [0.92031839048597441] -0.241128613621\n",
      "Observacion 410 0.0022641871057 [0.94478530187720977] -0.52645897104\n",
      "Observacion 411 -0.0503817099983 [0.98823988669759621] 0.403044195543\n",
      "Observacion 412 -0.010077290444 [1.0046781770021431] 0.200119320793\n",
      "Observacion 413 0.00993464163528 [1.0035781487341962] 0.250192018638\n",
      "Observacion 414 0.0349538434991 [0.97474083649838861] -0.274571943331\n",
      "Observacion 415 0.00749664916598 [0.95925428028106086] 0.100223236551\n",
      "Observacion 416 0.0175189728211 [0.94253712288931635] -0.209065615026\n",
      "Observacion 417 -0.00338758868147 [0.92025472477625925] 0.0258793088472\n",
      "Observacion 418 -0.000799657796748 [0.91932068569163339] 0.140071903075\n",
      "Observacion 419 0.0132075325107 [0.90209324722259532] -0.0986977161606\n",
      "Observacion 420 0.00333776089468 [0.90028630425975742] -0.072434445339\n",
      "Observacion 421 -0.00390568363922 [0.91061933413957319] -0.23566965758\n",
      "Observacion 422 -0.0274726493972 [0.93614968743367899] 0.309597773708\n",
      "Observacion 423 0.00348712797352 [0.90261027787318804] -0.249000290357\n",
      "Observacion 424 -0.0214129010621 [0.90737052422987241] 0.153383372988\n",
      "Observacion 425 -0.00607456376333 [0.91830410023545195] 0.118478202693\n",
      "Observacion 426 0.00577325650597 [0.90116482696528577] 0.191639730664\n",
      "Observacion 427 0.0249372295724 [0.92650112758464387] -0.42159174986\n",
      "Observacion 428 -0.0172219454136 [0.90598663444018979] 0.0837063694231\n",
      "Observacion 429 -0.00885130847132 [0.90631255161125346] -0.0989137365009\n",
      "Observacion 430 -0.0187426821214 [0.89277823524502242] -0.309605627798\n",
      "Observacion 431 -0.0497032449012 [0.93154945045651072] -0.0833797001969\n",
      "Observacion 432 -0.0580412149209 [0.92962114019169395] 0.157511574912\n",
      "Observacion 433 -0.0422900574297 [0.94639926204590441] 0.555493964156\n",
      "Observacion 434 0.0132593389859 [0.88595351629052854] -0.000942602472899\n",
      "Observacion 435 0.0131650787386 [0.88584952188276012] -0.429602438759\n",
      "Observacion 436 -0.0297951651373 [0.95582406667959019] -0.135826390465\n",
      "Observacion 437 -0.0433778041838 [0.93291525430056654] 0.115560246901\n",
      "Observacion 438 -0.0318217794937 [0.93958419375299063] -0.122465782647\n",
      "Observacion 439 -0.0440683577585 [0.94074829268325433] 0.552504094916\n",
      "Observacion 440 0.0111820517331 [1.0274620420462626] 0.588970676982\n",
      "Observacion 441 0.0700791194313 [0.95383312511455731] -0.146163140595\n",
      "Observacion 442 0.0554628053719 [0.93343684628919055] 0.145415227506\n",
      "Observacion 443 0.0700043281225 [0.95206663699855365] 0.0528111834234\n",
      "Observacion 444 0.0752854464648 [0.9448919645270395] -0.136802270232\n",
      "Observacion 445 0.0616052194416 [0.94752206256429095] -0.283884422083\n",
      "Observacion 446 0.0332167772333 [0.97774961267403881] -0.162927263174\n",
      "Observacion 447 0.0169240509159 [0.99443629518404741] -0.0603065246593\n",
      "Observacion 448 0.01089339845 [0.99168333326738767] 0.271801839216\n",
      "Observacion 449 0.0380735823716 [0.98771575853972715] -0.0133223763804\n",
      "Observacion 450 0.0367413447336 [0.98788305735731485] 0.0548540560934\n",
      "Observacion 451 0.0422267503429 [0.99049336004439759] 0.610392133283\n",
      "Observacion 452 0.103265963671 [0.89541440660912031] 0.10653733549\n",
      "Observacion 453 0.11391969722 [0.90232364093272743] -0.141433126598\n",
      "Observacion 454 0.0997763845604 [0.90909596260249192] 0.177694911447\n",
      "Observacion 455 0.117545875705 [0.93173868870262022] 0.210861723984\n",
      "Observacion 456 0.138632048103 [0.93495889655011344] -0.0452015683731\n",
      "Observacion 457 0.134111891266 [0.92900594045810125] 0.373981964471\n",
      "Observacion 458 0.171510087713 [0.91425656843856162] -0.0816714390228\n",
      "Observacion 459 0.163342943811 [0.90299789978295952] -0.0263886201209\n",
      "Observacion 460 0.160704081799 [0.89987010704402759] -0.151084383306\n",
      "Observacion 461 0.145595643468 [0.87820889209592456] -0.632893432772\n",
      "Observacion 462 0.0823063001912 [0.89841577657305061] 0.156250436518\n",
      "Observacion 463 0.097931343843 [0.88568324315220459] -0.031527627453\n",
      "Observacion 464 0.0947785810977 [0.8844312072207825] -0.0966401613186\n",
      "Observacion 465 0.0851145649658 [0.89046974845350968] -0.0121732366033\n",
      "Observacion 466 0.0838972413055 [0.88902495544985571] 0.187747145006\n",
      "Observacion 467 0.102671955806 [0.90584612863848279] -0.21086346602\n",
      "Observacion 468 0.081585609204 [0.90234834473456094] -0.0818286822206\n",
      "Observacion 469 0.0734027409819 [0.8929978311425073] 0.0770288145532\n",
      "Observacion 470 0.0811056224373 [0.90019631722263693] 0.0682557695795\n",
      "Observacion 471 0.0879311993952 [0.9080245728181725] -0.108458056944\n",
      "Observacion 472 0.0770853937009 [0.89813771486891347] -0.22001753088\n",
      "Observacion 473 0.0550836406128 [0.89416756648890794] 0.0597382990338\n",
      "Observacion 474 0.0610574705162 [0.88603855410853405] 0.282421589702\n",
      "Observacion 475 0.0892996294864 [0.87695150916948406] 0.113642719646\n",
      "Observacion 476 0.100663901451 [0.88546940772886362] -0.154884530217\n",
      "Observacion 477 0.0851754484292 [0.87757140282811597] -0.416926531424\n",
      "Observacion 478 0.0434827952869 [0.83984619184346632] -0.268198979407\n",
      "Observacion 479 0.0166628973461 [0.81266429984378064] -0.379461504944\n",
      "Observacion 480 -0.0212832531482 [0.86974921600451383] -0.0181091031346\n",
      "Observacion 481 -0.0230941634617 [0.86739447653362434] -0.205156569388\n",
      "Observacion 482 -0.0436098204005 [0.85492585974867519] -0.329386181618\n",
      "Observacion 483 -0.0765484385623 [0.87192535396990989] 0.413845079889\n",
      "Observacion 484 -0.0351639305734 [0.92117836101721928] 0.0368305586297\n",
      "Observacion 485 -0.0314808747104 [0.91640678416984345] -0.395555759221\n",
      "Observacion 486 -0.0710364506325 [0.97756114890505019] 0.00660496637337\n",
      "Observacion 487 -0.0703759539952 [0.97788909594690443] -0.269254245006\n",
      "Observacion 488 -0.0973013784958 [0.93800319779183328] 0.334188096528\n",
      "Observacion 489 -0.0638825688429 [0.96691501647722278] 0.251718725023\n",
      "Observacion 490 -0.0387106963406 [0.98506873068716339] 0.0752360727232\n",
      "Observacion 491 -0.0311870890683 [0.98779229905281285] -0.0658192593257\n",
      "Observacion 492 -0.0377690150009 [0.99373734358846966] -0.0690201895612\n",
      "Observacion 493 -0.044671033957 [0.99286959288669396] 0.12323042634\n",
      "Observacion 494 -0.032347991323 [0.99917088200741788] 0.444611766318\n",
      "Observacion 495 0.0121131853087 [1.0085474707323354] -0.0594435687999\n",
      "Observacion 496 0.00616882842873 [1.0088597615790358] 0.240328589632\n",
      "Observacion 497 0.030201687392 [1.0299260955100329] -0.208363054771\n",
      "Observacion 498 0.00936538191482 [1.0085964432946624] -0.12278480179\n",
      "Observacion 499 -0.00291309826415 [0.99093421622777766] 0.347943235641\n",
      "Observacion 500 0.0318812253 [0.93827182261280007] 0.448026874864\n",
      "Observacion 501 0.0766839127863 [0.94645973506942105] -0.158377531703\n",
      "Observacion 502 0.0608461596161 [0.92398883021558287] 0.0335804139787\n",
      "Observacion 503 0.0642042010139 [0.9190197418651681] -0.0834626101665\n",
      "Observacion 504 0.0558579399973 [0.93131445597025764] -0.267112839941\n",
      "Observacion 505 0.0291466560032 [0.94332724729348749] 0.192722761235\n",
      "Observacion 506 0.0484189321267 [0.91590962365314321] -0.209272553313\n",
      "Observacion 507 0.0274916767954 [0.90514601361872127] 0.103669588771\n",
      "Observacion 508 0.0378586356725 [0.90359320436251511] 0.0837180759512\n",
      "Observacion 509 0.0462304432677 [0.90276957827092597] -0.0170835750587\n",
      "Observacion 510 0.0445220857618 [0.90005957870555264] -0.156267660282\n",
      "Observacion 511 0.0288953197336 [0.90126587316057505] -0.339962173294\n",
      "Observacion 512 -0.00510089759581 [0.94059179527140613] 0.120276883993\n",
      "Observacion 513 0.00692679080349 [0.94801847477335743] -0.241747226308\n",
      "Observacion 514 -0.0172479318273 [0.91866911770510462] 0.318670513139\n",
      "Observacion 515 0.0146191194867 [0.90448106018131347] -0.384674993098\n",
      "Observacion 516 -0.0238483798231 [0.92357774934322812] -0.197019747526\n",
      "Observacion 517 -0.0435503545757 [0.95617153754674711] 0.111392924742\n",
      "Observacion 518 -0.0324110621016 [0.95957681720449217] 0.22312464895\n",
      "Observacion 519 -0.0100985972065 [0.93999996823041243] -0.0956223831651\n",
      "Observacion 520 -0.019660835523 [0.94372680576178125] 0.0132242939807\n",
      "Observacion 521 -0.018338406125 [0.94151503074585807] -0.0583591485719\n",
      "Observacion 522 -0.0241743209822 [0.94172406849945189] 0.301911143253\n",
      "Observacion 523 0.00601679334318 [0.90611494008626869] -0.0239119438588\n",
      "Observacion 524 0.0036255989573 [0.90274925985603349] -0.0958149718857\n",
      "Observacion 525 -0.00595589823127 [0.90307468769955745] 0.0495894994047\n",
      "Observacion 526 -0.000996948290801 [0.90676342342953464] 0.246896110295\n",
      "Observacion 527 0.0236926627387 [0.92739261227530279] 0.1747852726\n",
      "Observacion 528 0.0411711899987 [0.92121539111753847] 0.269300930641\n",
      "Observacion 529 0.0681012830628 [0.96538237758769585] 0.0114030441542\n",
      "Observacion 530 0.0692415874782 [0.96660803810842122] -0.226295627075\n",
      "Observacion 531 0.0466120247707 [0.99960264904235152] -0.143837330768\n",
      "Observacion 532 0.0322282916939 [1.000805371713787] 0.260740529373\n",
      "Observacion 533 0.0583023446313 [1.0347144356379423] 0.172459940428\n",
      "Observacion 534 0.075548338674 [1.0404890670285729] 0.0781082439245\n",
      "Observacion 535 0.0833591630665 [1.0420164010606023] -0.0524619547775\n",
      "Observacion 536 0.0781129675887 [1.0454956604678303] -0.0611550436597\n",
      "Observacion 537 0.0719974632228 [1.0354000782762582] 0.243142411465\n",
      "Observacion 538 0.0963117043692 [1.0146748670645114] -0.0359472551233\n",
      "Observacion 539 0.0927169788569 [1.017609816433197] -0.417517921901\n",
      "Observacion 540 0.0509651866668 [1.0335791237873753] -0.063625317475\n",
      "Observacion 541 0.0446026549193 [1.0250374778556457] -0.187966792259\n",
      "Observacion 542 0.0258059756934 [1.0325256494627841] -0.268807844902\n",
      "Observacion 543 -0.00107480879684 [1.0088297486440299] 0.152076334618\n",
      "Observacion 544 0.014132824665 [0.98343276537601354] -0.278559614322\n",
      "Observacion 545 -0.0137231367672 [1.0298364222329335] -0.262399633653\n",
      "Observacion 546 -0.0399631001326 [1.0027153846330146] 0.0173407290387\n",
      "Observacion 547 -0.0382290272287 [1.0010972744161659] 0.329507860431\n",
      "Observacion 548 -0.00527824118559 [0.9619814745616565] -0.20925651359\n",
      "Observacion 549 -0.0262038925446 [0.9655824165828395] 0.0847840883765\n",
      "Observacion 550 -0.017725483707 [0.95436772902223188] -0.142342037532\n",
      "Observacion 551 -0.0319596874601 [0.95064553552670061] 0.357800220793\n",
      "Observacion 552 0.0038203346192 [0.98025240309106998] 0.00579945457753\n",
      "Observacion 553 0.00440028007695 [0.98057615388348329] -0.205957183239\n",
      "Observacion 554 -0.016195438247 [0.96776006556851546] -0.146487689831\n",
      "Observacion 555 -0.0308442072301 [0.94404894877004986] 0.330384987644\n",
      "Observacion 556 0.0021942915343 [0.93220446228765552] 0.0392115313545\n",
      "Observacion 557 0.00611544466975 [0.9346111701721197] -0.265621000455\n",
      "Observacion 558 -0.0204466553757 [0.97057930596665332] -0.419889328656\n",
      "Observacion 559 -0.0624355882413 [1.0007976842620916] 0.176937277217\n",
      "Observacion 560 -0.0447418605196 [0.98941319571160125] 0.0844296384265\n",
      "Observacion 561 -0.036298896677 [0.98926330460531786] 0.440871562313\n",
      "Observacion 562 0.00778825955429 [1.0074303317232334] 0.147213525934\n",
      "Observacion 563 0.0225096121477 [1.0266821957075114] -0.196432512694\n",
      "Observacion 564 0.00286636087834 [0.99552239547161492] -0.354255988269\n",
      "Observacion 565 -0.0325592379486 [0.99579231952341318] 0.0916492678533\n",
      "Observacion 566 -0.0233943111632 [0.99699810567899272] 0.0615893419173\n",
      "Observacion 567 -0.0172353769715 [0.98951475001433842] 0.00850634194869\n",
      "Observacion 568 -0.0163847427766 [0.98953110618828222] -0.130517402989\n",
      "Observacion 569 -0.0294364830755 [0.99241767413062387] 0.095036278611\n",
      "Observacion 570 -0.0199328552144 [0.97917582479038823] -0.0208809499041\n",
      "Observacion 571 -0.0220209502048 [0.98268075446556624] -0.158294897051\n",
      "Observacion 572 -0.0378504399099 [0.96688203958560315] 0.121768174867\n",
      "Observacion 573 -0.0256736224232 [0.95978696921965723] -0.182694110564\n",
      "Observacion 574 -0.0439430334797 [0.94085422490817849] -0.413353359759\n",
      "Observacion 575 -0.0852783694556 [0.95125522074243252] -0.212745783451\n",
      "Observacion 576 -0.106552947801 [0.98469505729191065] 0.0429673000162\n",
      "Observacion 577 -0.102256217799 [0.98268181580170688] -0.466411202964\n",
      "Observacion 578 -0.148897338095 [0.95089814659418115] 0.17775383003\n",
      "Observacion 579 -0.131121955092 [0.97239853711416413] -0.0879463508188\n",
      "Observacion 580 -0.139916590174 [0.95953093640028864] 0.334102318653\n",
      "Observacion 581 -0.106506358309 [0.90831376808996733] -0.0127945457709\n",
      "Observacion 582 -0.107785812886 [0.9080403359670326] -0.0027295938217\n",
      "Observacion 583 -0.108058772268 [0.90827392390867956] -0.0954502411569\n",
      "Observacion 584 -0.117603796384 [0.91889437668744045] 0.0574684281812\n",
      "Observacion 585 -0.111856953566 [0.9237013745965591] 0.290163346235\n",
      "Observacion 586 -0.0828406189423 [0.9673426743484862] 0.132541118556\n",
      "Observacion 587 -0.0695865070867 [0.95614993561156303] 0.214777798912\n",
      "Observacion 588 -0.0481087271955 [0.94457648398165561] 0.198413657758\n",
      "Observacion 589 -0.0282673614197 [0.92817485379286457] 0.0413128439068\n",
      "Observacion 590 -0.024136077029 [0.92774900854404119] 0.0280024917775\n",
      "Observacion 591 -0.0213358278512 [0.93035660740535819] 0.033968839601\n",
      "Observacion 592 -0.0179389438911 [0.92957970408555413] -0.119399468974\n",
      "Observacion 593 -0.0298788907886 [0.94758802946974141] 0.117357995846\n",
      "Observacion 594 -0.018143091204 [0.92812052340664675] 0.172895595666\n",
      "Observacion 595 -0.000853531637375 [0.93800142221239258] -0.127600530232\n",
      "Observacion 596 -0.0136135846606 [0.93239903483631459] -0.246179968105\n",
      "Observacion 597 -0.0382315814711 [0.90293928127661882] 0.0691833599003\n",
      "Observacion 598 -0.0313132454811 [0.89882253407267632] 0.51418699268\n",
      "Observacion 599 0.0201054537869 [0.88762421216564913] -0.0788885653744\n",
      "Observacion 600 0.0122165972494 [0.89892938397482669] -0.311606503182\n",
      "Observacion 601 -0.0189440530688 [0.94883888304646324] -0.35236647042\n",
      "Observacion 602 -0.0541807001108 [0.95481571184134406] -0.182490902638\n",
      "Observacion 603 -0.0724297903746 [0.93131559676392484] 0.472197042765\n",
      "Observacion 604 -0.0252100860981 [0.96246947245386016] 0.070224509637\n",
      "Observacion 605 -0.0181876351344 [0.96313294239277003] -0.00647597271833\n",
      "Observacion 606 -0.0188352324062 [0.96357663502114932] 0.410911935648\n",
      "Observacion 607 0.0222559611585 [0.96585865312208707] 0.245663838335\n",
      "Observacion 608 0.0468223449921 [0.97453118433177732] -0.208902040064\n",
      "Observacion 609 0.0259321409857 [0.95966937161818455] -0.186987207007\n",
      "Observacion 610 0.00723342028502 [0.97138059997488402] 0.476887277074\n",
      "Observacion 611 0.0549221479924 [1.0248283413977592] -0.0331935982093\n",
      "Observacion 612 0.0516027881715 [1.0192847017245288] -0.0849069099263\n",
      "Observacion 613 0.0431120971789 [1.0188413660991551] -0.529875220642\n",
      "Observacion 614 -0.00987542488534 [0.93441539981797905] 0.32610467517\n",
      "Observacion 615 0.0227350426316 [0.96962409528248128] -0.0562852146172\n",
      "Observacion 616 0.0171065211699 [0.9751857294206786] 0.0324188217024\n",
      "Observacion 617 0.0203484033402 [0.97474686129621946] 0.529176081203\n",
      "Observacion 618 0.0732660114605 [0.99657881657061609] -0.070668163262\n",
      "Observacion 619 0.0661991951343 [1.0016755627703511] -0.110471666297\n",
      "Observacion 620 0.0551520285045 [1.0191267737886647] 0.247890606547\n",
      "Observacion 621 0.0799410891593 [0.98342066913560777] 0.0415852128093\n",
      "Observacion 622 0.0840996104402 [0.98439042186880943] -0.144230547794\n",
      "Observacion 623 0.0696765556609 [0.98613522609183046] -0.324792606386\n",
      "Observacion 624 0.0371972950223 [1.0227795206691135] -0.158332398036\n",
      "Observacion 625 0.0213640552187 [1.0357038747615148] 0.0303846439\n",
      "Observacion 626 0.0244025196087 [1.0404505480024668] -0.0625986741168\n",
      "Observacion 627 0.018142652197 [1.0384640812495807] 0.324311777332\n",
      "Observacion 628 0.0505738299303 [1.0796613720568053] 0.089573148206\n",
      "Observacion 629 0.0595311447509 [1.070930381415315] 0.010932412644\n",
      "Observacion 630 0.0606243860153 [1.0694253039377399] -0.143793788141\n",
      "Observacion 631 0.0462450072012 [1.0929617661155486] 0.518479223813\n",
      "Observacion 632 0.0980929295825 [1.0722074565718898] -0.320355522388\n",
      "Observacion 633 0.0660573773436 [1.0322419376143153] -0.0412364566188\n",
      "Observacion 634 0.0619337316817 [1.0370834971993985] -0.0318820010786\n",
      "Observacion 635 0.0587455315739 [1.0359797052947408] -0.165460820481\n",
      "Observacion 636 0.0421994495258 [1.0415294753797371] -0.0613373856436\n",
      "Observacion 637 0.0360657109614 [1.0318519964616344] -0.355924455738\n",
      "Observacion 638 0.00047326538762 [1.0798214514584326] -0.0265154459623\n",
      "Observacion 639 -0.00217827920861 [1.0823717584840167] -0.114053967831\n",
      "Observacion 640 -0.0135836759917 [1.0871443382099142] 0.0734825671906\n",
      "Observacion 641 -0.0062354192726 [1.0993187375723592] 0.29566501204\n",
      "Observacion 642 0.0233310819314 [1.0545706739967884] -0.174885903759\n",
      "Observacion 643 0.00584249155552 [1.0616345476217099] 0.084259145525\n",
      "Observacion 644 0.014268406108 [1.066894649481722] -0.0209322613376\n",
      "Observacion 645 0.0121751799743 [1.0676242983540996] -0.135943207082\n",
      "Observacion 646 -0.00141914073391 [1.0711636810660539] -0.325847662153\n",
      "Observacion 647 -0.0340039069493 [1.0342500432884099] -0.0862915778033\n",
      "Observacion 648 -0.0426330647296 [1.0250367636006452] 0.12630233051\n",
      "Observacion 649 -0.0300028316786 [1.0383107834927345] 0.220770002645\n",
      "Observacion 650 -0.0079258314141 [1.0176839640720838] -0.07768070583\n",
      "Observacion 651 -0.0156939019971 [1.0150427436967311] -0.0344271491137\n",
      "Observacion 652 -0.0191366169085 [1.0153100248096234] 0.0984354506981\n",
      "Observacion 653 -0.00929307183866 [0.99995571540843498] -0.102102636701\n",
      "Observacion 654 -0.0195033355087 [1.0137211294427346] -0.238703170836\n",
      "Observacion 655 -0.0433736525923 [1.0316617764749152] 0.22152327629\n",
      "Observacion 656 -0.0212213249634 [1.030436877034951] -0.129250297456\n",
      "Observacion 657 -0.034146354709 [1.0317343081694721] 0.0213047987629\n",
      "Observacion 658 -0.0320158748327 [1.0298818316942899] -0.00473599228737\n",
      "Observacion 659 -0.0324894740615 [1.0295356435450387] 0.516896412977\n",
      "Observacion 660 0.0192001672362 [1.0102669417050965] -0.180530220375\n",
      "Observacion 661 0.00114714519867 [0.98330864375637794] -0.109729690817\n",
      "Observacion 662 -0.00982582388308 [0.98736620848201728] 0.0827063518204\n",
      "Observacion 663 -0.00155518870104 [0.98050008050793591] -0.173300996511\n",
      "Observacion 664 -0.0188852883521 [0.98467427386347139] -0.239293588599\n",
      "Observacion 665 -0.042814647212 [0.94592669053195733] 0.0146994506784\n",
      "Observacion 666 -0.0413447021442 [0.94838821491837122] -0.157696745207\n",
      "Observacion 667 -0.0571143766648 [0.94135657741481693] -0.0304399259058\n",
      "Observacion 668 -0.0601583692554 [0.94422862008445629] 0.0161476995683\n",
      "Observacion 669 -0.0585435992986 [0.94327953722780911] -0.587997613031\n",
      "Observacion 670 -0.117343360602 [0.89149937016440273] 0.1168314703\n",
      "Observacion 671 -0.105660213572 [0.87998448519672423] -0.266556276603\n",
      "Observacion 672 -0.132315841232 [0.92376962104981475] -0.0798333071422\n",
      "Observacion 673 -0.140299171946 [0.93376300720910832] 0.511794897964\n",
      "Observacion 674 -0.0891196821498 [1.0073459428190958] 0.436645096573\n",
      "Observacion 675 -0.0454551724925 [0.94587811348450979] -0.215252513288\n",
      "Observacion 676 -0.0669804238213 [0.95629052374326462] -0.0974347316769\n",
      "Observacion 677 -0.076723896989 [0.94552160610730462] 0.0760498449053\n",
      "Observacion 678 -0.0691189124985 [0.93288966321127031] 0.103561918836\n",
      "Observacion 679 -0.0587627206149 [0.94532695089187291] -0.139679422379\n",
      "Observacion 680 -0.0727306628529 [0.92868848402016246] 0.528875011017\n",
      "Observacion 681 -0.0198431617511 [0.97588602917318001] 0.5406693934\n",
      "Observacion 682 0.0342237775889 [0.95076760182447462] -0.11473418897\n",
      "Observacion 683 0.0227503586918 [0.96382171322319266] -0.25262461813\n",
      "Observacion 684 -0.00251210312116 [0.92232468609845641] -0.282497232222\n",
      "Observacion 685 -0.0307618263434 [0.9458047744236997] -0.307134973534\n",
      "Observacion 686 -0.0614753236967 [0.92278983743393106] 0.000139450047449\n",
      "Observacion 687 -0.061461378692 [0.92276907278106979] 0.278130487495\n",
      "Observacion 688 -0.0336483299424 [0.93338948166680857] 0.157408233099\n",
      "Observacion 689 -0.0179075066326 [0.94166332473790948] -0.115939404981\n",
      "Observacion 690 -0.0295014471307 [0.95770761671693017] 0.315767387255\n",
      "Observacion 691 0.00207529159483 [0.9080876277048161] 0.20056857211\n",
      "Observacion 692 0.0221321488059 [0.9247991797773536] -0.317897520676\n",
      "Observacion 693 -0.0096576032617 [0.96442804504745994] -0.184608940094\n",
      "Observacion 694 -0.0281184972711 [0.94459683623190283] 0.0570968257312\n",
      "Observacion 695 -0.0224088146979 [0.95396113235899382] 0.0644983541724\n",
      "Observacion 696 -0.0159589792807 [0.95485345934611643] 0.230688308548\n",
      "Observacion 697 0.00710985157409 [0.91815168885809872] 0.0764815220672\n",
      "Observacion 698 0.0147580037808 [0.92770834157054416] 0.191283530392\n",
      "Observacion 699 0.03388635682 [0.9595541178736926] -0.21088442124\n",
      "Observacion 700 0.012797914696 [0.99514606246299286] -0.34982543482\n",
      "Observacion 701 -0.022184628786 [0.95074622907620898] -0.0497680754621\n",
      "Observacion 702 -0.0271614363322 [0.94517133023402911] -0.268160705924\n",
      "Observacion 703 -0.0539775069247 [0.98378253010840733] 0.0988632372979\n",
      "Observacion 704 -0.0440911831949 [0.99602265963624881] 0.732540861024\n",
      "Observacion 705 0.0291629029075 [1.0194971664162507] 0.178777362393\n",
      "Observacion 706 0.0470406391468 [1.0201456662162243] -0.216097752116\n",
      "Observacion 707 0.0254308639352 [0.99391293033467099] -0.174426088616\n",
      "Observacion 708 0.00798825507364 [0.98993700799925055] -0.255928839656\n",
      "Observacion 709 -0.0176046288919 [0.96721025269851446] 0.0205532045735\n",
      "Observacion 710 -0.0155493084346 [0.96671949621692288] 0.437297603494\n",
      "Observacion 711 0.0281804519148 [0.94582707208095473] 0.230180135036\n",
      "Observacion 712 0.0511984654184 [0.9760944819497086] -0.124868537761\n",
      "Observacion 713 0.0387116116423 [0.95958392782987334] -0.179680943306\n",
      "Observacion 714 0.0207435173117 [0.97384241558129681] -0.256662788224\n",
      "Observacion 715 -0.00492276151074 [0.97333867388689543] -0.0365631047024\n",
      "Observacion 716 -0.00857907198098 [0.96863323562050552] 0.209746104004\n",
      "Observacion 717 0.0123955384194 [0.94779644248045491] -0.0246486176297\n",
      "Observacion 718 0.00993067665643 [0.94389830470116365] 0.00349049524661\n",
      "Observacion 719 0.0102797261811 [0.9435166845674684] -0.118175039834\n",
      "Observacion 720 -0.00153777780232 [0.93837997162248332] -0.0345457323686\n",
      "Observacion 721 -0.00499235103918 [0.94323764468848648] 0.112706817241\n",
      "Observacion 722 0.00627833068488 [0.92932112819080059] 0.247484688699\n",
      "Observacion 723 0.0310267995547 [0.90247444389630327] 0.270437955394\n",
      "Observacion 724 0.0580705950941 [0.89503294681593448] 0.179729594947\n",
      "Observacion 725 0.0760435545889 [0.890952070942163] 0.263515856198\n",
      "Observacion 726 0.102395140209 [0.93293208270917727] 0.202651796776\n",
      "Observacion 727 0.122660319886 [0.96555836722736121] -0.0579473795782\n",
      "Observacion 728 0.116865581928 [0.97487761322263089] -0.202539062655\n",
      "Observacion 729 0.0966116756629 [1.0088615489457304] -0.684001685805\n",
      "Observacion 730 0.0282115070824 [0.99117339331868015] -0.153610054612\n",
      "Observacion 731 0.0128505016212 [0.97450185982000481] 0.247185521713\n",
      "Observacion 732 0.0375690537925 [1.0029453574816298] -0.131705088513\n",
      "Observacion 733 0.0243985449412 [0.98529842911118537] 0.181020205304\n",
      "Observacion 734 0.0425005654716 [0.98899160624568305] 0.0722208928418\n",
      "Observacion 735 0.0497226547558 [0.99212532453329028] 0.34609923798\n",
      "Observacion 736 0.0843325785537 [0.98312437319270252] -0.0619694048686\n",
      "Observacion 737 0.0781356380669 [0.99197087009939577] 0.241790309019\n",
      "Observacion 738 0.102314668969 [0.98280009806754187] -0.359671474091\n",
      "Observacion 739 0.0663475215597 [1.0192333142622199] -0.440274142081\n",
      "Observacion 740 0.0223201073516 [1.0565452908296606] -0.359293667125\n",
      "Observacion 741 -0.0136092593609 [1.0322460530570921] 0.443051095763\n",
      "Observacion 742 0.0306958502154 [0.99707152311886871] 0.0315048143795\n",
      "Observacion 743 0.0338463316533 [0.99216210347071243] -0.0801612438002\n",
      "Observacion 744 0.0258302072733 [0.99259775913747206] 0.150026403356\n",
      "Observacion 745 0.0408328476089 [0.9721233693012985] -0.139178548079\n",
      "Observacion 746 0.0269149928009 [0.99139706731719079] 0.0160893386421\n",
      "Observacion 747 0.0285239266651 [0.99357172937143157] -0.42310689497\n",
      "Observacion 748 -0.0137867628318 [0.92516152348165692] -0.218316069327\n",
      "Observacion 749 -0.0356183697645 [0.91386181109847042] -0.529016544395\n",
      "Observacion 750 -0.088520024204 [0.98265559865219909] 0.0350537739977\n",
      "Observacion 751 -0.0850146468042 [0.98759985908402204] 0.185753994692\n",
      "Observacion 752 -0.0664392473351 [0.95761152599270161] 0.151408992597\n",
      "Observacion 753 -0.0512983480753 [0.93737054187856572] -0.0725939875838\n",
      "Observacion 754 -0.0585577468337 [0.93646955919322483] 0.308184650518\n",
      "Observacion 755 -0.0277392817818 [0.96308104767804747] 0.1757629263\n",
      "Observacion 756 -0.0101629891518 [0.98744578280621809] 0.160332364199\n",
      "Observacion 757 0.00587024726803 [0.98558259774928447] -0.50873266836\n",
      "Observacion 758 -0.045003019568 [0.97558973703541285] -0.285129079724\n",
      "Observacion 759 -0.0735159275403 [0.93865349637763629] 0.288126498759\n",
      "Observacion 760 -0.0447032776645 [0.94234113636678418] 0.223618291267\n",
      "Observacion 761 -0.0223414485377 [0.95204173139661075] -0.010506015961\n",
      "Observacion 762 -0.0233920501338 [0.95239548326202494] 0.222517457689\n",
      "Observacion 763 -0.0011403043649 [0.94165910940797604] 0.0646907488317\n",
      "Observacion 764 0.00532877051827 [0.95206611797656249] -0.0361340460435\n",
      "Observacion 765 0.00171536591392 [0.95001483692794297] -0.381679779319\n",
      "Observacion 766 -0.036452612018 [1.0057957361500314] 0.0732989968567\n",
      "Observacion 767 -0.0291227123323 [1.0056742520739044] 0.156279702563\n",
      "Observacion 768 -0.013494742076 [1.0038532143952752] -0.257721770364\n",
      "Observacion 769 -0.0392669191125 [1.0295117611403046] 0.191008724332\n",
      "Observacion 770 -0.0201660466793 [1.0069197232710041] -0.110677152515\n"
     ]
    },
    {
     "name": "stderr",
     "output_type": "stream",
     "text": [
      "C:\\Anaconda3\\lib\\site-packages\\sklearn\\preprocessing\\data.py:583: DeprecationWarning: Passing 1d arrays as data is deprecated in 0.17 and will raise ValueError in 0.19. Reshape your data either using X.reshape(-1, 1) if your data has a single feature or X.reshape(1, -1) if it contains a single sample.\n",
      "  warnings.warn(DEPRECATION_MSG_1D, DeprecationWarning)\n",
      "C:\\Anaconda3\\lib\\site-packages\\sklearn\\preprocessing\\data.py:646: DeprecationWarning: Passing 1d arrays as data is deprecated in 0.17 and will raise ValueError in 0.19. Reshape your data either using X.reshape(-1, 1) if your data has a single feature or X.reshape(1, -1) if it contains a single sample.\n",
      "  warnings.warn(DEPRECATION_MSG_1D, DeprecationWarning)\n"
     ]
    }
   ],
   "source": [
    "X_train, X_test, Y_train, Y_test = train_test_split(data[[\"X\"]],data[\"y\"], train_size=0.75)\n",
    "\n",
    "\n",
    "ScaleX = preprocessing.StandardScaler()\n",
    "ScaleY = preprocessing.StandardScaler()\n",
    "\n",
    "ScaleX.fit(X_train)\n",
    "X_train = pd.DataFrame(data = ScaleX.transform(X_train), columns = ['X'])\n",
    "\n",
    "ScaleY.fit(Y_train)\n",
    "Y_train = pd.Series(data = ScaleY.transform(Y_train), name = 'y' )\n",
    "\n",
    "w0_ini = rnd.random()\n",
    "w_ini = [rnd.random()]\n",
    "w0_fin, w_fin = entrena(w0_ini,w_ini,X_train,Y_train)"
   ]
  },
  {
   "cell_type": "code",
   "execution_count": 6,
   "metadata": {
    "collapsed": false
   },
   "outputs": [
    {
     "data": {
      "text/plain": [
       "[<matplotlib.lines.Line2D at 0x1920551ff28>]"
      ]
     },
     "execution_count": 6,
     "metadata": {},
     "output_type": "execute_result"
    },
    {
     "data": {
      "image/png": "[encoded data removed]",
      "text/plain": [
       "<matplotlib.figure.Figure at 0x1920551fe48>"
      ]
     },
     "metadata": {},
     "output_type": "display_data"
    }
   ],
   "source": [
    "\n",
    "Y_Predicted = w0_fin + w_fin[0]*X_train\n",
    "Y_test\n",
    "\n",
    "plt.scatter(X_train,Y_train)\n",
    "plt.plot(X_train, Y_Predicted, color='red', linewidth=3)\n"
   ]
  },
  {
   "cell_type": "code",
   "execution_count": 7,
   "metadata": {
    "collapsed": false
   },
   "outputs": [
    {
     "name": "stderr",
     "output_type": "stream",
     "text": [
      "C:\\Anaconda3\\lib\\site-packages\\sklearn\\preprocessing\\data.py:646: DeprecationWarning: Passing 1d arrays as data is deprecated in 0.17 and will raise ValueError in 0.19. Reshape your data either using X.reshape(-1, 1) if your data has a single feature or X.reshape(1, -1) if it contains a single sample.\n",
      "  warnings.warn(DEPRECATION_MSG_1D, DeprecationWarning)\n"
     ]
    }
   ],
   "source": [
    "X_test = pd.DataFrame(data = ScaleX.transform(X_test), columns = ['X'])\n",
    "Y_test = pd.Series(data = ScaleY.transform(Y_test), name = 'y' )\n",
    "Y_Predicted_test = w0_fin + w_fin[0]*X_test"
   ]
  },
  {
   "cell_type": "code",
   "execution_count": 8,
   "metadata": {
    "collapsed": false,
    "scrolled": true
   },
   "outputs": [
    {
     "data": {
      "text/plain": [
       "[<matplotlib.lines.Line2D at 0x1920557d470>]"
      ]
     },
     "execution_count": 8,
     "metadata": {},
     "output_type": "execute_result"
    },
    {
     "data": {
      "image/png": "[encoded data removed]",
      "text/plain": [
       "<matplotlib.figure.Figure at 0x1920557d438>"
      ]
     },
     "metadata": {},
     "output_type": "display_data"
    }
   ],
   "source": [
    "#Visualizar los datos y la estimación de la recta producto de la regresion dinamica para el conjunto de prueba\n",
    "plt.scatter(X_test,Y_test)\n",
    "plt.plot(X_test, Y_Predicted_test, color='red', linewidth=3)"
   ]
  },
  {
   "cell_type": "code",
   "execution_count": 10,
   "metadata": {
    "collapsed": false
   },
   "outputs": [
    {
     "data": {
      "text/plain": [
       "[<matplotlib.lines.Line2D at 0x192055cb9e8>]"
      ]
     },
     "execution_count": 10,
     "metadata": {},
     "output_type": "execute_result"
    },
    {
     "data": {
      "image/png": "[encoded data removed]",
      "text/plain": [
       "<matplotlib.figure.Figure at 0x1920567f390>"
      ]
     },
     "metadata": {},
     "output_type": "display_data"
    }
   ],
   "source": [
    "#Calculo de los errores de la regresion\n",
    "errores = Y_Predicted_test.iloc[0:len(Y_Predicted_test),0] - Y_test\n",
    "#Visualizar como se distribuyen los residuales de la regresion\n",
    "plt.scatter(X_test,errores)\n",
    "z = np.polyfit(X_test.iloc[0:len(X_test),0], errores, 1)\n",
    "p = np.poly1d(z)\n",
    "plt.plot(X_test.iloc[0:len(X_test),0],p(X_test.iloc[0:len(X_test),0]))"
   ]
  },
  {
   "cell_type": "code",
   "execution_count": 11,
   "metadata": {
    "collapsed": false
   },
   "outputs": [
    {
     "data": {
      "text/plain": [
       "0.014107442191401596"
      ]
     },
     "execution_count": 11,
     "metadata": {},
     "output_type": "execute_result"
    }
   ],
   "source": [
    "#Calculo del error estandar de la estimacion\n",
    "math.sqrt(np.mean((Y_Predicted_test.iloc[0:len(Y_Predicted_test),0] - Y_test)**2)/len(Y_Predicted_test))"
   ]
  }
 ],
 "metadata": {
  "anaconda-cloud": {},
  "kernelspec": {
   "display_name": "Python [Root]",
   "language": "python",
   "name": "Python [Root]"
  },
  "language_info": {
   "codemirror_mode": {
    "name": "ipython",
    "version": 3
   },
   "file_extension": ".py",
   "mimetype": "text/x-python",
   "name": "python",
   "nbconvert_exporter": "python",
   "pygments_lexer": "ipython3",
   "version": "3.5.2"
  }
 },
 "nbformat": 4,
 "nbformat_minor": 0
}
