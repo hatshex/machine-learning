{
 "cells": [
  {
   "cell_type": "markdown",
   "metadata": {},
   "source": [
    "<img src=\"images/logoitam.gif\">\n",
    "\n",
    "# Maestría en Ciencia de Datos\n",
    "## Regresión Lineal Perceptrón\n",
    "\n",
    "* Machine Learning | Tarea 06 | 06 de octubre de 2016 |\n",
    "* Alumnas: \n",
    "        - Gabriela Flores Bracamontes | Clave: 160124 |\n",
    "        - Guillermina Montanari Luján | Clave: 101421 |\n",
    "        - Paulina Salgado Figueroa    | Clave: 160314 |"
   ]
  },
  {
   "cell_type": "markdown",
   "metadata": {},
   "source": [
    "## Instrucciones\n",
    "* Modifique su algoritmo de regresión lineal iterativa cambiando la función de salida a la fn escalón, i.e. Implemente g\n",
    "* Entrene un Perceptrón para modelar los datos de reglin4.csv como un problema de clasificación\n",
    "* Grafique la barrera de decisión\n",
    "<img src=\"images/perceptron.png\">"
   ]
  },
  {
   "cell_type": "markdown",
   "metadata": {},
   "source": []
  },
  {
   "cell_type": "code",
   "execution_count": 1,
   "metadata": {
    "collapsed": true
   },
   "outputs": [],
   "source": [
    "from sklearn.cross_validation import train_test_split\n",
    "from sklearn.linear_model import LinearRegression\n",
    "from sklearn import preprocessing\n",
    "import pandas as pd\n",
    "import matplotlib.pyplot as plt\n",
    "import numpy as np\n",
    "import csv\n",
    "import random as rnd\n",
    "import os \n",
    "import math\n",
    "import matplotlib.pyplot\n",
    "%matplotlib inline\n",
    "matplotlib.style.use('ggplot')"
   ]
  },
  {
   "cell_type": "code",
   "execution_count": 2,
   "metadata": {
    "collapsed": true
   },
   "outputs": [],
   "source": [
    "def salida(w0,w,X):\n",
    "    suma = w0\n",
    "    for i in range(len(w)):\n",
    "        suma = suma + w[i]*X.iloc[i]\n",
    "    return suma\n",
    "\n",
    "def entrena(w0,w,X_train,Y_train, tpo_outfun=0):\n",
    "    \"\"\"\n",
    "    Metodo de entrenamiento de gradiente descendente sin regularización de ridge\n",
    "    Recibe una w0 y un vector de w iniciales \n",
    "    Recibe una matriz de valores que contienen las variables independientes por columna\n",
    "    Recibe un vector con las observaciones de la variable dependiente\n",
    "    Recibe el tipo de función de salida que va a utilizar\n",
    "    \"\"\"\n",
    "    eta = 0.1\n",
    "    observaciones = len(X_train)\n",
    "    #### Por cada nuevo valor que me va llegando calculo mis nuevas w's considerando el error de predicción usando las w's actuales\n",
    "    for i in range(observaciones):\n",
    "        if (tpo_outfun==0):\n",
    "            sal = salida(w0,w,X_train.iloc[i,0:len(X_train.columns)])\n",
    "        else:\n",
    "            sal = salida_escalon(w0,w,X_train.iloc[i,0:len(X_train.columns)])\n",
    "        #### Calculo el error de predicción de y gorro\n",
    "        error = Y_train.iloc[i] - sal\n",
    "        ###Actualizo mi w0        \n",
    "        w0 = w0 + eta*error\n",
    "        columnasdatos = len(X_train.columns)\n",
    "        ### Actualizo mis w's\n",
    "        for j in range(columnasdatos):\n",
    "            w[j] = w[j] + eta*error*X_train.iloc[i,j]\n",
    "    ### Regreso las w0 y w's wue calcule al final\n",
    "    return w0,w\n",
    "\n",
    "def entrena_regularizado(w0,w,X_train,Y_train,lam):\n",
    "    eta = 0.1\n",
    "    observaciones = len(X_train)\n",
    "    for i in range(observaciones):\n",
    "        sal = salida(w0,w,X_train.iloc[i,0:len(X_train.columns)])\n",
    "        error = Y_train.iloc[i] - sal\n",
    "        w0 = w0 + eta*error - lam*w0\n",
    "        columnasdatos = len(X_train.columns)\n",
    "        for j in range(columnasdatos):\n",
    "            w[j] = w[j] + eta*error*X_train.iloc[i,j] - lam*w[j]\n",
    "    return w0,w\n",
    "\n",
    "def salida_escalon(w0,w,X):\n",
    "    suma = w0\n",
    "    for i in range(len(w)):\n",
    "        suma = suma + w[i]*X.iloc[i]\n",
    "    if suma > 0:\n",
    "        res = 1\n",
    "    else:\n",
    "        res = 0\n",
    "    return res\n"
   ]
  },
  {
   "cell_type": "markdown",
   "metadata": {},
   "source": [
    "## 1.- Obtención de datos y análisis exploratorio"
   ]
  },
  {
   "cell_type": "code",
   "execution_count": 3,
   "metadata": {
    "collapsed": false
   },
   "outputs": [
    {
     "data": {
      "text/html": [
       "<div>\n",
       "<table border=\"1\" class=\"dataframe\">\n",
       "  <thead>\n",
       "    <tr style=\"text-align: right;\">\n",
       "      <th></th>\n",
       "      <th>X</th>\n",
       "      <th>y</th>\n",
       "    </tr>\n",
       "  </thead>\n",
       "  <tbody>\n",
       "    <tr>\n",
       "      <th>count</th>\n",
       "      <td>1029.000000</td>\n",
       "      <td>1029.000000</td>\n",
       "    </tr>\n",
       "    <tr>\n",
       "      <th>mean</th>\n",
       "      <td>48.589544</td>\n",
       "      <td>0.325559</td>\n",
       "    </tr>\n",
       "    <tr>\n",
       "      <th>std</th>\n",
       "      <td>29.227099</td>\n",
       "      <td>0.468811</td>\n",
       "    </tr>\n",
       "    <tr>\n",
       "      <th>min</th>\n",
       "      <td>0.110611</td>\n",
       "      <td>0.000000</td>\n",
       "    </tr>\n",
       "    <tr>\n",
       "      <th>25%</th>\n",
       "      <td>22.625683</td>\n",
       "      <td>0.000000</td>\n",
       "    </tr>\n",
       "    <tr>\n",
       "      <th>50%</th>\n",
       "      <td>46.887538</td>\n",
       "      <td>0.000000</td>\n",
       "    </tr>\n",
       "    <tr>\n",
       "      <th>75%</th>\n",
       "      <td>74.247858</td>\n",
       "      <td>1.000000</td>\n",
       "    </tr>\n",
       "    <tr>\n",
       "      <th>max</th>\n",
       "      <td>99.983493</td>\n",
       "      <td>1.000000</td>\n",
       "    </tr>\n",
       "  </tbody>\n",
       "</table>\n",
       "</div>"
      ],
      "text/plain": [
       "                 X            y\n",
       "count  1029.000000  1029.000000\n",
       "mean     48.589544     0.325559\n",
       "std      29.227099     0.468811\n",
       "min       0.110611     0.000000\n",
       "25%      22.625683     0.000000\n",
       "50%      46.887538     0.000000\n",
       "75%      74.247858     1.000000\n",
       "max      99.983493     1.000000"
      ]
     },
     "execution_count": 3,
     "metadata": {},
     "output_type": "execute_result"
    }
   ],
   "source": [
    "data = pd.read_csv(\"regLin4.csv\")\n",
    "data.describe()"
   ]
  },
  {
   "cell_type": "code",
   "execution_count": 19,
   "metadata": {
    "collapsed": false
   },
   "outputs": [
    {
     "data": {
      "text/html": [
       "<div>\n",
       "<table border=\"1\" class=\"dataframe\">\n",
       "  <thead>\n",
       "    <tr style=\"text-align: right;\">\n",
       "      <th></th>\n",
       "      <th>X</th>\n",
       "      <th>y</th>\n",
       "    </tr>\n",
       "  </thead>\n",
       "  <tbody>\n",
       "    <tr>\n",
       "      <th>0</th>\n",
       "      <td>71.130300</td>\n",
       "      <td>0</td>\n",
       "    </tr>\n",
       "    <tr>\n",
       "      <th>1</th>\n",
       "      <td>36.872465</td>\n",
       "      <td>0</td>\n",
       "    </tr>\n",
       "    <tr>\n",
       "      <th>2</th>\n",
       "      <td>56.508402</td>\n",
       "      <td>0</td>\n",
       "    </tr>\n",
       "    <tr>\n",
       "      <th>3</th>\n",
       "      <td>78.120147</td>\n",
       "      <td>0</td>\n",
       "    </tr>\n",
       "    <tr>\n",
       "      <th>4</th>\n",
       "      <td>65.575073</td>\n",
       "      <td>0</td>\n",
       "    </tr>\n",
       "  </tbody>\n",
       "</table>\n",
       "</div>"
      ],
      "text/plain": [
       "           X  y\n",
       "0  71.130300  0\n",
       "1  36.872465  0\n",
       "2  56.508402  0\n",
       "3  78.120147  0\n",
       "4  65.575073  0"
      ]
     },
     "execution_count": 19,
     "metadata": {},
     "output_type": "execute_result"
    }
   ],
   "source": [
    "data.head()"
   ]
  },
  {
   "cell_type": "markdown",
   "metadata": {},
   "source": [
    "## 2.- Preprocesamiento y separación de los datos"
   ]
  },
  {
   "cell_type": "code",
   "execution_count": 5,
   "metadata": {
    "collapsed": false
   },
   "outputs": [
    {
     "data": {
      "image/png": "[encoded data removed]",
      "text/plain": [
       "<matplotlib.figure.Figure at 0x2122a27ae80>"
      ]
     },
     "metadata": {},
     "output_type": "display_data"
    }
   ],
   "source": [
    "## Separamos los datos en entrenamiento y prueba\n",
    "X_train, X_test, Y_train, Y_test = train_test_split(data[[\"X\"]],data[\"y\"], train_size=0.75)\n",
    "\n",
    "# Estandarizamos los datos de X, la y no importa pq sus valores están entre 0 y 1\n",
    "ScaleX = preprocessing.StandardScaler()\n",
    "ScaleX.fit(X_train)\n",
    "X_train = pd.DataFrame(data = ScaleX.transform(X_train), columns = ['X'])\n",
    "\n",
    "## Ploteamos los datos\n",
    "plt.scatter(X_train,Y_train)"
   ]
  },
  {
   "cell_type": "code",
   "execution_count": 6,
   "metadata": {
    "collapsed": false
   },
   "outputs": [],
   "source": [
    "##Iniciamos los vectores iniciales de w0 y w's'\n",
    "w0_ini = rnd.random()\n",
    "w_ini = [rnd.random()]\n",
    "\n",
    "## Entreamos los pesos sin regularización\n",
    "w0_fin, w_fin = entrena(w0_ini,w_ini,X_train,Y_train)\n",
    "\n",
    "## Obtenemos lambda\n",
    "lam= -w0_fin/w_fin[0]"
   ]
  },
  {
   "cell_type": "code",
   "execution_count": 7,
   "metadata": {
    "collapsed": false
   },
   "outputs": [
    {
     "data": {
      "text/plain": [
       "[-0.33084346746020638]"
      ]
     },
     "execution_count": 7,
     "metadata": {},
     "output_type": "execute_result"
    }
   ],
   "source": [
    "w_fin"
   ]
  },
  {
   "cell_type": "code",
   "execution_count": 8,
   "metadata": {
    "collapsed": false
   },
   "outputs": [
    {
     "data": {
      "text/plain": [
       "<matplotlib.collections.LineCollection at 0x2122a64cac8>"
      ]
     },
     "execution_count": 8,
     "metadata": {},
     "output_type": "execute_result"
    },
    {
     "data": {
      "image/png": "[encoded data removed]",
      "text/plain": [
       "<matplotlib.figure.Figure at 0x2122aba4160>"
      ]
     },
     "metadata": {},
     "output_type": "display_data"
    }
   ],
   "source": [
    "Y_Predicted = []\n",
    "\n",
    "\n",
    "for l in range(len(X_train)):\n",
    "    suma = w0_fin + w_fin[0]*X_train.iloc[l,0]\n",
    "    if suma > 0:\n",
    "        res = 1\n",
    "    else:\n",
    "        res = 0\n",
    "    Y_Predicted = Y_Predicted + [res] \n",
    "\n",
    "plt.scatter(X_train,Y_train)\n",
    "plt.scatter(X_train, Y_Predicted, color = \"red\", alpha = 0.05)\n",
    "plt.vlines([lam],-.5,1.5,color=\"black\")"
   ]
  },
  {
   "cell_type": "markdown",
   "metadata": {},
   "source": [
    "## Entrenamos un Perceptrón para calcular la función “and” de dos variables"
   ]
  },
  {
   "cell_type": "code",
   "execution_count": 9,
   "metadata": {
    "collapsed": false
   },
   "outputs": [],
   "source": [
    "p1 = pd.read_csv(\"and.csv\")\n",
    "X_train, X_test, Y_train, Y_test = train_test_split(p1[['x1','x2']],p1[['y']], train_size=0.75)\n",
    "#Si escalamos los datos\n",
    "scaleX = preprocessing.StandardScaler()\n",
    "scaleX.fit(X_train)\n",
    "X_train=scaleX.transform(X_train)\n",
    "X_test=scaleX.transform(X_test)"
   ]
  },
  {
   "cell_type": "code",
   "execution_count": 11,
   "metadata": {
    "collapsed": false
   },
   "outputs": [
    {
     "name": "stdout",
     "output_type": "stream",
     "text": [
      "[-0.43048645]\n",
      "[ 1.26413277]\n",
      "[ 1.53620806]\n"
     ]
    }
   ],
   "source": [
    "w0i = rnd.random()\n",
    "w1i = rnd.random()\n",
    "w2i = rnd.random()\n",
    "w = []\n",
    "error_w3 = 0\n",
    "y_esta3 = 0\n",
    "\n",
    "\n",
    "def entrena(x,y,w0,w1,w2,eta):\n",
    "    z = 0\n",
    "    while (z<1000):\n",
    "        z = z + 1\n",
    "        for i in range(len(x)):\n",
    "            if (w0 + w1*x[i][0]+w2*x[i][1] ) > 0:\n",
    "                y_esta3 = 1\n",
    "                error_w3 = y.values[i] - y_esta3\n",
    "            else:\n",
    "                y_esta3 = 0\n",
    "                error_w3 = y.values[i] - y_esta3\n",
    "            w0 = w0 + error_w3*eta\n",
    "            w1= w1 + error_w3*eta*x[i][0]\n",
    "            w2 = w2 + error_w3*eta*x[i][1]\n",
    "    w.append(w0)\n",
    "    w.append(w1)\n",
    "    w.append(w2)\n",
    "\n",
    "entrena(X_train,Y_train,w0i,w1i,w2i,0.8)\n",
    "\n",
    "w0a = w[0]\n",
    "w1a = w[1]\n",
    "w2a = w[2]\n",
    "error3 = []\n",
    "error = []\n",
    "y_estimada3 = []\n",
    "\n",
    "def salida(k,z,w0,w1,w2):\n",
    "    for r in range(len(k)):\n",
    "        y_estn3 = w0 + w1*k[r][0] + w2*k[r][1]\n",
    "        if y_estn3 > 0:\n",
    "            y_estn3 = 1\n",
    "        else:\n",
    "            y_estn3 = 0\n",
    "        error_a3 = z.values[r] - y_estn3\n",
    "        error.append(error_a3)\n",
    "        y_estimada3.append(y_estn3)\n",
    "\n",
    "salida(X_test,Y_test,w0a,w1a,w2a)\n",
    "\n",
    "print(w0a),\n",
    "print(w1a),\n",
    "print(w2a)"
   ]
  },
  {
   "cell_type": "code",
   "execution_count": 12,
   "metadata": {
    "collapsed": false
   },
   "outputs": [
    {
     "data": {
      "image/png": "[encoded data removed]",
      "text/plain": [
       "<matplotlib.figure.Figure at 0x2122ad45828>"
      ]
     },
     "metadata": {},
     "output_type": "display_data"
    }
   ],
   "source": [
    "plt.scatter(p1.x1,p1.x2)\n",
    "x=np.linspace(-1.5,2.5,258)\n",
    "plt.plot(x,-x*w1a/w2a-w0a/w2a,color='green')\n",
    "plt.grid()"
   ]
  },
  {
   "cell_type": "markdown",
   "metadata": {},
   "source": [
    "## Entrene un Perceptrón para calcular la función “or” de dos variables"
   ]
  },
  {
   "cell_type": "code",
   "execution_count": 13,
   "metadata": {
    "collapsed": true
   },
   "outputs": [],
   "source": [
    "p2 = pd.read_csv(\"or.csv\")\n",
    "X_train, X_test, Y_train, Y_test = train_test_split(p2[['x1','x2']],p2[['y']], train_size=0.75)\n",
    "#Si escalamos los datos\n",
    "scaleX = preprocessing.StandardScaler()\n",
    "scaleX.fit(X_train)\n",
    "X_train=scaleX.transform(X_train)\n",
    "X_test=scaleX.transform(X_test)"
   ]
  },
  {
   "cell_type": "code",
   "execution_count": 16,
   "metadata": {
    "collapsed": false
   },
   "outputs": [
    {
     "name": "stdout",
     "output_type": "stream",
     "text": [
      "[ 0.76204535]\n",
      "[ 0.98792436]\n",
      "[ 1.25338821]\n"
     ]
    }
   ],
   "source": [
    "w0i = rnd.random()\n",
    "w1i = rnd.random()\n",
    "w2i = rnd.random()\n",
    "w = []\n",
    "error_w3 = 0\n",
    "y_esta3 = 0\n",
    "\n",
    "\n",
    "def entrena(x,y,w0,w1,w2,eta):\n",
    "    z = 0\n",
    "    while (z<1000):\n",
    "        z = z + 1\n",
    "        for i in range(len(x)):\n",
    "            if (w0 + w1*x[i][0]+w2*x[i][1] ) > 0:\n",
    "                y_esta3 = 1\n",
    "                error_w3 = y.values[i] - y_esta3\n",
    "            else:\n",
    "                y_esta3 = 0\n",
    "                error_w3 = y.values[i] - y_esta3\n",
    "            w0 = w0 + error_w3*eta\n",
    "            w1= w1 + error_w3*eta*x[i][0]\n",
    "            w2 = w2 + error_w3*eta*x[i][1]\n",
    "    w.append(w0)\n",
    "    w.append(w1)\n",
    "    w.append(w2)\n",
    "\n",
    "entrena(X_train,Y_train,w0i,w1i,w2i,0.5)\n",
    "\n",
    "w0a = w[0]\n",
    "w1a = w[1]\n",
    "w2a = w[2]\n",
    "error3 = []\n",
    "y_estimada3 = []\n",
    "\n",
    "def salida(k,z,w0,w1,w2):\n",
    "    for r in range(len(k)):\n",
    "        y_estn3 = w0 + w1*k[r][0] + w2*k[r][1]\n",
    "        if y_estn3 > 0:\n",
    "            y_estn3 = 1\n",
    "        else:\n",
    "            y_estn3 = 0\n",
    "        error_a3 = z.values[r] - y_estn3\n",
    "        error.append(error_a3)\n",
    "        y_estimada3.append(y_estn3)\n",
    "\n",
    "salida(X_test,Y_test,w0a,w1a,w2a)\n",
    "\n",
    "print(w0a),\n",
    "print(w1a),\n",
    "print(w2a)"
   ]
  },
  {
   "cell_type": "code",
   "execution_count": 17,
   "metadata": {
    "collapsed": false
   },
   "outputs": [
    {
     "data": {
      "image/png": "[encoded data removed]",
      "text/plain": [
       "<matplotlib.figure.Figure at 0x2122ade2860>"
      ]
     },
     "metadata": {},
     "output_type": "display_data"
    }
   ],
   "source": [
    "plt.scatter(p2.x1,p2.x2)\n",
    "x=np.linspace(-1.5,2.5,258)\n",
    "plt.plot(x,-x*w1a/w2a-w0a/w2a,color='green')\n",
    "plt.grid()"
   ]
  }
 ],
 "metadata": {
  "kernelspec": {
   "display_name": "Python [Root]",
   "language": "python",
   "name": "Python [Root]"
  },
  "language_info": {
   "codemirror_mode": {
    "name": "ipython",
    "version": 3
   },
   "file_extension": ".py",
   "mimetype": "text/x-python",
   "name": "python",
   "nbconvert_exporter": "python",
   "pygments_lexer": "ipython3",
   "version": "3.5.2"
  }
 },
 "nbformat": 4,
 "nbformat_minor": 0
}
