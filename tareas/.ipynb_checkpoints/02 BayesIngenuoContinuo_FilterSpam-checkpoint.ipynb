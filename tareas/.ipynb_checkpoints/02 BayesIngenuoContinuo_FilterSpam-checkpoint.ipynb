{
 "cells": [
  {
   "cell_type": "markdown",
   "metadata": {},
   "source": [
    "<img src=\"images/logoitam.gif\">\n",
    "\n",
    "# Maestría en Ciencia de Datos\n",
    "## Filtro de Spam | Bayes Ingenuo Contínuo\n",
    "* Machine Learning | Tarea 02 | 25 de agosto de 2016 |\n",
    "* Alumna: Gabriela Flores Bracamontes |  Clave: 160124 |\n",
    "\n",
    "### Objetivo:\n",
    "Obtener un método de clasificación utilizando Bayes Ingenuo Contínuo que nos permita determinar si un correo es spam o no.\n",
    "\n",
    "### Descripción de los datos:\n",
    "- La base de datos de Spam del repositorio de Aprendizaje Máquina de la UCI en  la siguiente ruta:\n",
    "+ https://archive.ics.uci.edu/ml/datasets/Spambase\n",
    "\n",
    "```\n",
    "- Ánálisis de los datos\n",
    "+ Número de instancias: 4601\n",
    "+ 58 atributos:\n",
    "    * 48 continuous real [0,100] de frecuencia de palabras\n",
    "    * 6 continuous real [0,100] de frecuencia de caracteres\n",
    "    * 1 continuous real [1,...]\n",
    "    * 1 continuous integer [1,...]\n",
    "    * 1 continuous integer [1,...]\n",
    "    * 1 nominal {0,1}, 1 si es spam, 0 si no lo es.\n",
    "+ Datos faltantes en los datos.\n",
    "```\n",
    "\n",
    "### Bibliografía\n",
    "- http://radimrehurek.com/data_science_python/\n",
    "- http://machinelearningmastery.com/naive-bayes-classifier-scratch-python/"
   ]
  },
  {
   "cell_type": "markdown",
   "metadata": {},
   "source": [
    "## El proceso a seguir es\n",
    "<img src=\"images/NaivesBayesContinous.png\">"
   ]
  },
  {
   "cell_type": "code",
   "execution_count": 1,
   "metadata": {
    "collapsed": false
   },
   "outputs": [],
   "source": [
    "from sklearn.naive_bayes import GaussianNB\n",
    "from sklearn.cross_validation import train_test_split\n",
    "from sklearn.metrics import confusion_matrix\n",
    "from sklearn.metrics import roc_curve, auc\n",
    "from sklearn import preprocessing\n",
    "from sklearn.metrics import mean_squared_error\n",
    "from sklearn.metrics import classification_report\n",
    "from sklearn.metrics import accuracy_score\n",
    "from math import sqrt\n",
    "from sklearn import metrics\n",
    "\n",
    "\n",
    "import pandas as pd\n",
    "import csv\n",
    "import numpy as np\n",
    "import matplotlib.pyplot as plt\n",
    "from scipy.stats import norm\n",
    "%matplotlib inline\n",
    "#import seaborn"
   ]
  },
  {
   "cell_type": "code",
   "execution_count": 2,
   "metadata": {
    "collapsed": true
   },
   "outputs": [],
   "source": [
    "def ClasificadorBayesianoContinuo(x):\n",
    "    Spam=np.log(P_Spam)\n",
    "    sumaSpam=0.0\n",
    "    sumaNSpam=0.0\n",
    "    noSpam=np.log(P_NoSpam)\n",
    "    for i in range(len(VarSpam[0])):\n",
    "        if mediaS[i]!= 0.0 and dsS[i]>0.0:\n",
    "            sumaSpam+= np.log(norm(mediaS[i],dsS[i]).pdf(x[i]))\n",
    "\n",
    "    for i in range(len(VarSpam[1])):\n",
    "        if mediaNS[i]!= 0.0 and dsNS[i]>0.0:\n",
    "            sumaNSpam+= np.log(norm(mediaNS[i],dsNS[i]).pdf(x[i]))\n",
    "            \n",
    "    Spam+= sumaSpam\n",
    "    noSpam+= sumaNSpam\n",
    "\n",
    "    if Spam > noSpam:\n",
    "        return 1\n",
    "    else:\n",
    "        return 0\n",
    "\n",
    "def GraficarCurvaRoc(Y_test, Y_pred):\n",
    "        # Graficamos la curva ROC\n",
    "    fpr, tpr, thresholds = roc_curve(Y_test, Y_pred)\n",
    "    fig = plt.figure()\n",
    "    ax = fig.add_subplot(111)\n",
    "    plt.plot(fpr, tpr, lw=2, label='Roc Curve NaiveBayes', color='darkblue')\n",
    "    plt.axis([-0.4, 1.05, -0.05, 1.05])\n",
    "    for x in range(0,len(thresholds),100):\n",
    "        a = round(thresholds[x],2)\n",
    "        b = [fpr[x],tpr[x]]\n",
    "        ax.annotate('(%s)' % a,xy=b,size='small', color='gray')\n",
    "    plt.title(\"Roc Curve Naive Bayes\", color='darkred')\n",
    "    plt.plot([-.05, 1.5], [-.05, 1.5], '--', color=(.6, .6, .6), label='Barrera')\n",
    "    plt.xlabel('FP', color='black')\n",
    "    plt.ylabel('TP', color=\"black\")\n",
    "    plt.legend(loc=\"upper left\")\n",
    "    plt.show()\n",
    "    print('threshauc',metrics.auc(fpr, tpr))"
   ]
  },
  {
   "cell_type": "markdown",
   "metadata": {},
   "source": [
    "## 1.- Descargo la base y la importo en un DataFrame"
   ]
  },
  {
   "cell_type": "code",
   "execution_count": 3,
   "metadata": {
    "collapsed": false
   },
   "outputs": [],
   "source": [
    "df = pd.read_csv(\"02 spambase.csv\", header=None)"
   ]
  },
  {
   "cell_type": "markdown",
   "metadata": {},
   "source": [
    "## 2.- Divido mis datos en entrenamiento y de  prueba"
   ]
  },
  {
   "cell_type": "code",
   "execution_count": 4,
   "metadata": {
    "collapsed": false
   },
   "outputs": [],
   "source": [
    "X_train, X_test, Y_train, Y_test = train_test_split(df[df.columns[0:-1]], df[df.columns[-1]], train_size=0.75)"
   ]
  },
  {
   "cell_type": "markdown",
   "metadata": {
    "collapsed": true
   },
   "source": [
    "#### Probabilidad de que sea spam"
   ]
  },
  {
   "cell_type": "code",
   "execution_count": 6,
   "metadata": {
    "collapsed": false
   },
   "outputs": [
    {
     "data": {
      "text/plain": [
       "0.39594202898550723"
      ]
     },
     "execution_count": 6,
     "metadata": {},
     "output_type": "execute_result"
    }
   ],
   "source": [
    "P_Spam= float(sum(Y_train)/len(Y_train))\n",
    "P_Spam"
   ]
  },
  {
   "cell_type": "markdown",
   "metadata": {
    "collapsed": true
   },
   "source": [
    "#### Probabilidad de que no sea spam"
   ]
  },
  {
   "cell_type": "code",
   "execution_count": 7,
   "metadata": {
    "collapsed": false
   },
   "outputs": [
    {
     "data": {
      "text/plain": [
       "0.6040579710144928"
      ]
     },
     "execution_count": 7,
     "metadata": {},
     "output_type": "execute_result"
    }
   ],
   "source": [
    "P_NoSpam= 1 - P_Spam\n",
    "P_NoSpam"
   ]
  },
  {
   "cell_type": "markdown",
   "metadata": {},
   "source": [
    "#### Convierto los dataframes en arreglos"
   ]
  },
  {
   "cell_type": "code",
   "execution_count": 8,
   "metadata": {
    "collapsed": true
   },
   "outputs": [],
   "source": [
    "X_train= np.array(X_train)\n",
    "Y_train= np.array(Y_train)\n",
    "X_test=np.array(X_test)\n",
    "Y_test=np.array(Y_test)"
   ]
  },
  {
   "cell_type": "markdown",
   "metadata": {},
   "source": [
    "#### Separo los datos de la muestra en spam"
   ]
  },
  {
   "cell_type": "code",
   "execution_count": 9,
   "metadata": {
    "collapsed": false
   },
   "outputs": [],
   "source": [
    "VarSpam = np.array([X_train[i] for i in range(len(X_train)) if Y_train[i]==1])"
   ]
  },
  {
   "cell_type": "code",
   "execution_count": 10,
   "metadata": {
    "collapsed": true
   },
   "outputs": [],
   "source": [
    "VarNoSpam = np.array([X_train[i] for i in range(len(X_train)) if Y_train[i]==0])"
   ]
  },
  {
   "cell_type": "code",
   "execution_count": 11,
   "metadata": {
    "collapsed": false
   },
   "outputs": [
    {
     "data": {
      "text/plain": [
       "array([[  0.00000000e+00,   2.90000000e-01,   8.70000000e-01, ...,\n",
       "          5.02000000e+00,   1.32000000e+02,   9.79000000e+02],\n",
       "       [  0.00000000e+00,   0.00000000e+00,   0.00000000e+00, ...,\n",
       "          2.47000000e+00,   4.10000000e+01,   5.04000000e+02],\n",
       "       [  1.30000000e-01,   2.70000000e-01,   8.30000000e-01, ...,\n",
       "          2.32900000e+00,   1.50000000e+01,   2.19000000e+02],\n",
       "       ..., \n",
       "       [  0.00000000e+00,   0.00000000e+00,   0.00000000e+00, ...,\n",
       "          4.13300000e+00,   1.70000000e+01,   6.20000000e+01],\n",
       "       [  1.80000000e-01,   0.00000000e+00,   9.00000000e-02, ...,\n",
       "          4.19200000e+00,   4.80000000e+01,   5.66000000e+02],\n",
       "       [  0.00000000e+00,   0.00000000e+00,   0.00000000e+00, ...,\n",
       "          4.10000000e+00,   2.50000000e+01,   8.20000000e+01]])"
      ]
     },
     "execution_count": 11,
     "metadata": {},
     "output_type": "execute_result"
    }
   ],
   "source": [
    "VarSpam"
   ]
  },
  {
   "cell_type": "markdown",
   "metadata": {},
   "source": [
    "### Para cada variable calcular P(X|Spam)"
   ]
  },
  {
   "cell_type": "code",
   "execution_count": 12,
   "metadata": {
    "collapsed": false
   },
   "outputs": [],
   "source": [
    "mediaS=np.mean(X_train[Y_train==1],0)\n",
    "dsS=np.std (X_train[Y_train==1],0)\n",
    "mediaNS=np.mean(X_train[Y_train==0],0)\n",
    "dsNS=np.std(X_train[Y_train==0],0)"
   ]
  },
  {
   "cell_type": "markdown",
   "metadata": {},
   "source": [
    "## Detectando Spam"
   ]
  },
  {
   "cell_type": "code",
   "execution_count": 13,
   "metadata": {
    "collapsed": false
   },
   "outputs": [],
   "source": [
    "Y_pred= [ClasificadorBayesianoContinuo(x) for x in X_test]   "
   ]
  },
  {
   "cell_type": "markdown",
   "metadata": {},
   "source": [
    "## Evaluando"
   ]
  },
  {
   "cell_type": "code",
   "execution_count": 14,
   "metadata": {
    "collapsed": false
   },
   "outputs": [
    {
     "data": {
      "text/plain": [
       "0.8262380538662033"
      ]
     },
     "execution_count": 14,
     "metadata": {},
     "output_type": "execute_result"
    }
   ],
   "source": [
    "from sklearn.metrics import accuracy_score\n",
    "accuracy_score(Y_test, Y_pred)"
   ]
  },
  {
   "cell_type": "code",
   "execution_count": 15,
   "metadata": {
    "collapsed": false
   },
   "outputs": [
    {
     "data": {
      "text/plain": [
       "array([[518, 186],\n",
       "       [ 14, 433]])"
      ]
     },
     "execution_count": 15,
     "metadata": {},
     "output_type": "execute_result"
    }
   ],
   "source": [
    "confusion_matrix(Y_test, Y_pred)"
   ]
  },
  {
   "cell_type": "code",
   "execution_count": 16,
   "metadata": {
    "collapsed": false
   },
   "outputs": [
    {
     "data": {
      "image/png": "[encoded data removed]",
      "text/plain": [
       "<matplotlib.figure.Figure at 0x24bd2dc8da0>"
      ]
     },
     "metadata": {},
     "output_type": "display_data"
    },
    {
     "name": "stdout",
     "output_type": "stream",
     "text": [
      "threshauc 0.852237772015\n"
     ]
    }
   ],
   "source": [
    "GraficarCurvaRoc(Y_test, Y_pred)"
   ]
  },
  {
   "cell_type": "code",
   "execution_count": 17,
   "metadata": {
    "collapsed": false
   },
   "outputs": [
    {
     "data": {
      "text/plain": [
       "447"
      ]
     },
     "execution_count": 17,
     "metadata": {},
     "output_type": "execute_result"
    }
   ],
   "source": [
    "sum(Y_test)"
   ]
  },
  {
   "cell_type": "markdown",
   "metadata": {},
   "source": [
    "## Usando librerías predefinidas"
   ]
  },
  {
   "cell_type": "code",
   "execution_count": 18,
   "metadata": {
    "collapsed": false
   },
   "outputs": [],
   "source": [
    "gnb = GaussianNB()\n",
    "modelo=gnb.fit(X_train, Y_train)"
   ]
  },
  {
   "cell_type": "markdown",
   "metadata": {},
   "source": [
    "## Predecimos"
   ]
  },
  {
   "cell_type": "code",
   "execution_count": 19,
   "metadata": {
    "collapsed": true
   },
   "outputs": [],
   "source": [
    "Y_pred= modelo.predict(X_test)"
   ]
  },
  {
   "cell_type": "code",
   "execution_count": 20,
   "metadata": {
    "collapsed": false
   },
   "outputs": [
    {
     "data": {
      "text/plain": [
       "array([[515, 189],\n",
       "       [ 14, 433]])"
      ]
     },
     "execution_count": 20,
     "metadata": {},
     "output_type": "execute_result"
    }
   ],
   "source": [
    "confusion_matrix(Y_test, Y_pred)"
   ]
  },
  {
   "cell_type": "code",
   "execution_count": 21,
   "metadata": {
    "collapsed": false
   },
   "outputs": [
    {
     "data": {
      "text/plain": [
       "0.82363162467419637"
      ]
     },
     "execution_count": 21,
     "metadata": {},
     "output_type": "execute_result"
    }
   ],
   "source": [
    "accuracy_score(Y_test, Y_pred)"
   ]
  },
  {
   "cell_type": "code",
   "execution_count": 22,
   "metadata": {
    "collapsed": false
   },
   "outputs": [
    {
     "data": {
      "image/png": "[encoded data removed]",
      "text/plain": [
       "<matplotlib.figure.Figure at 0x24bdab64be0>"
      ]
     },
     "metadata": {},
     "output_type": "display_data"
    },
    {
     "name": "stdout",
     "output_type": "stream",
     "text": [
      "threshauc 0.850107090197\n"
     ]
    }
   ],
   "source": [
    "GraficarCurvaRoc(Y_test, Y_pred)"
   ]
  }
 ],
 "metadata": {
  "anaconda-cloud": {},
  "kernelspec": {
   "display_name": "Python [Root]",
   "language": "python",
   "name": "Python [Root]"
  },
  "language_info": {
   "codemirror_mode": {
    "name": "ipython",
    "version": 3
   },
   "file_extension": ".py",
   "mimetype": "text/x-python",
   "name": "python",
   "nbconvert_exporter": "python",
   "pygments_lexer": "ipython3",
   "version": "3.5.2"
  }
 },
 "nbformat": 4,
 "nbformat_minor": 0
}
