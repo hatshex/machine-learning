{
 "cells": [
  {
   "cell_type": "markdown",
   "metadata": {},
   "source": [
    "# Turbo Python"
   ]
  },
  {
   "cell_type": "markdown",
   "metadata": {},
   "source": [
    "#### Python es un lenguaje interpretado, puedes ejecutar linea por linea sin tener que compilar todo. Las instrucciones tienen que ir identadas para indicar que pertenecen a un bloque, en contraste con C o Java en donde esto se hace con {}"
   ]
  },
  {
   "cell_type": "code",
   "execution_count": 73,
   "metadata": {
    "collapsed": false
   },
   "outputs": [
    {
     "data": {
      "text/plain": [
       "[0, 1, 2, 3, 4, 5, 6, 7]"
      ]
     },
     "execution_count": 73,
     "metadata": {},
     "output_type": "execute_result"
    }
   ],
   "source": [
    "range(8)"
   ]
  },
  {
   "cell_type": "code",
   "execution_count": 74,
   "metadata": {
    "collapsed": false
   },
   "outputs": [
    {
     "name": "stdout",
     "output_type": "stream",
     "text": [
      "hola a\n",
      "hola b\n"
     ]
    }
   ],
   "source": [
    "for i in ['a','b']:\n",
    "    print \"hola \" + str(i)"
   ]
  },
  {
   "cell_type": "markdown",
   "metadata": {},
   "source": [
    "#### A diferencia de Java tradiciona aqui el for itera sobre un conjunto. range te da el conjunto de enteros entre 0 y 5"
   ]
  },
  {
   "cell_type": "code",
   "execution_count": 76,
   "metadata": {
    "collapsed": false
   },
   "outputs": [
    {
     "name": "stdout",
     "output_type": "stream",
     "text": [
      "hola 10\n",
      "hola 30\n",
      "hola 50\n",
      "hola 70\n",
      "hola 90\n"
     ]
    }
   ],
   "source": [
    "for i in range(10,100,20):\n",
    "    print \"hola \" + str(i)"
   ]
  },
  {
   "cell_type": "code",
   "execution_count": 77,
   "metadata": {
    "collapsed": false
   },
   "outputs": [
    {
     "name": "stdout",
     "output_type": "stream",
     "text": [
      "menor\n",
      "menor\n",
      "menor\n",
      "menor\n",
      "menor\n",
      "medio\n",
      "medio\n",
      "grande\n"
     ]
    }
   ],
   "source": [
    "bandera = False\n",
    "i=0\n",
    "while not bandera:\n",
    "    if i < 5:\n",
    "        print 'menor'\n",
    "    elif i < 7:\n",
    "        print 'medio'\n",
    "    else:\n",
    "        print 'grande'\n",
    "        bandera = True\n",
    "    i = i +1\n",
    "        "
   ]
  },
  {
   "cell_type": "markdown",
   "metadata": {},
   "source": [
    "#### Las dos estructuras de datos mas usadas son Listas y Diccionarions. Estos son diferentes listas:"
   ]
  },
  {
   "cell_type": "code",
   "execution_count": 35,
   "metadata": {
    "collapsed": false
   },
   "outputs": [],
   "source": [
    "l=[1,2,3]\n",
    "l1=['a','b','c','d']\n",
    "l2= l + l1"
   ]
  },
  {
   "cell_type": "code",
   "execution_count": 36,
   "metadata": {
    "collapsed": false
   },
   "outputs": [
    {
     "name": "stdout",
     "output_type": "stream",
     "text": [
      "[1, 2, 3]\n",
      "['a', 'b', 'c', 'd']\n",
      "[1, 2, 3, 'a', 'b', 'c', 'd']\n"
     ]
    }
   ],
   "source": [
    "print l\n",
    "print l1\n",
    "print l2"
   ]
  },
  {
   "cell_type": "code",
   "execution_count": 37,
   "metadata": {
    "collapsed": false
   },
   "outputs": [
    {
     "data": {
      "text/plain": [
       "2"
      ]
     },
     "execution_count": 37,
     "metadata": {},
     "output_type": "execute_result"
    }
   ],
   "source": [
    "l[1]"
   ]
  },
  {
   "cell_type": "code",
   "execution_count": 38,
   "metadata": {
    "collapsed": false
   },
   "outputs": [
    {
     "data": {
      "text/plain": [
       "[3, 'a', 'b', 'c']"
      ]
     },
     "execution_count": 38,
     "metadata": {},
     "output_type": "execute_result"
    }
   ],
   "source": [
    "l2[2:6]"
   ]
  },
  {
   "cell_type": "code",
   "execution_count": 39,
   "metadata": {
    "collapsed": false
   },
   "outputs": [
    {
     "data": {
      "text/plain": [
       "[3, 'a', 'b', 'c', 'd']"
      ]
     },
     "execution_count": 39,
     "metadata": {},
     "output_type": "execute_result"
    }
   ],
   "source": [
    "l2[2:]"
   ]
  },
  {
   "cell_type": "code",
   "execution_count": 40,
   "metadata": {
    "collapsed": false
   },
   "outputs": [
    {
     "name": "stdout",
     "output_type": "stream",
     "text": [
      "['a', 1, 2, 3, 'a', 'b', 'c', 'd']\n"
     ]
    }
   ],
   "source": [
    "l2=['a'] + l2\n",
    "print l2"
   ]
  },
  {
   "cell_type": "code",
   "execution_count": 41,
   "metadata": {
    "collapsed": false
   },
   "outputs": [
    {
     "name": "stdout",
     "output_type": "stream",
     "text": [
      "['a', 1, 2, 3, 'b', 'c', 'd']\n"
     ]
    }
   ],
   "source": [
    "del l2[-4]\n",
    "print l2"
   ]
  },
  {
   "cell_type": "markdown",
   "metadata": {},
   "source": [
    "#### Algo muy util son los list comprehension en donde puedo generar rapido un lista con caracteristicas complicadas. Las librerias se incluyen con un import"
   ]
  },
  {
   "cell_type": "code",
   "execution_count": 42,
   "metadata": {
    "collapsed": false
   },
   "outputs": [
    {
     "name": "stdout",
     "output_type": "stream",
     "text": [
      "['a']\n"
     ]
    }
   ],
   "source": [
    "l3=[dato for dato in l2 if dato == 'a']\n",
    "print l3"
   ]
  },
  {
   "cell_type": "code",
   "execution_count": 13,
   "metadata": {
    "collapsed": false
   },
   "outputs": [
    {
     "name": "stdout",
     "output_type": "stream",
     "text": [
      "[0.6697246631838724, 0.3820936817975402, 0.8489403202468716, 0.8179060324269298, 0.5287138366884203, 0.6167993984194668, 0.996563296497198, 0.38709282976196435, 0.31646977892842243, 0.3450218492834487]\n"
     ]
    }
   ],
   "source": [
    "from random import random, randint\n",
    "l4=[random() for i in range(10)]\n",
    "print l4"
   ]
  },
  {
   "cell_type": "code",
   "execution_count": 44,
   "metadata": {
    "collapsed": false
   },
   "outputs": [
    {
     "name": "stdout",
     "output_type": "stream",
     "text": [
      "['alto', 'alto', 'bajo', 'alto', 'bajo']\n"
     ]
    }
   ],
   "source": [
    "valores=['alto','bajo']\n",
    "l5=[valores[randint(0,1)] for i in range(5)]\n",
    "print l5"
   ]
  },
  {
   "cell_type": "code",
   "execution_count": 45,
   "metadata": {
    "collapsed": false
   },
   "outputs": [
    {
     "name": "stdout",
     "output_type": "stream",
     "text": [
      "La lista tiene esto :alto\n",
      "La lista tiene esto :alto\n",
      "La lista tiene esto :bajo\n",
      "La lista tiene esto :alto\n",
      "La lista tiene esto :bajo\n"
     ]
    }
   ],
   "source": [
    "for dato in l5:\n",
    "    print 'La lista tiene esto :' + dato"
   ]
  },
  {
   "cell_type": "code",
   "execution_count": 46,
   "metadata": {
    "collapsed": false
   },
   "outputs": [
    {
     "name": "stdout",
     "output_type": "stream",
     "text": [
      "5\n"
     ]
    }
   ],
   "source": [
    "#longitud de la lista\n",
    "print len(l5)"
   ]
  },
  {
   "cell_type": "markdown",
   "metadata": {},
   "source": [
    "#### Tambien hay tuplas. Son inmutables"
   ]
  },
  {
   "cell_type": "code",
   "execution_count": 1,
   "metadata": {
    "collapsed": false
   },
   "outputs": [],
   "source": [
    "tup=(1,5,'f')"
   ]
  },
  {
   "cell_type": "code",
   "execution_count": 2,
   "metadata": {
    "collapsed": false
   },
   "outputs": [
    {
     "data": {
      "text/plain": [
       "1"
      ]
     },
     "execution_count": 2,
     "metadata": {},
     "output_type": "execute_result"
    }
   ],
   "source": [
    "tup[0]"
   ]
  },
  {
   "cell_type": "code",
   "execution_count": 3,
   "metadata": {
    "collapsed": false
   },
   "outputs": [
    {
     "ename": "TypeError",
     "evalue": "'tuple' object does not support item assignment",
     "output_type": "error",
     "traceback": [
      "\u001b[0;31m---------------------------------------------------------------------------\u001b[0m\n\u001b[0;31mTypeError\u001b[0m                                 Traceback (most recent call last)",
      "\u001b[0;32m<ipython-input-3-b50d9cfa34e6>\u001b[0m in \u001b[0;36m<module>\u001b[0;34m()\u001b[0m\n\u001b[0;32m----> 1\u001b[0;31m \u001b[0mtup\u001b[0m\u001b[0;34m[\u001b[0m\u001b[0;36m0\u001b[0m\u001b[0;34m]\u001b[0m\u001b[0;34m=\u001b[0m\u001b[0;36m2\u001b[0m\u001b[0;34m\u001b[0m\u001b[0m\n\u001b[0m",
      "\u001b[0;31mTypeError\u001b[0m: 'tuple' object does not support item assignment"
     ]
    }
   ],
   "source": [
    "tup[0]=2"
   ]
  },
  {
   "cell_type": "markdown",
   "metadata": {},
   "source": [
    "#### Un diccionario es como un arreglo que accedes por contenido, como una tabla de Hash"
   ]
  },
  {
   "cell_type": "code",
   "execution_count": 47,
   "metadata": {
    "collapsed": false
   },
   "outputs": [],
   "source": [
    "d={} # diccionario vacio\n",
    "d['fer']='fernando.esponda@itam.mx'\n",
    "d['vic']='victor@hotmail.com'"
   ]
  },
  {
   "cell_type": "code",
   "execution_count": 48,
   "metadata": {
    "collapsed": false
   },
   "outputs": [
    {
     "data": {
      "text/plain": [
       "'fernando.esponda@itam.mx'"
      ]
     },
     "execution_count": 48,
     "metadata": {},
     "output_type": "execute_result"
    }
   ],
   "source": [
    "d['fer']"
   ]
  },
  {
   "cell_type": "code",
   "execution_count": 82,
   "metadata": {
    "collapsed": false
   },
   "outputs": [],
   "source": [
    "d2=dict([('bajo',0),('alto',1)])"
   ]
  },
  {
   "cell_type": "code",
   "execution_count": 83,
   "metadata": {
    "collapsed": false
   },
   "outputs": [
    {
     "name": "stdout",
     "output_type": "stream",
     "text": [
      "['alto', 'bajo']\n",
      "[1, 0]\n"
     ]
    }
   ],
   "source": [
    "print d2.keys()\n",
    "print d2.values()"
   ]
  },
  {
   "cell_type": "code",
   "execution_count": 80,
   "metadata": {
    "collapsed": false
   },
   "outputs": [
    {
     "name": "stdout",
     "output_type": "stream",
     "text": [
      "el diccionario se indexa por esto: alto\n",
      "el diccionario se indexa por esto: bajo\n"
     ]
    }
   ],
   "source": [
    "for i in d2.keys():\n",
    "    print 'el diccionario se indexa por esto: ' + i"
   ]
  },
  {
   "cell_type": "code",
   "execution_count": 84,
   "metadata": {
    "collapsed": false
   },
   "outputs": [
    {
     "name": "stdout",
     "output_type": "stream",
     "text": [
      "['alto', 'alto', 'bajo', 'alto', 'bajo']\n",
      "[1, 1, 0, 1, 0]\n"
     ]
    }
   ],
   "source": [
    "print l5\n",
    "l6=[d2[val] for val in l5]\n",
    "print l6"
   ]
  },
  {
   "cell_type": "markdown",
   "metadata": {},
   "source": [
    "#### Las funciones en python pueden regresar varios valores"
   ]
  },
  {
   "cell_type": "code",
   "execution_count": 53,
   "metadata": {
    "collapsed": false
   },
   "outputs": [],
   "source": [
    "def suma(n1,n2):\n",
    "    return n1+ n2"
   ]
  },
  {
   "cell_type": "code",
   "execution_count": 54,
   "metadata": {
    "collapsed": false
   },
   "outputs": [
    {
     "name": "stdout",
     "output_type": "stream",
     "text": [
      "11\n"
     ]
    }
   ],
   "source": [
    "print suma(5,6)"
   ]
  },
  {
   "cell_type": "code",
   "execution_count": 85,
   "metadata": {
    "collapsed": false
   },
   "outputs": [],
   "source": [
    "def suma(n1,n2):\n",
    "    return 'se los dije', n1+ n2"
   ]
  },
  {
   "cell_type": "code",
   "execution_count": 86,
   "metadata": {
    "collapsed": false
   },
   "outputs": [
    {
     "name": "stdout",
     "output_type": "stream",
     "text": [
      "('se los dije', 11)\n"
     ]
    }
   ],
   "source": [
    "print suma(5,6)"
   ]
  },
  {
   "cell_type": "markdown",
   "metadata": {},
   "source": [
    "#### pueden tomar valores por default"
   ]
  },
  {
   "cell_type": "code",
   "execution_count": 88,
   "metadata": {
    "collapsed": false
   },
   "outputs": [],
   "source": [
    "def suma(n1,n2=0):\n",
    "    return 'se los dije', n1+ n2"
   ]
  },
  {
   "cell_type": "code",
   "execution_count": 91,
   "metadata": {
    "collapsed": false
   },
   "outputs": [
    {
     "name": "stdout",
     "output_type": "stream",
     "text": [
      "('se los dije', 5)\n",
      "se los dije\n"
     ]
    }
   ],
   "source": [
    "print suma(5)\n",
    "msg,num=suma(5)\n",
    "print msg"
   ]
  },
  {
   "cell_type": "markdown",
   "metadata": {},
   "source": [
    "#### Ejercicio: Genere una lista de numero aleatorios entre 0 y 100. Haga otra lista del mismo tamaño en donde categorice los valores de la primera como bajo, medio o alto"
   ]
  },
  {
   "cell_type": "markdown",
   "metadata": {},
   "source": [
    "#### Ejercicio: Haga una lista de parejas de valores. EL primer valor debe variar entre 0 y 4 y el segundo entre 'a' y 'd' "
   ]
  },
  {
   "cell_type": "markdown",
   "metadata": {},
   "source": [
    "#### Ejercicio: haga una funcion que dada una lista, regrese la lista invertida"
   ]
  },
  {
   "cell_type": "code",
   "execution_count": 19,
   "metadata": {
    "collapsed": false
   },
   "outputs": [],
   "source": [
    "aleatorios=[randint(0,100) for i in range(10)]\n",
    "categorias=[]\n",
    "for elem in aleatorios:\n",
    "    if elem < 30:\n",
    "        categorias.append(['bajo'])\n",
    "    elif elem <60:\n",
    "         categorias.append(['medio'])\n",
    "    else:\n",
    "         categorias.append(['alto'])"
   ]
  },
  {
   "cell_type": "code",
   "execution_count": 9,
   "metadata": {
    "collapsed": false
   },
   "outputs": [],
   "source": [
    "mapeoVal={0:'a',1:'b',2:'c',3:'d'}\n",
    "parejas=[[a,mapeoVal[b]] for a in range(5) for b in range(4)]"
   ]
  },
  {
   "cell_type": "code",
   "execution_count": 59,
   "metadata": {
    "collapsed": false
   },
   "outputs": [],
   "source": [
    "def invierte(l):\n",
    "    if l == []:\n",
    "        return []\n",
    "    else:\n",
    "        return invierte(l[1:]) + [l[0]] "
   ]
  },
  {
   "cell_type": "code",
   "execution_count": 60,
   "metadata": {
    "collapsed": false
   },
   "outputs": [
    {
     "name": "stdout",
     "output_type": "stream",
     "text": [
      "[5, 4, 3, 2, 1]\n"
     ]
    }
   ],
   "source": [
    "print invierte([1,2,3,4,5])\n",
    "\n"
   ]
  },
  {
   "cell_type": "markdown",
   "metadata": {},
   "source": [
    "#### Convierta dos listas de la misma longitud en un diccionario en donde una tiene las llaves y otra los valores"
   ]
  },
  {
   "cell_type": "code",
   "execution_count": 61,
   "metadata": {
    "collapsed": false
   },
   "outputs": [],
   "source": [
    "A1=[3,75,40,-4,]\n",
    "A2=['perro','gato','caballo','humano']"
   ]
  },
  {
   "cell_type": "code",
   "execution_count": 62,
   "metadata": {
    "collapsed": false
   },
   "outputs": [
    {
     "data": {
      "text/plain": [
       "[('perro', 3), ('gato', 75), ('caballo', 40), ('humano', -4)]"
      ]
     },
     "execution_count": 62,
     "metadata": {},
     "output_type": "execute_result"
    }
   ],
   "source": [
    "A3=[(A2[i],A1[i]) for i in range(len(A1)) ]\n",
    "A3"
   ]
  },
  {
   "cell_type": "code",
   "execution_count": 69,
   "metadata": {
    "collapsed": false
   },
   "outputs": [],
   "source": [
    "d2=dict(A3)"
   ]
  },
  {
   "cell_type": "markdown",
   "metadata": {},
   "source": [
    "#### Mas fácil"
   ]
  },
  {
   "cell_type": "code",
   "execution_count": 72,
   "metadata": {
    "collapsed": false
   },
   "outputs": [
    {
     "data": {
      "text/plain": [
       "{'caballo': 40, 'gato': 75, 'humano': -4, 'perro': 3}"
      ]
     },
     "execution_count": 72,
     "metadata": {},
     "output_type": "execute_result"
    }
   ],
   "source": [
    "d2=dict(zip(A2,A1))\n",
    "d2"
   ]
  },
  {
   "cell_type": "markdown",
   "metadata": {},
   "source": [
    "## Sklearn"
   ]
  },
  {
   "cell_type": "markdown",
   "metadata": {},
   "source": [
    "#### Vamos a usar, mayoritariamente Sklearn para el modelaje. Busquen siempre en el manual en linea. A continuación alguna funciones útiles (no todas de sklearn)"
   ]
  },
  {
   "cell_type": "code",
   "execution_count": 63,
   "metadata": {
    "collapsed": false
   },
   "outputs": [],
   "source": [
    "from sklearn.cross_validation import train_test_split\n",
    "import matplotlib.pyplot as plt\n",
    "import numpy as np\n",
    "%matplotlib inline"
   ]
  },
  {
   "cell_type": "code",
   "execution_count": 64,
   "metadata": {
    "collapsed": false
   },
   "outputs": [],
   "source": [
    "x = np.linspace(10,100,100) # 100 numeros espaciados\n",
    "y=[(i+ randint(-10,10))**2 for i in x]"
   ]
  },
  {
   "cell_type": "code",
   "execution_count": 65,
   "metadata": {
    "collapsed": false
   },
   "outputs": [],
   "source": [
    " X_train, X_test, Y_train, Y_test = train_test_split(x,y, train_size=0.75)"
   ]
  },
  {
   "cell_type": "code",
   "execution_count": 66,
   "metadata": {
    "collapsed": false
   },
   "outputs": [
    {
     "data": {
      "text/plain": [
       "[<matplotlib.lines.Line2D at 0x108402390>]"
      ]
     },
     "execution_count": 66,
     "metadata": {},
     "output_type": "execute_result"
    },
    {
     "data": {
      "image/png": "[encoded data removed]",
      "text/plain": [
       "<matplotlib.figure.Figure at 0x108402410>"
      ]
     },
     "metadata": {},
     "output_type": "display_data"
    }
   ],
   "source": [
    "plt.scatter(X_train,Y_train)\n",
    "plt.plot(x,x**2,color='red')"
   ]
  },
  {
   "cell_type": "code",
   "execution_count": 67,
   "metadata": {
    "collapsed": false
   },
   "outputs": [
    {
     "data": {
      "text/plain": [
       "[<matplotlib.lines.Line2D at 0x108446a10>]"
      ]
     },
     "execution_count": 67,
     "metadata": {},
     "output_type": "execute_result"
    },
    {
     "data": {
      "image/png": "[encoded data removed]",
      "text/plain": [
       "<matplotlib.figure.Figure at 0x108446790>"
      ]
     },
     "metadata": {},
     "output_type": "display_data"
    }
   ],
   "source": [
    "plt.scatter(X_test,Y_test)\n",
    "plt.plot(x,x**2,color='red')"
   ]
  },
  {
   "cell_type": "markdown",
   "metadata": {},
   "source": [
    "### Pandas"
   ]
  },
  {
   "cell_type": "markdown",
   "metadata": {},
   "source": [
    "#### Es un paquete para la manipulacion de datos estilo R. Te permite  hacer operaciones tipo base de datos, transformaciones etc."
   ]
  },
  {
   "cell_type": "code",
   "execution_count": 2,
   "metadata": {
    "collapsed": false
   },
   "outputs": [],
   "source": [
    "import pandas as pd\n",
    "df = pd.read_csv(\"/Users/fernando/ITAM/Clases Itam/MachineLearning/Ejercicio/Regresion/regLin.csv\")"
   ]
  },
  {
   "cell_type": "code",
   "execution_count": 4,
   "metadata": {
    "collapsed": false
   },
   "outputs": [
    {
     "data": {
      "text/html": [
       "<div style=\"max-height:1000px;max-width:1500px;overflow:auto;\">\n",
       "<table border=\"1\" class=\"dataframe\">\n",
       "  <thead>\n",
       "    <tr style=\"text-align: right;\">\n",
       "      <th></th>\n",
       "      <th>X</th>\n",
       "      <th>y</th>\n",
       "    </tr>\n",
       "  </thead>\n",
       "  <tbody>\n",
       "    <tr>\n",
       "      <th>0 </th>\n",
       "      <td> 35.657897</td>\n",
       "      <td> 28.074403</td>\n",
       "    </tr>\n",
       "    <tr>\n",
       "      <th>1 </th>\n",
       "      <td> 48.685931</td>\n",
       "      <td> 36.674434</td>\n",
       "    </tr>\n",
       "    <tr>\n",
       "      <th>2 </th>\n",
       "      <td> 95.861773</td>\n",
       "      <td> 67.903577</td>\n",
       "    </tr>\n",
       "    <tr>\n",
       "      <th>3 </th>\n",
       "      <td> 25.997253</td>\n",
       "      <td> 11.931727</td>\n",
       "    </tr>\n",
       "    <tr>\n",
       "      <th>4 </th>\n",
       "      <td> 49.964772</td>\n",
       "      <td> 30.286144</td>\n",
       "    </tr>\n",
       "    <tr>\n",
       "      <th>5 </th>\n",
       "      <td> 55.003337</td>\n",
       "      <td> 44.274354</td>\n",
       "    </tr>\n",
       "    <tr>\n",
       "      <th>6 </th>\n",
       "      <td> 78.375881</td>\n",
       "      <td> 49.032737</td>\n",
       "    </tr>\n",
       "    <tr>\n",
       "      <th>7 </th>\n",
       "      <td> 15.286028</td>\n",
       "      <td> 13.862727</td>\n",
       "    </tr>\n",
       "    <tr>\n",
       "      <th>8 </th>\n",
       "      <td> 81.066092</td>\n",
       "      <td> 55.742546</td>\n",
       "    </tr>\n",
       "    <tr>\n",
       "      <th>9 </th>\n",
       "      <td> 35.059204</td>\n",
       "      <td> 30.345383</td>\n",
       "    </tr>\n",
       "    <tr>\n",
       "      <th>10</th>\n",
       "      <td> 10.627199</td>\n",
       "      <td>  8.284464</td>\n",
       "    </tr>\n",
       "    <tr>\n",
       "      <th>11</th>\n",
       "      <td> 67.484259</td>\n",
       "      <td> 36.490228</td>\n",
       "    </tr>\n",
       "    <tr>\n",
       "      <th>12</th>\n",
       "      <td> 66.230640</td>\n",
       "      <td> 46.133427</td>\n",
       "    </tr>\n",
       "    <tr>\n",
       "      <th>13</th>\n",
       "      <td> 57.957191</td>\n",
       "      <td> 41.872495</td>\n",
       "    </tr>\n",
       "    <tr>\n",
       "      <th>14</th>\n",
       "      <td> 95.185536</td>\n",
       "      <td> 66.043335</td>\n",
       "    </tr>\n",
       "    <tr>\n",
       "      <th>15</th>\n",
       "      <td> 77.219095</td>\n",
       "      <td> 52.730262</td>\n",
       "    </tr>\n",
       "    <tr>\n",
       "      <th>16</th>\n",
       "      <td> 92.859492</td>\n",
       "      <td> 54.155329</td>\n",
       "    </tr>\n",
       "    <tr>\n",
       "      <th>17</th>\n",
       "      <td> 67.223617</td>\n",
       "      <td> 41.865928</td>\n",
       "    </tr>\n",
       "    <tr>\n",
       "      <th>18</th>\n",
       "      <td> 56.746339</td>\n",
       "      <td> 36.157093</td>\n",
       "    </tr>\n",
       "    <tr>\n",
       "      <th>19</th>\n",
       "      <td> 34.735291</td>\n",
       "      <td> 30.568120</td>\n",
       "    </tr>\n",
       "    <tr>\n",
       "      <th>20</th>\n",
       "      <td> 97.317591</td>\n",
       "      <td> 64.330964</td>\n",
       "    </tr>\n",
       "    <tr>\n",
       "      <th>21</th>\n",
       "      <td> 38.591213</td>\n",
       "      <td> 19.841434</td>\n",
       "    </tr>\n",
       "    <tr>\n",
       "      <th>22</th>\n",
       "      <td> 51.608742</td>\n",
       "      <td> 35.630454</td>\n",
       "    </tr>\n",
       "    <tr>\n",
       "      <th>23</th>\n",
       "      <td> 59.781250</td>\n",
       "      <td> 37.527034</td>\n",
       "    </tr>\n",
       "    <tr>\n",
       "      <th>24</th>\n",
       "      <td> 67.810553</td>\n",
       "      <td> 43.936642</td>\n",
       "    </tr>\n",
       "    <tr>\n",
       "      <th>25</th>\n",
       "      <td> 12.199013</td>\n",
       "      <td> 13.374210</td>\n",
       "    </tr>\n",
       "    <tr>\n",
       "      <th>26</th>\n",
       "      <td> 25.041432</td>\n",
       "      <td> 18.876313</td>\n",
       "    </tr>\n",
       "    <tr>\n",
       "      <th>27</th>\n",
       "      <td> 27.765660</td>\n",
       "      <td> 14.286040</td>\n",
       "    </tr>\n",
       "    <tr>\n",
       "      <th>28</th>\n",
       "      <td> 68.489203</td>\n",
       "      <td> 44.008360</td>\n",
       "    </tr>\n",
       "    <tr>\n",
       "      <th>29</th>\n",
       "      <td> 15.216642</td>\n",
       "      <td> 17.682210</td>\n",
       "    </tr>\n",
       "    <tr>\n",
       "      <th>30</th>\n",
       "      <td> 71.993875</td>\n",
       "      <td> 46.379097</td>\n",
       "    </tr>\n",
       "    <tr>\n",
       "      <th>31</th>\n",
       "      <td>  3.708954</td>\n",
       "      <td>  0.254214</td>\n",
       "    </tr>\n",
       "    <tr>\n",
       "      <th>32</th>\n",
       "      <td> 92.639294</td>\n",
       "      <td> 56.109347</td>\n",
       "    </tr>\n",
       "    <tr>\n",
       "      <th>33</th>\n",
       "      <td> 98.637530</td>\n",
       "      <td> 64.572084</td>\n",
       "    </tr>\n",
       "    <tr>\n",
       "      <th>34</th>\n",
       "      <td> 49.001012</td>\n",
       "      <td> 28.643515</td>\n",
       "    </tr>\n",
       "    <tr>\n",
       "      <th>35</th>\n",
       "      <td> 76.132433</td>\n",
       "      <td> 47.794398</td>\n",
       "    </tr>\n",
       "    <tr>\n",
       "      <th>36</th>\n",
       "      <td> 27.712084</td>\n",
       "      <td> 21.571368</td>\n",
       "    </tr>\n",
       "    <tr>\n",
       "      <th>37</th>\n",
       "      <td> 43.026235</td>\n",
       "      <td> 18.674005</td>\n",
       "    </tr>\n",
       "    <tr>\n",
       "      <th>38</th>\n",
       "      <td> 76.370930</td>\n",
       "      <td> 50.154218</td>\n",
       "    </tr>\n",
       "    <tr>\n",
       "      <th>39</th>\n",
       "      <td> 39.753243</td>\n",
       "      <td> 25.648452</td>\n",
       "    </tr>\n",
       "    <tr>\n",
       "      <th>40</th>\n",
       "      <td> 60.303529</td>\n",
       "      <td> 39.563219</td>\n",
       "    </tr>\n",
       "    <tr>\n",
       "      <th>41</th>\n",
       "      <td> 50.647232</td>\n",
       "      <td> 21.441544</td>\n",
       "    </tr>\n",
       "    <tr>\n",
       "      <th>42</th>\n",
       "      <td>  7.958982</td>\n",
       "      <td> 10.095958</td>\n",
       "    </tr>\n",
       "    <tr>\n",
       "      <th>43</th>\n",
       "      <td> 67.209927</td>\n",
       "      <td> 43.628279</td>\n",
       "    </tr>\n",
       "    <tr>\n",
       "      <th>44</th>\n",
       "      <td> 88.561470</td>\n",
       "      <td> 60.233332</td>\n",
       "    </tr>\n",
       "    <tr>\n",
       "      <th>45</th>\n",
       "      <td> 16.004130</td>\n",
       "      <td> 16.527563</td>\n",
       "    </tr>\n",
       "    <tr>\n",
       "      <th>46</th>\n",
       "      <td> 20.609275</td>\n",
       "      <td>  9.738903</td>\n",
       "    </tr>\n",
       "    <tr>\n",
       "      <th>47</th>\n",
       "      <td> 25.663470</td>\n",
       "      <td> 14.491361</td>\n",
       "    </tr>\n",
       "    <tr>\n",
       "      <th>48</th>\n",
       "      <td>  7.940046</td>\n",
       "      <td>  7.734080</td>\n",
       "    </tr>\n",
       "    <tr>\n",
       "      <th>49</th>\n",
       "      <td>  3.882622</td>\n",
       "      <td>  8.442508</td>\n",
       "    </tr>\n",
       "    <tr>\n",
       "      <th>50</th>\n",
       "      <td>  6.912645</td>\n",
       "      <td> 15.640487</td>\n",
       "    </tr>\n",
       "    <tr>\n",
       "      <th>51</th>\n",
       "      <td> 42.923809</td>\n",
       "      <td> 26.227256</td>\n",
       "    </tr>\n",
       "    <tr>\n",
       "      <th>52</th>\n",
       "      <td> 70.715634</td>\n",
       "      <td> 46.934925</td>\n",
       "    </tr>\n",
       "    <tr>\n",
       "      <th>53</th>\n",
       "      <td>  9.452782</td>\n",
       "      <td>  7.210896</td>\n",
       "    </tr>\n",
       "    <tr>\n",
       "      <th>54</th>\n",
       "      <td> 89.939931</td>\n",
       "      <td> 53.352071</td>\n",
       "    </tr>\n",
       "    <tr>\n",
       "      <th>55</th>\n",
       "      <td> 75.276309</td>\n",
       "      <td> 51.199250</td>\n",
       "    </tr>\n",
       "    <tr>\n",
       "      <th>56</th>\n",
       "      <td>  8.521614</td>\n",
       "      <td> 13.370608</td>\n",
       "    </tr>\n",
       "    <tr>\n",
       "      <th>57</th>\n",
       "      <td> 86.811425</td>\n",
       "      <td> 53.314098</td>\n",
       "    </tr>\n",
       "    <tr>\n",
       "      <th>58</th>\n",
       "      <td> 35.196342</td>\n",
       "      <td> 28.142144</td>\n",
       "    </tr>\n",
       "    <tr>\n",
       "      <th>59</th>\n",
       "      <td> 68.059675</td>\n",
       "      <td> 40.216983</td>\n",
       "    </tr>\n",
       "    <tr>\n",
       "      <th></th>\n",
       "      <td>...</td>\n",
       "      <td>...</td>\n",
       "    </tr>\n",
       "  </tbody>\n",
       "</table>\n",
       "<p>1029 rows × 2 columns</p>\n",
       "</div>"
      ],
      "text/plain": [
       "            X          y\n",
       "0   35.657897  28.074403\n",
       "1   48.685931  36.674434\n",
       "2   95.861773  67.903577\n",
       "3   25.997253  11.931727\n",
       "4   49.964772  30.286144\n",
       "5   55.003337  44.274354\n",
       "6   78.375881  49.032737\n",
       "7   15.286028  13.862727\n",
       "8   81.066092  55.742546\n",
       "9   35.059204  30.345383\n",
       "10  10.627199   8.284464\n",
       "11  67.484259  36.490228\n",
       "12  66.230640  46.133427\n",
       "13  57.957191  41.872495\n",
       "14  95.185536  66.043335\n",
       "15  77.219095  52.730262\n",
       "16  92.859492  54.155329\n",
       "17  67.223617  41.865928\n",
       "18  56.746339  36.157093\n",
       "19  34.735291  30.568120\n",
       "20  97.317591  64.330964\n",
       "21  38.591213  19.841434\n",
       "22  51.608742  35.630454\n",
       "23  59.781250  37.527034\n",
       "24  67.810553  43.936642\n",
       "25  12.199013  13.374210\n",
       "26  25.041432  18.876313\n",
       "27  27.765660  14.286040\n",
       "28  68.489203  44.008360\n",
       "29  15.216642  17.682210\n",
       "30  71.993875  46.379097\n",
       "31   3.708954   0.254214\n",
       "32  92.639294  56.109347\n",
       "33  98.637530  64.572084\n",
       "34  49.001012  28.643515\n",
       "35  76.132433  47.794398\n",
       "36  27.712084  21.571368\n",
       "37  43.026235  18.674005\n",
       "38  76.370930  50.154218\n",
       "39  39.753243  25.648452\n",
       "40  60.303529  39.563219\n",
       "41  50.647232  21.441544\n",
       "42   7.958982  10.095958\n",
       "43  67.209927  43.628279\n",
       "44  88.561470  60.233332\n",
       "45  16.004130  16.527563\n",
       "46  20.609275   9.738903\n",
       "47  25.663470  14.491361\n",
       "48   7.940046   7.734080\n",
       "49   3.882622   8.442508\n",
       "50   6.912645  15.640487\n",
       "51  42.923809  26.227256\n",
       "52  70.715634  46.934925\n",
       "53   9.452782   7.210896\n",
       "54  89.939931  53.352071\n",
       "55  75.276309  51.199250\n",
       "56   8.521614  13.370608\n",
       "57  86.811425  53.314098\n",
       "58  35.196342  28.142144\n",
       "59  68.059675  40.216983\n",
       "          ...        ...\n",
       "\n",
       "[1029 rows x 2 columns]"
      ]
     },
     "execution_count": 4,
     "metadata": {},
     "output_type": "execute_result"
    }
   ],
   "source": [
    "df"
   ]
  },
  {
   "cell_type": "code",
   "execution_count": 7,
   "metadata": {
    "collapsed": false
   },
   "outputs": [
    {
     "data": {
      "text/plain": [
       "0    35.657897\n",
       "1    48.685931\n",
       "2    95.861773\n",
       "3    25.997253\n",
       "4    49.964772\n",
       "5    55.003337\n",
       "6    78.375881\n",
       "7    15.286028\n",
       "8    81.066092\n",
       "9    35.059204\n",
       "Name: X, dtype: float64"
      ]
     },
     "execution_count": 7,
     "metadata": {},
     "output_type": "execute_result"
    }
   ],
   "source": [
    "df['X'][0:10]"
   ]
  },
  {
   "cell_type": "code",
   "execution_count": 8,
   "metadata": {
    "collapsed": false
   },
   "outputs": [
    {
     "data": {
      "text/plain": [
       "Index([u'X', u'y'], dtype='object')"
      ]
     },
     "execution_count": 8,
     "metadata": {},
     "output_type": "execute_result"
    }
   ],
   "source": [
    "df.columns"
   ]
  },
  {
   "cell_type": "code",
   "execution_count": 9,
   "metadata": {
    "collapsed": false
   },
   "outputs": [
    {
     "data": {
      "text/plain": [
       "'y'"
      ]
     },
     "execution_count": 9,
     "metadata": {},
     "output_type": "execute_result"
    }
   ],
   "source": [
    "df.columns[-1]"
   ]
  },
  {
   "cell_type": "code",
   "execution_count": 11,
   "metadata": {
    "collapsed": false
   },
   "outputs": [
    {
     "data": {
      "text/plain": [
       "0    28.074403\n",
       "1    36.674434\n",
       "2    67.903577\n",
       "3    11.931727\n",
       "4    30.286144\n",
       "5    44.274354\n",
       "6    49.032737\n",
       "7    13.862727\n",
       "8    55.742546\n",
       "9    30.345383\n",
       "Name: y, dtype: float64"
      ]
     },
     "execution_count": 11,
     "metadata": {},
     "output_type": "execute_result"
    }
   ],
   "source": [
    "df[df.columns[-1]][0:10]"
   ]
  },
  {
   "cell_type": "code",
   "execution_count": null,
   "metadata": {
    "collapsed": false
   },
   "outputs": [],
   "source": []
  }
 ],
 "metadata": {},
 "nbformat": 4,
 "nbformat_minor": 0
}
