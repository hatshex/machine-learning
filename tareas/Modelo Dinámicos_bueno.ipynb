{
 "cells": [
  {
   "cell_type": "markdown",
   "metadata": {},
   "source": [
    "# Modelos Dinámicos Bueno (Clase 08/09/2016)"
   ]
  },
  {
   "cell_type": "markdown",
   "metadata": {},
   "source": [
    "Mónica Patricia Ballesteros Chávez"
   ]
  },
  {
   "cell_type": "code",
   "execution_count": 4,
   "metadata": {
    "collapsed": true
   },
   "outputs": [],
   "source": [
    "import pandas as pd\n",
    "import matplotlib.pyplot as plt\n",
    "%matplotlib inline\n",
    "from sklearn import preprocessing\n",
    "from sklearn.cross_validation import train_test_split"
   ]
  },
  {
   "cell_type": "markdown",
   "metadata": {},
   "source": [
    "# Lectura y Gráfica de datos"
   ]
  },
  {
   "cell_type": "code",
   "execution_count": 5,
   "metadata": {
    "collapsed": false
   },
   "outputs": [],
   "source": [
    "df=pd.read_csv(\"regLin.csv\")"
   ]
  },
  {
   "cell_type": "code",
   "execution_count": 6,
   "metadata": {
    "collapsed": false
   },
   "outputs": [
    {
     "data": {
      "text/html": [
       "<div>\n",
       "<table border=\"1\" class=\"dataframe\">\n",
       "  <thead>\n",
       "    <tr style=\"text-align: right;\">\n",
       "      <th></th>\n",
       "      <th>X</th>\n",
       "      <th>y</th>\n",
       "    </tr>\n",
       "  </thead>\n",
       "  <tbody>\n",
       "    <tr>\n",
       "      <th>0</th>\n",
       "      <td>35.657897</td>\n",
       "      <td>28.074403</td>\n",
       "    </tr>\n",
       "    <tr>\n",
       "      <th>1</th>\n",
       "      <td>48.685931</td>\n",
       "      <td>36.674434</td>\n",
       "    </tr>\n",
       "  </tbody>\n",
       "</table>\n",
       "</div>"
      ],
      "text/plain": [
       "           X          y\n",
       "0  35.657897  28.074403\n",
       "1  48.685931  36.674434"
      ]
     },
     "execution_count": 6,
     "metadata": {},
     "output_type": "execute_result"
    }
   ],
   "source": [
    "df.head(2)"
   ]
  },
  {
   "cell_type": "code",
   "execution_count": 7,
   "metadata": {
    "collapsed": false
   },
   "outputs": [],
   "source": [
    "X_train, X_test, Y_train, Y_test = train_test_split(df[df.columns[0:-1]],df[df.columns[-1]], test_size = 0.25)"
   ]
  },
  {
   "cell_type": "code",
   "execution_count": 8,
   "metadata": {
    "collapsed": false
   },
   "outputs": [
    {
     "data": {
      "text/plain": [
       "<matplotlib.collections.PathCollection at 0x7fb110bebd90>"
      ]
     },
     "execution_count": 8,
     "metadata": {},
     "output_type": "execute_result"
    },
    {
     "name": "stderr",
     "output_type": "stream",
     "text": [
      "/opt/conda/envs/python2/lib/python2.7/site-packages/matplotlib/collections.py:590: FutureWarning: elementwise comparison failed; returning scalar instead, but in the future will perform elementwise comparison\n",
      "  if self._edgecolors == str('face'):\n"
     ]
    },
    {
     "data": {
      "image/png": "[encoded data removed]",
      "text/plain": [
       "<matplotlib.figure.Figure at 0x7fb1135894d0>"
      ]
     },
     "metadata": {},
     "output_type": "display_data"
    }
   ],
   "source": [
    "plt.scatter(X_train,Y_train)"
   ]
  },
  {
   "cell_type": "markdown",
   "metadata": {},
   "source": [
    "# Algoritmo LMS least mean squares regla Widrow-Hoff\n",
    "\n",
    "La primera función actualiza los pesos con la siguiente fórmula:\n",
    "wi <---wi + n(y-V^(X)) xi\n",
    "Donde n es una constante pequeña menor a 1. Se actualizan los pesos con cada lectura los datos.\n",
    "La función regresa los últimos valores de los coeficientes.\n",
    "\n",
    "La segunda función calcula el error cuadrático medio, dado los coeficientes finales de la función 1"
   ]
  },
  {
   "cell_type": "code",
   "execution_count": 9,
   "metadata": {
    "collapsed": false
   },
   "outputs": [],
   "source": [
    "def algoritmo(X_train,Y_train,eta):\n",
    "    w0=[1]\n",
    "    w=[1]\n",
    "    e=[0]\n",
    "    for i in range(len(X_train)):\n",
    "        y_pred=w0[i]*X_train.iloc[i,0]+w[i]*X_train.iloc[i,1]\n",
    "        error=y_pred-Y_train.iloc[i]\n",
    "        e.append(error)\n",
    "\n",
    "\n",
    "        w0_actualizada=w0[i]+(eta*error*X_train.iloc[i,0])\n",
    "        w_actualizada=w[i]+(eta*error*X_train.iloc[i,1])\n",
    "\n",
    "\n",
    "        w.append(w_actualizada)\n",
    "        w0.append(w0_actualizada)\n",
    "        \n",
    "\n",
    "        y_nuevo=w0_actualizada*X_train.iloc[i,0]+ w_actualizada*X_train.iloc[i,1]\n",
    "        nuevo_error= y_nuevo-Y_train.iloc[i]\n",
    "\n",
    "    return w0[len(X_train)-1],w[len(X_train)-1]"
   ]
  },
  {
   "cell_type": "code",
   "execution_count": 10,
   "metadata": {
    "collapsed": false
   },
   "outputs": [],
   "source": [
    "def errormc(X_train,y_train,w,w0):\n",
    "    errormc=0.0\n",
    "    estimacion=[]\n",
    "    for x in range(len(X_train)):\n",
    "        esti=X_train.iloc[x,1]*w+w0\n",
    "        estimacion.append(esti)\n",
    "        errormc=(errormc+((esti-Y_train.iloc[x])**2)/len(X_train))\n",
    "    return (errormc,estimacion)"
   ]
  },
  {
   "cell_type": "markdown",
   "metadata": {},
   "source": [
    "Para la correcta ejecución de la función algoritmo Insertamos la columna de 1 a la matriz, ya que la ."
   ]
  },
  {
   "cell_type": "code",
   "execution_count": 11,
   "metadata": {
    "collapsed": false
   },
   "outputs": [],
   "source": [
    "X_train.insert(0,'X0', 1)"
   ]
  },
  {
   "cell_type": "code",
   "execution_count": 12,
   "metadata": {
    "collapsed": false
   },
   "outputs": [
    {
     "name": "stdout",
     "output_type": "stream",
     "text": [
      "Los coeficientes son:(inf, inf)\n"
     ]
    }
   ],
   "source": [
    "Coeficientes = algoritmo(X_train, Y_train, 0.01)\n",
    "print (\"Los coeficientes son:\"+ str(Coeficientes))"
   ]
  },
  {
   "cell_type": "markdown",
   "metadata": {},
   "source": [
    "Los resultados de los coeficientes obtenidos no son válidos (se probó con diferentes valores de eta, por lo que se realiza normalización a los datos."
   ]
  },
  {
   "cell_type": "code",
   "execution_count": 13,
   "metadata": {
    "collapsed": false
   },
   "outputs": [],
   "source": [
    "del X_train['X0']"
   ]
  },
  {
   "cell_type": "code",
   "execution_count": 14,
   "metadata": {
    "collapsed": true
   },
   "outputs": [],
   "source": [
    "X_scaler = preprocessing.StandardScaler().fit(X_train)\n",
    "Y_scaler = preprocessing.StandardScaler().fit(Y_train)"
   ]
  },
  {
   "cell_type": "code",
   "execution_count": 15,
   "metadata": {
    "collapsed": true
   },
   "outputs": [],
   "source": [
    "Xscaler = X_scaler.transform(X_train)\n",
    "Yscaler = Y_scaler.transform(Y_train)"
   ]
  },
  {
   "cell_type": "code",
   "execution_count": 16,
   "metadata": {
    "collapsed": false
   },
   "outputs": [],
   "source": [
    "Xscaler = pd.DataFrame(Xscaler)\n",
    "Yscaler = pd.DataFrame(Yscaler)"
   ]
  },
  {
   "cell_type": "code",
   "execution_count": 17,
   "metadata": {
    "collapsed": false
   },
   "outputs": [
    {
     "data": {
      "text/plain": [
       "<matplotlib.collections.PathCollection at 0x7fb110c00290>"
      ]
     },
     "execution_count": 17,
     "metadata": {},
     "output_type": "execute_result"
    },
    {
     "data": {
      "image/png": "[encoded data removed]",
      "text/plain": [
       "<matplotlib.figure.Figure at 0x7fb110b2b610>"
      ]
     },
     "metadata": {},
     "output_type": "display_data"
    }
   ],
   "source": [
    "plt.scatter(Xscaler[0], Yscaler[0])"
   ]
  },
  {
   "cell_type": "code",
   "execution_count": 18,
   "metadata": {
    "collapsed": true
   },
   "outputs": [],
   "source": [
    "Xscaler.insert(0,'X0', 1)"
   ]
  },
  {
   "cell_type": "code",
   "execution_count": 19,
   "metadata": {
    "collapsed": false
   },
   "outputs": [
    {
     "data": {
      "text/html": [
       "<div>\n",
       "<table border=\"1\" class=\"dataframe\">\n",
       "  <thead>\n",
       "    <tr style=\"text-align: right;\">\n",
       "      <th></th>\n",
       "      <th>X0</th>\n",
       "      <th>0</th>\n",
       "    </tr>\n",
       "  </thead>\n",
       "  <tbody>\n",
       "    <tr>\n",
       "      <th>0</th>\n",
       "      <td>1</td>\n",
       "      <td>0.841290</td>\n",
       "    </tr>\n",
       "    <tr>\n",
       "      <th>1</th>\n",
       "      <td>1</td>\n",
       "      <td>-1.365239</td>\n",
       "    </tr>\n",
       "    <tr>\n",
       "      <th>2</th>\n",
       "      <td>1</td>\n",
       "      <td>-0.060123</td>\n",
       "    </tr>\n",
       "  </tbody>\n",
       "</table>\n",
       "</div>"
      ],
      "text/plain": [
       "   X0         0\n",
       "0   1  0.841290\n",
       "1   1 -1.365239\n",
       "2   1 -0.060123"
      ]
     },
     "execution_count": 19,
     "metadata": {},
     "output_type": "execute_result"
    }
   ],
   "source": [
    "Xscaler.head(3)"
   ]
  },
  {
   "cell_type": "code",
   "execution_count": 20,
   "metadata": {
    "collapsed": false
   },
   "outputs": [
    {
     "data": {
      "text/html": [
       "<div>\n",
       "<table border=\"1\" class=\"dataframe\">\n",
       "  <thead>\n",
       "    <tr style=\"text-align: right;\">\n",
       "      <th></th>\n",
       "      <th>0</th>\n",
       "    </tr>\n",
       "  </thead>\n",
       "  <tbody>\n",
       "    <tr>\n",
       "      <th>0</th>\n",
       "      <td>1.452068</td>\n",
       "    </tr>\n",
       "    <tr>\n",
       "      <th>1</th>\n",
       "      <td>-1.714736</td>\n",
       "    </tr>\n",
       "    <tr>\n",
       "      <th>2</th>\n",
       "      <td>-0.109909</td>\n",
       "    </tr>\n",
       "  </tbody>\n",
       "</table>\n",
       "</div>"
      ],
      "text/plain": [
       "          0\n",
       "0  1.452068\n",
       "1 -1.714736\n",
       "2 -0.109909"
      ]
     },
     "execution_count": 20,
     "metadata": {},
     "output_type": "execute_result"
    }
   ],
   "source": [
    "Yscaler.head(3)"
   ]
  },
  {
   "cell_type": "code",
   "execution_count": 22,
   "metadata": {
    "collapsed": false
   },
   "outputs": [
    {
     "name": "stdout",
     "output_type": "stream",
     "text": [
      "Los coeficientes con variables estandarizadas son :(0    2072.059334\n",
      "dtype: float64, 0    120.969859\n",
      "dtype: float64)\n"
     ]
    }
   ],
   "source": [
    "Coeficientes = algoritmo(Xscaler, Yscaler, 0.01)\n",
    "print (\"Los coeficientes con variables estandarizadas son :\"+ str(Coeficientes))"
   ]
  },
  {
   "cell_type": "code",
   "execution_count": 24,
   "metadata": {
    "collapsed": false
   },
   "outputs": [],
   "source": [
    "cero=sum(Coeficientes[0])\n",
    "uno=sum(Coeficientes[1])"
   ]
  },
  {
   "cell_type": "code",
   "execution_count": 26,
   "metadata": {
    "collapsed": false
   },
   "outputs": [
    {
     "data": {
      "text/plain": [
       "2072.0593335945809"
      ]
     },
     "execution_count": 26,
     "metadata": {},
     "output_type": "execute_result"
    }
   ],
   "source": [
    "cero"
   ]
  },
  {
   "cell_type": "code",
   "execution_count": 27,
   "metadata": {
    "collapsed": false
   },
   "outputs": [],
   "source": [
    "errorcm,estimacion=errormc(Xscaler,Yscaler,uno,cero)"
   ]
  },
  {
   "cell_type": "code",
   "execution_count": 28,
   "metadata": {
    "collapsed": false
   },
   "outputs": [
    {
     "data": {
      "image/png": "[encoded data removed]",
      "text/plain": [
       "<matplotlib.figure.Figure at 0x7fb110b84890>"
      ]
     },
     "metadata": {},
     "output_type": "display_data"
    }
   ],
   "source": [
    "plt.scatter(Xscaler[0], Yscaler[0], color = 'blue')\n",
    "plt.plot(Xscaler[0], estimacion, color = 'red', linewidth = 2)\n",
    "plt.show()"
   ]
  },
  {
   "cell_type": "code",
   "execution_count": 29,
   "metadata": {
    "collapsed": false
   },
   "outputs": [],
   "source": [
    "error=[]\n",
    "w0_final=[]\n",
    "w1_final=[]\n",
    "for i in range(50):\n",
    "    X_train, X_test, Y_train, Y_test = train_test_split(df[df.columns[0:-1]],df[df.columns[-1]], test_size = 0.25)\n",
    "    X_scaler = preprocessing.StandardScaler().fit(X_train)\n",
    "    Y_scaler = preprocessing.StandardScaler().fit(Y_train)\n",
    "    Xscaler = X_scaler.transform(X_train)\n",
    "    Yscaler = Y_scaler.transform(Y_train)\n",
    "    Xscaler = pd.DataFrame(Xscaler)\n",
    "    Yscaler = pd.DataFrame(Yscaler)\n",
    "    Xscaler.insert(0,'X0', 1)\n",
    "    \n",
    "    w=algoritmo(Xscaler, Yscaler, 0.01)\n",
    "    w_0=sum(w[0])\n",
    "    w0_final.append(w_0)\n",
    "    w_1=sum(w[1])\n",
    "    w1_final.append(w_1)\n",
    "    errr,esss=errormc(Xscaler,Yscaler,w_1,w_0)\n",
    "    error.append(errr)"
   ]
  },
  {
   "cell_type": "code",
   "execution_count": 30,
   "metadata": {
    "collapsed": false
   },
   "outputs": [
    {
     "data": {
      "text/plain": [
       "[3945134.5965407141,\n",
       " 3947397.6006724038,\n",
       " 3939045.084869009,\n",
       " 4038994.0635899422,\n",
       " 4046286.3985784259,\n",
       " 3851666.2973901397,\n",
       " 4168363.4281736538,\n",
       " 4058159.1651341924,\n",
       " 4065881.5825161492,\n",
       " 4051583.5514953341,\n",
       " 4132373.7407551869,\n",
       " 4254818.2430871632,\n",
       " 4042625.9910530238,\n",
       " 4076208.1339966641,\n",
       " 4190673.4845630541,\n",
       " 4206272.6376674548,\n",
       " 4190235.7243873025,\n",
       " 4107318.3584871227,\n",
       " 4197737.4346762886,\n",
       " 4254722.7832423113,\n",
       " 3987897.9746284969,\n",
       " 4232447.8484875709,\n",
       " 4022987.7454623794,\n",
       " 4204426.5790454708,\n",
       " 3922008.8513312857,\n",
       " 3996238.5226611644,\n",
       " 3986289.553653108,\n",
       " 4083580.9316607108,\n",
       " 4018278.5648819422,\n",
       " 4269933.3799104923,\n",
       " 4043317.6798640075,\n",
       " 3950023.5058559412,\n",
       " 4026646.191545838,\n",
       " 3850551.6585918088,\n",
       " 4100989.5914486083,\n",
       " 4107017.7907821373,\n",
       " 4094797.6177117769,\n",
       " 4197252.7827001112,\n",
       " 4194959.3989220699,\n",
       " 4171739.9087849795,\n",
       " 4126811.6970942682,\n",
       " 4091081.8469169624,\n",
       " 4053816.2667404888,\n",
       " 4195535.442814447,\n",
       " 4013289.120969079,\n",
       " 4010468.3246140224,\n",
       " 3957784.0426492267,\n",
       " 4080776.9907881543,\n",
       " 4006418.5484603499,\n",
       " 4011792.2814670871]"
      ]
     },
     "execution_count": 30,
     "metadata": {},
     "output_type": "execute_result"
    }
   ],
   "source": [
    "error"
   ]
  },
  {
   "cell_type": "code",
   "execution_count": 31,
   "metadata": {
    "collapsed": false
   },
   "outputs": [
    {
     "data": {
      "text/plain": [
       "[<matplotlib.lines.Line2D at 0x7fb110973ed0>]"
      ]
     },
     "execution_count": 31,
     "metadata": {},
     "output_type": "execute_result"
    },
    {
     "data": {
      "image/png": "[encoded data removed]",
      "text/plain": [
       "<matplotlib.figure.Figure at 0x7fb110aaef50>"
      ]
     },
     "metadata": {},
     "output_type": "display_data"
    }
   ],
   "source": [
    "plt.plot(error)"
   ]
  },
  {
   "cell_type": "code",
   "execution_count": 32,
   "metadata": {
    "collapsed": true
   },
   "outputs": [],
   "source": [
    "error=[]\n",
    "w0_final=[]\n",
    "w1_final=[]\n",
    "for i in range(20):\n",
    "    X_train, X_test, Y_train, Y_test = train_test_split(df[df.columns[0:-1]],df[df.columns[-1]], test_size = 0.25)\n",
    "    X_scaler = preprocessing.StandardScaler().fit(X_train)\n",
    "    Y_scaler = preprocessing.StandardScaler().fit(Y_train)\n",
    "    Xscaler = X_scaler.transform(X_train)\n",
    "    Yscaler = Y_scaler.transform(Y_train)\n",
    "    Xscaler = pd.DataFrame(Xscaler)\n",
    "    Yscaler = pd.DataFrame(Yscaler)\n",
    "    Xscaler.insert(0,'X0', 1)\n",
    "    \n",
    "    w=algoritmo(Xscaler, Yscaler, 0.5)\n",
    "    w_0=sum(w[0])\n",
    "    w0_final.append(w_0)\n",
    "    w_1=sum(w[1])\n",
    "    w1_final.append(w_1)\n",
    "    errr,esss=errormc(Xscaler,Yscaler,w_1,w_0)\n",
    "    error.append(errr)"
   ]
  },
  {
   "cell_type": "code",
   "execution_count": 33,
   "metadata": {
    "collapsed": false
   },
   "outputs": [
    {
     "data": {
      "text/plain": [
       "[<matplotlib.lines.Line2D at 0x7fb1109a9650>]"
      ]
     },
     "execution_count": 33,
     "metadata": {},
     "output_type": "execute_result"
    },
    {
     "data": {
      "image/png": "[encoded data removed]",
      "text/plain": [
       "<matplotlib.figure.Figure at 0x7fb110b51890>"
      ]
     },
     "metadata": {},
     "output_type": "display_data"
    }
   ],
   "source": [
    "plt.plot(error)"
   ]
  },
  {
   "cell_type": "code",
   "execution_count": null,
   "metadata": {
    "collapsed": true
   },
   "outputs": [],
   "source": []
  }
 ],
 "metadata": {
  "kernelspec": {
   "display_name": "Python [Root]",
   "language": "python",
   "name": "Python [Root]"
  },
  "language_info": {
   "codemirror_mode": {
    "name": "ipython",
    "version": 3
   },
   "file_extension": ".py",
   "mimetype": "text/x-python",
   "name": "python",
   "nbconvert_exporter": "python",
   "pygments_lexer": "ipython3",
   "version": "3.5.2"
  }
 },
 "nbformat": 4,
 "nbformat_minor": 0
}
